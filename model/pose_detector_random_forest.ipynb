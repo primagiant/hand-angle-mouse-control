{
 "cells": [
  {
   "cell_type": "code",
   "execution_count": 18,
   "id": "initial_id",
   "metadata": {
    "ExecuteTime": {
     "end_time": "2025-01-12T08:34:58.056369Z",
     "start_time": "2025-01-12T08:34:58.052944Z"
    },
    "collapsed": true
   },
   "outputs": [],
   "source": [
    "import pandas as pd\n",
    "import numpy as np\n",
    "import tensorflow as tf\n",
    "import tensorflow_decision_forests as tfdf\n",
    "import matplotlib.pyplot as plt\n",
    "import seaborn as sns\n",
    "from sklearn.model_selection import train_test_split\n",
    "from sklearn.preprocessing import StandardScaler\n",
    "from sklearn.metrics import confusion_matrix, classification_report"
   ]
  },
  {
   "cell_type": "code",
   "execution_count": 19,
   "id": "81ecd7773e8b1b1c",
   "metadata": {
    "ExecuteTime": {
     "end_time": "2025-01-12T08:34:59.794067Z",
     "start_time": "2025-01-12T08:34:59.791061Z"
    }
   },
   "outputs": [],
   "source": [
    "# Load dataset\n",
    "file_path = \"random.csv\"  # Sesuaikan dengan path file Anda\n",
    "df = pd.read_csv(file_path)"
   ]
  },
  {
   "cell_type": "code",
   "execution_count": 4,
   "id": "e69571db85feea87",
   "metadata": {
    "ExecuteTime": {
     "end_time": "2025-01-12T08:35:02.330514Z",
     "start_time": "2025-01-12T08:35:02.327777Z"
    }
   },
   "outputs": [],
   "source": [
    "# Menggunakan label angka (kolom pertama)\n",
    "y = df.iloc[:, 0].values"
   ]
  },
  {
   "cell_type": "code",
   "execution_count": 22,
   "id": "52243f31",
   "metadata": {},
   "outputs": [],
   "source": [
    "# Menggunakan semua kolom kecuali label sebagai fitur\n",
    "X = df.iloc[:, 2:].values"
   ]
  },
  {
   "cell_type": "code",
   "execution_count": 24,
   "id": "838ce49e",
   "metadata": {},
   "outputs": [],
   "source": [
    "# Normalisasi fitur\n",
    "scaler = StandardScaler()\n",
    "X_scaled = scaler.fit_transform(X)"
   ]
  },
  {
   "cell_type": "code",
   "execution_count": 25,
   "id": "6f3ad82d",
   "metadata": {},
   "outputs": [],
   "source": [
    "# Bagi data menjadi train dan test (80-20 split)\n",
    "X_train, X_test, y_train, y_test = train_test_split(X_scaled, y, test_size=0.2, random_state=42)"
   ]
  },
  {
   "cell_type": "code",
   "execution_count": 33,
   "id": "f8dc06cd",
   "metadata": {},
   "outputs": [],
   "source": [
    "# Konversi ke format TensorFlow Dataset\n",
    "def dataframe_to_tf_dataset(features, labels):\n",
    "    dataset = tf.data.Dataset.from_tensor_slices((features, labels))\n",
    "    return dataset.batch(256)\n",
    "\n",
    "dataset_train = dataframe_to_tf_dataset(X_train, y_train)\n",
    "dataset_test = dataframe_to_tf_dataset(X_test, y_test)"
   ]
  },
  {
   "cell_type": "code",
   "execution_count": 34,
   "id": "8663129b",
   "metadata": {},
   "outputs": [
    {
     "name": "stdout",
     "output_type": "stream",
     "text": [
      "Use /tmp/tmpdgxux2lv as temporary training directory\n"
     ]
    }
   ],
   "source": [
    "# Definisi model Random Forest dengan TF-DF\n",
    "model = tfdf.keras.RandomForestModel(task=tfdf.keras.Task.CLASSIFICATION)"
   ]
  },
  {
   "cell_type": "code",
   "execution_count": 35,
   "id": "8333b18f",
   "metadata": {},
   "outputs": [
    {
     "name": "stdout",
     "output_type": "stream",
     "text": [
      "Reading training dataset...\n",
      "Training dataset read in 0:00:00.240067. Found 66824 examples.\n",
      "Training model...\n"
     ]
    },
    {
     "name": "stderr",
     "output_type": "stream",
     "text": [
      "I0000 00:00:1739098225.140822  105253 kernel.cc:782] Start Yggdrasil model training\n",
      "I0000 00:00:1739098225.140853  105253 kernel.cc:783] Collect training examples\n",
      "I0000 00:00:1739098225.140863  105253 kernel.cc:795] Dataspec guide:\n",
      "column_guides {\n",
      "  column_name_pattern: \"^__LABEL$\"\n",
      "  type: CATEGORICAL\n",
      "  categorial {\n",
      "    min_vocab_frequency: 0\n",
      "    max_vocab_count: -1\n",
      "  }\n",
      "}\n",
      "default_column_guide {\n",
      "  categorial {\n",
      "    max_vocab_count: 2000\n",
      "  }\n",
      "  discretized_numerical {\n",
      "    maximum_num_bins: 255\n",
      "  }\n",
      "}\n",
      "ignore_columns_without_guides: false\n",
      "detect_numerical_as_discretized_numerical: false\n",
      "\n",
      "I0000 00:00:1739098225.140936  105253 kernel.cc:401] Number of batches: 262\n",
      "I0000 00:00:1739098225.140942  105253 kernel.cc:402] Number of examples: 66824\n",
      "I0000 00:00:1739098225.144575  105253 kernel.cc:802] Training dataset:\n",
      "Number of records: 66824\n",
      "Number of columns: 10\n",
      "\n",
      "Number of columns by type:\n",
      "\tNUMERICAL: 9 (90%)\n",
      "\tCATEGORICAL: 1 (10%)\n",
      "\n",
      "Columns:\n",
      "\n",
      "NUMERICAL: 9 (90%)\n",
      "\t1: \"data:0.0\" NUMERICAL mean:0.00051161 min:-1.09771 max:5.61551 sd:1.00117\n",
      "\t2: \"data:0.1\" NUMERICAL mean:0.000111996 min:-1.65224 max:10.0922 sd:0.998665\n",
      "\t3: \"data:0.2\" NUMERICAL mean:0.00349567 min:-1.39745 max:10.0513 sd:1.00318\n",
      "\t4: \"data:0.3\" NUMERICAL mean:0.000565238 min:-1.85811 max:10.0034 sd:1.00089\n",
      "\t5: \"data:0.4\" NUMERICAL mean:-0.000912816 min:-1.58548 max:1.86565 sd:1.00067\n",
      "\t6: \"data:0.5\" NUMERICAL mean:-0.000482526 min:-0.644059 max:4.82821 sd:0.999521\n",
      "\t7: \"data:0.6\" NUMERICAL mean:-0.00130059 min:-0.645627 max:3.60493 sd:0.999524\n",
      "\t8: \"data:0.7\" NUMERICAL mean:-0.000224092 min:-1.00867 max:2.44722 sd:1.00123\n",
      "\t9: \"data:0.8\" NUMERICAL mean:-0.00155069 min:-1.15571 max:2.05347 sd:0.999817\n",
      "\n",
      "CATEGORICAL: 1 (10%)\n",
      "\t0: \"__LABEL\" CATEGORICAL integerized vocab-size:8 no-ood-item\n",
      "\n",
      "Terminology:\n",
      "\tnas: Number of non-available (i.e. missing) values.\n",
      "\tood: Out of dictionary.\n",
      "\tmanually-defined: Attribute whose type is manually defined by the user, i.e., the type was not automatically inferred.\n",
      "\ttokenized: The attribute value is obtained through tokenization.\n",
      "\thas-dict: The attribute is attached to a string dictionary e.g. a categorical attribute stored as a string.\n",
      "\tvocab-size: Number of unique values.\n",
      "\n",
      "I0000 00:00:1739098225.144615  105253 kernel.cc:818] Configure learner\n",
      "I0000 00:00:1739098225.144773  105253 kernel.cc:831] Training config:\n",
      "learner: \"RANDOM_FOREST\"\n",
      "features: \"^data:0\\\\.0$\"\n",
      "features: \"^data:0\\\\.1$\"\n",
      "features: \"^data:0\\\\.2$\"\n",
      "features: \"^data:0\\\\.3$\"\n",
      "features: \"^data:0\\\\.4$\"\n",
      "features: \"^data:0\\\\.5$\"\n",
      "features: \"^data:0\\\\.6$\"\n",
      "features: \"^data:0\\\\.7$\"\n",
      "features: \"^data:0\\\\.8$\"\n",
      "label: \"^__LABEL$\"\n",
      "task: CLASSIFICATION\n",
      "random_seed: 123456\n",
      "metadata {\n",
      "  framework: \"TF Keras\"\n",
      "}\n",
      "pure_serving_model: false\n",
      "[yggdrasil_decision_forests.model.random_forest.proto.random_forest_config] {\n",
      "  num_trees: 300\n",
      "  decision_tree {\n",
      "    max_depth: 16\n",
      "    min_examples: 5\n",
      "    in_split_min_examples_check: true\n",
      "    keep_non_leaf_label_distribution: true\n",
      "    num_candidate_attributes: 0\n",
      "    missing_value_policy: GLOBAL_IMPUTATION\n",
      "    allow_na_conditions: false\n",
      "    categorical_set_greedy_forward {\n",
      "      sampling: 0.1\n",
      "      max_num_items: -1\n",
      "      min_item_frequency: 1\n",
      "    }\n",
      "    growing_strategy_local {\n",
      "    }\n",
      "    categorical {\n",
      "      cart {\n",
      "      }\n",
      "    }\n",
      "    axis_aligned_split {\n",
      "    }\n",
      "    internal {\n",
      "      sorting_strategy: PRESORTED\n",
      "    }\n",
      "    uplift {\n",
      "      min_examples_in_treatment: 5\n",
      "      split_score: KULLBACK_LEIBLER\n",
      "    }\n",
      "  }\n",
      "  winner_take_all_inference: true\n",
      "  compute_oob_performances: true\n",
      "  compute_oob_variable_importances: false\n",
      "  num_oob_variable_importances_permutations: 1\n",
      "  bootstrap_training_dataset: true\n",
      "  bootstrap_size_ratio: 1\n",
      "  adapt_bootstrap_size_ratio_for_maximum_training_duration: false\n",
      "  sampling_with_replacement: true\n",
      "}\n",
      "\n",
      "I0000 00:00:1739098225.144835  105253 kernel.cc:834] Deployment config:\n",
      "cache_path: \"/tmp/tmpdgxux2lv/working_cache\"\n",
      "num_threads: 12\n",
      "try_resume_training: true\n",
      "\n",
      "I0000 00:00:1739098225.144964  117996 kernel.cc:895] Train model\n",
      "I0000 00:00:1739098225.145036  117996 random_forest.cc:427] Training random forest on 66824 example(s) and 9 feature(s).\n",
      "I0000 00:00:1739098225.303939  118010 random_forest.cc:811] Training of tree  1/300 (tree index:5) done accuracy:0.912404 logloss:3.15727\n",
      "I0000 00:00:1739098225.403807  118014 random_forest.cc:811] Training of tree  11/300 (tree index:8) done accuracy:0.939699 logloss:0.9221\n",
      "I0000 00:00:1739098225.547945  118008 random_forest.cc:811] Training of tree  21/300 (tree index:20) done accuracy:0.951268 logloss:0.527566\n",
      "I0000 00:00:1739098225.686422  118016 random_forest.cc:811] Training of tree  31/300 (tree index:30) done accuracy:0.953969 logloss:0.409325\n",
      "I0000 00:00:1739098225.831113  118015 random_forest.cc:811] Training of tree  41/300 (tree index:41) done accuracy:0.955884 logloss:0.339983\n",
      "I0000 00:00:1739098225.970813  118011 random_forest.cc:811] Training of tree  51/300 (tree index:49) done accuracy:0.956587 logloss:0.306028\n",
      "I0000 00:00:1739098226.116713  118013 random_forest.cc:811] Training of tree  61/300 (tree index:60) done accuracy:0.956513 logloss:0.28453\n",
      "I0000 00:00:1739098226.258615  118014 random_forest.cc:811] Training of tree  71/300 (tree index:70) done accuracy:0.957006 logloss:0.264905\n",
      "I0000 00:00:1739098226.392028  118017 random_forest.cc:811] Training of tree  81/300 (tree index:80) done accuracy:0.95744 logloss:0.255711\n",
      "I0000 00:00:1739098226.544022  118007 random_forest.cc:811] Training of tree  91/300 (tree index:90) done accuracy:0.957785 logloss:0.246388\n",
      "I0000 00:00:1739098226.673133  118015 random_forest.cc:811] Training of tree  101/300 (tree index:100) done accuracy:0.958024 logloss:0.240884\n",
      "I0000 00:00:1739098226.818235  118006 random_forest.cc:811] Training of tree  111/300 (tree index:110) done accuracy:0.958204 logloss:0.230676\n",
      "I0000 00:00:1739098226.962372  118012 random_forest.cc:811] Training of tree  121/300 (tree index:120) done accuracy:0.958293 logloss:0.22369\n",
      "I0000 00:00:1739098227.112921  118013 random_forest.cc:811] Training of tree  131/300 (tree index:130) done accuracy:0.958518 logloss:0.219114\n",
      "I0000 00:00:1739098227.269166  118017 random_forest.cc:811] Training of tree  141/300 (tree index:141) done accuracy:0.958608 logloss:0.214164\n",
      "I0000 00:00:1739098227.401641  118015 random_forest.cc:811] Training of tree  151/300 (tree index:150) done accuracy:0.958473 logloss:0.210368\n",
      "I0000 00:00:1739098227.546466  118007 random_forest.cc:811] Training of tree  161/300 (tree index:161) done accuracy:0.958503 logloss:0.208043\n",
      "I0000 00:00:1739098227.687934  118011 random_forest.cc:811] Training of tree  171/300 (tree index:170) done accuracy:0.958578 logloss:0.20595\n",
      "I0000 00:00:1739098227.818007  118012 random_forest.cc:811] Training of tree  181/300 (tree index:179) done accuracy:0.958653 logloss:0.202587\n",
      "I0000 00:00:1739098227.962920  118010 random_forest.cc:811] Training of tree  191/300 (tree index:191) done accuracy:0.958518 logloss:0.199587\n",
      "I0000 00:00:1739098228.101005  118013 random_forest.cc:811] Training of tree  201/300 (tree index:201) done accuracy:0.958668 logloss:0.196607\n",
      "I0000 00:00:1739098228.252045  118015 random_forest.cc:811] Training of tree  211/300 (tree index:211) done accuracy:0.958443 logloss:0.192326\n",
      "I0000 00:00:1739098228.384041  118007 random_forest.cc:811] Training of tree  221/300 (tree index:220) done accuracy:0.958503 logloss:0.19127\n",
      "I0000 00:00:1739098228.533442  118006 random_forest.cc:811] Training of tree  231/300 (tree index:230) done accuracy:0.958668 logloss:0.190317\n",
      "I0000 00:00:1739098228.673389  118008 random_forest.cc:811] Training of tree  241/300 (tree index:240) done accuracy:0.958727 logloss:0.189297\n",
      "I0000 00:00:1739098228.800536  118010 random_forest.cc:811] Training of tree  251/300 (tree index:250) done accuracy:0.958757 logloss:0.186852\n",
      "I0000 00:00:1739098228.930426  118017 random_forest.cc:811] Training of tree  261/300 (tree index:260) done accuracy:0.958787 logloss:0.18632\n",
      "I0000 00:00:1739098229.075557  118011 random_forest.cc:811] Training of tree  271/300 (tree index:269) done accuracy:0.958608 logloss:0.185704\n",
      "I0000 00:00:1739098229.207249  118006 random_forest.cc:811] Training of tree  281/300 (tree index:280) done accuracy:0.958742 logloss:0.183332\n",
      "I0000 00:00:1739098229.343213  118012 random_forest.cc:811] Training of tree  291/300 (tree index:290) done accuracy:0.958742 logloss:0.183247\n",
      "I0000 00:00:1739098229.441298  118008 random_forest.cc:811] Training of tree  300/300 (tree index:299) done accuracy:0.958668 logloss:0.182251\n",
      "I0000 00:00:1739098229.441618  117996 random_forest.cc:891] Final OOB metrics: accuracy:0.958668 logloss:0.182251\n",
      "I0000 00:00:1739098229.724930  117996 kernel.cc:926] Export model in log directory: /tmp/tmpdgxux2lv with prefix 951927cc99aa4ac7\n",
      "I0000 00:00:1739098230.491691  117996 kernel.cc:944] Save model in resources\n",
      "I0000 00:00:1739098230.493860  105253 abstract_model.cc:914] Model self evaluation:\n",
      "Number of predictions (without weights): 66824\n",
      "Number of predictions (with weights): 66824\n",
      "Task: CLASSIFICATION\n",
      "Label: __LABEL\n",
      "\n",
      "Accuracy: 0.958668  CI95[W][0.957379 0.959927]\n",
      "LogLoss: : 0.182251\n",
      "ErrorRate: : 0.0413325\n",
      "\n",
      "Default Accuracy: : 0.204881\n",
      "Default LogLoss: : 1.93171\n",
      "Default ErrorRate: : 0.795119\n",
      "\n",
      "Confusion Table:\n",
      "truth\\prediction\n",
      "      1     2     3     4     5     6      7\n",
      "1  8526    23    34     0     3     6     80\n",
      "2    14  8487    29     0   201    43     84\n",
      "3    49   148  8284     0   121    99    210\n",
      "4     2     0     1  8766     3     0    155\n",
      "5     0   121    49     0  8717     6     74\n",
      "6    12    32    81     1    50  8552     70\n",
      "7   131   204   235   264    47    80  12730\n",
      "Total: 66824\n",
      "\n",
      "\n",
      "2025-02-09 18:50:30.808631: I tensorflow_decision_forests/tensorflow/ops/inference/kernel.cc:1206] Loading model from path /tmp/tmpdgxux2lv/model/ with prefix 951927cc99aa4ac7\n"
     ]
    },
    {
     "name": "stdout",
     "output_type": "stream",
     "text": [
      "Model trained in 0:00:08.464758\n",
      "Compiling model...\n"
     ]
    },
    {
     "name": "stderr",
     "output_type": "stream",
     "text": [
      "I0000 00:00:1739098233.452139  105253 decision_forest.cc:761] Model loaded with 300 root(s), 1141642 node(s), and 9 input feature(s).\n",
      "I0000 00:00:1739098233.452178  105253 abstract_model.cc:1404] Engine \"RandomForestGeneric\" built\n",
      "2025-02-09 18:50:33.452192: I tensorflow_decision_forests/tensorflow/ops/inference/kernel.cc:1035] Use fast generic engine\n"
     ]
    },
    {
     "name": "stdout",
     "output_type": "stream",
     "text": [
      "Model compiled.\n"
     ]
    },
    {
     "data": {
      "text/plain": [
       "<tf_keras.src.callbacks.History at 0x7f3d200e4af0>"
      ]
     },
     "execution_count": 35,
     "metadata": {},
     "output_type": "execute_result"
    }
   ],
   "source": [
    "# Latih model\n",
    "model.fit(x=dataset_train)"
   ]
  },
  {
   "cell_type": "code",
   "execution_count": 59,
   "id": "bfa8ec5f",
   "metadata": {},
   "outputs": [
    {
     "name": "stdout",
     "output_type": "stream",
     "text": [
      "INFO:tensorflow:Assets written to: random_forest_model/assets\n"
     ]
    },
    {
     "name": "stderr",
     "output_type": "stream",
     "text": [
      "INFO:tensorflow:Assets written to: random_forest_model/assets\n"
     ]
    },
    {
     "data": {
      "text/plain": [
       "['scaler.pkl']"
      ]
     },
     "execution_count": 59,
     "metadata": {},
     "output_type": "execute_result"
    }
   ],
   "source": [
    "# Simpan model\n",
    "import joblib\n",
    "model.save(\"random_forest_model\")\n",
    "joblib.dump(model, 'random_forest_model.pkl')\n",
    "joblib.dump(scaler, \"scaler.pkl\")"
   ]
  },
  {
   "cell_type": "code",
   "execution_count": 47,
   "id": "6f7a6c43",
   "metadata": {},
   "outputs": [
    {
     "name": "stdout",
     "output_type": "stream",
     "text": [
      "523/523 [==============================] - 3s 6ms/step - loss: 0.0000e+00\n",
      "Test Accuracy: 0.0000\n"
     ]
    }
   ],
   "source": [
    "# Evaluasi model\n",
    "evaluation = model.evaluate(X_test, y_test)\n",
    "print(f\"Test Accuracy: {evaluation:.4f}\")"
   ]
  },
  {
   "cell_type": "code",
   "execution_count": 48,
   "id": "f55c2145",
   "metadata": {},
   "outputs": [
    {
     "name": "stdout",
     "output_type": "stream",
     "text": [
      "523/523 [==============================] - 3s 6ms/step\n"
     ]
    }
   ],
   "source": [
    "# Prediksi pada data uji\n",
    "y_pred = model.predict(X_test)\n",
    "y_pred_classes = np.argmax(y_pred, axis=1)"
   ]
  },
  {
   "cell_type": "code",
   "execution_count": 51,
   "id": "017eb418",
   "metadata": {},
   "outputs": [
    {
     "data": {
      "text/plain": [
       "array([1, 1, 1, ..., 4, 6, 0])"
      ]
     },
     "execution_count": 51,
     "metadata": {},
     "output_type": "execute_result"
    }
   ],
   "source": [
    "y_pred_classes"
   ]
  },
  {
   "cell_type": "code",
   "execution_count": 49,
   "id": "211bb21d",
   "metadata": {},
   "outputs": [
    {
     "data": {
      "image/png": "[encoded data removed]",
      "text/plain": [
       "<Figure size 800x600 with 2 Axes>"
      ]
     },
     "metadata": {},
     "output_type": "display_data"
    }
   ],
   "source": [
    "# Confusion Matrix\n",
    "conf_matrix = confusion_matrix(y_test, y_pred_classes)\n",
    "plt.figure(figsize=(8, 6))\n",
    "sns.heatmap(conf_matrix, annot=True, fmt='d', cmap='Blues')\n",
    "plt.xlabel(\"Predicted Label\")\n",
    "plt.ylabel(\"True Label\")\n",
    "plt.title(\"Confusion Matrix\")\n",
    "plt.show()"
   ]
  },
  {
   "cell_type": "code",
   "execution_count": 15,
   "id": "ad2b1923",
   "metadata": {},
   "outputs": [
    {
     "name": "stdout",
     "output_type": "stream",
     "text": [
      "Classification Report:\n",
      "              precision    recall  f1-score   support\n",
      "\n",
      "           0       0.98      0.98      0.98      2183\n",
      "           1       0.94      0.97      0.95      2210\n",
      "           2       0.95      0.93      0.94      2190\n",
      "           3       0.97      0.98      0.97      2182\n",
      "           4       0.96      0.97      0.96      2256\n",
      "           5       0.98      0.97      0.97      2282\n",
      "           6       0.95      0.93      0.94      3404\n",
      "\n",
      "    accuracy                           0.96     16707\n",
      "   macro avg       0.96      0.96      0.96     16707\n",
      "weighted avg       0.96      0.96      0.96     16707\n",
      "\n"
     ]
    }
   ],
   "source": [
    "# Classification Report\n",
    "print(\"Classification Report:\")\n",
    "print(classification_report(y_test, y_pred_classes))"
   ]
  },
  {
   "cell_type": "code",
   "execution_count": 85,
   "id": "b83e8c32",
   "metadata": {},
   "outputs": [
    {
     "name": "stderr",
     "output_type": "stream",
     "text": [
      "2025-02-09 19:18:45.848794: I tensorflow_decision_forests/tensorflow/ops/inference/kernel.cc:1206] Loading model from path random_forest_model/assets/ with prefix 951927cc99aa4ac7\n",
      "I0000 00:00:1739099928.993034  107850 decision_forest.cc:761] Model loaded with 300 root(s), 1141642 node(s), and 9 input feature(s).\n",
      "I0000 00:00:1739099928.993071  107850 abstract_model.cc:1404] Engine \"RandomForestGeneric\" built\n",
      "2025-02-09 19:18:48.993087: I tensorflow_decision_forests/tensorflow/ops/inference/kernel.cc:1035] Use fast generic engine\n"
     ]
    }
   ],
   "source": [
    "# Memuat model kembali (contoh penggunaan di sesi lain)\n",
    "from tensorflow import keras\n",
    "loaded_model = keras.layers.TFSMLayer('random_forest_model', call_endpoint=\"serving_default\")"
   ]
  },
  {
   "cell_type": "code",
   "execution_count": 86,
   "id": "c443685d",
   "metadata": {},
   "outputs": [
    {
     "name": "stdout",
     "output_type": "stream",
     "text": [
      "Predicted Classes: [1 1 1 ... 4 6 0]\n"
     ]
    }
   ],
   "source": [
    "# Prediksi dengan model yang dimuat ulang\n",
    "y_new_pred = loaded_model(X_test)\n",
    "output_key = list(y_new_pred.keys())[0]  # Automatically get the first key\n",
    "y_new_pred = y_new_pred[output_key]  # Extract the actual predictions\n",
    "y_new_pred_classes = np.argmax(y_new_pred, axis=1)\n",
    "\n",
    "print(\"Predicted Classes:\", y_new_pred_classes)"
   ]
  }
 ],
 "metadata": {
  "kernelspec": {
   "display_name": "hand-mouse",
   "language": "python",
   "name": "python3"
  },
  "language_info": {
   "codemirror_mode": {
    "name": "ipython",
    "version": 3
   },
   "file_extension": ".py",
   "mimetype": "text/x-python",
   "name": "python",
   "nbconvert_exporter": "python",
   "pygments_lexer": "ipython3",
   "version": "3.10.11"
  }
 },
 "nbformat": 4,
 "nbformat_minor": 5
}
