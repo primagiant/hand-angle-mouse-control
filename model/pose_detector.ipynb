{
 "cells": [
  {
   "cell_type": "code",
   "id": "initial_id",
   "metadata": {
    "collapsed": true,
    "ExecuteTime": {
     "end_time": "2024-07-21T04:52:21.251004Z",
     "start_time": "2024-07-21T04:52:18.553572Z"
    }
   },
   "source": [
    "import numpy as np\n",
    "import tensorflow as tf\n",
    "from sklearn.model_selection import train_test_split\n",
    "\n",
    "RANDOM_SEED = 42"
   ],
   "outputs": [],
   "execution_count": 1
  },
  {
   "metadata": {
    "ExecuteTime": {
     "end_time": "2024-07-21T05:02:11.473934Z",
     "start_time": "2024-07-21T05:02:11.455950Z"
    }
   },
   "cell_type": "code",
   "source": [
    "dataset = 'dataset_new.csv'\n",
    "model_save_path = 'pose_detector.keras'\n",
    "model_save_name = 'pose_detector'\n",
    "model_tflite_name = 'pose_detector.tflite'"
   ],
   "id": "81ecd7773e8b1b1c",
   "outputs": [],
   "execution_count": 21
  },
  {
   "metadata": {
    "ExecuteTime": {
     "end_time": "2024-07-21T04:52:21.664043Z",
     "start_time": "2024-07-21T04:52:21.650165Z"
    }
   },
   "cell_type": "code",
   "source": "NUM_CLASSES = 6",
   "id": "e69571db85feea87",
   "outputs": [],
   "execution_count": 3
  },
  {
   "metadata": {
    "ExecuteTime": {
     "end_time": "2024-07-21T04:52:22.555860Z",
     "start_time": "2024-07-21T04:52:22.460533Z"
    }
   },
   "cell_type": "code",
   "source": "X_dataset = np.loadtxt(dataset, delimiter=',', dtype='float32', usecols=list(range(2, 10 + 1)))",
   "id": "ba2e60d8aaea8676",
   "outputs": [],
   "execution_count": 4
  },
  {
   "metadata": {
    "ExecuteTime": {
     "end_time": "2024-07-21T04:52:23.017180Z",
     "start_time": "2024-07-21T04:52:22.985892Z"
    }
   },
   "cell_type": "code",
   "source": "y_dataset = np.loadtxt(dataset, delimiter=',', dtype='int32', usecols=(0))",
   "id": "db3200ee0876a45b",
   "outputs": [],
   "execution_count": 5
  },
  {
   "metadata": {
    "ExecuteTime": {
     "end_time": "2024-07-21T04:52:23.524933Z",
     "start_time": "2024-07-21T04:52:23.510194Z"
    }
   },
   "cell_type": "code",
   "source": "# y_dataset = y_dataset - 1",
   "id": "3a82246ef97fae35",
   "outputs": [],
   "execution_count": 6
  },
  {
   "metadata": {
    "ExecuteTime": {
     "end_time": "2024-07-21T04:52:23.985204Z",
     "start_time": "2024-07-21T04:52:23.958785Z"
    }
   },
   "cell_type": "code",
   "source": "X_train, X_test, y_train, y_test = train_test_split(X_dataset, y_dataset, train_size=0.75, random_state=RANDOM_SEED)",
   "id": "c59381c52ebe6d0b",
   "outputs": [],
   "execution_count": 7
  },
  {
   "metadata": {},
   "cell_type": "markdown",
   "source": "# Model building",
   "id": "1478cdb5565259bc"
  },
  {
   "metadata": {
    "ExecuteTime": {
     "end_time": "2024-07-21T04:52:24.896731Z",
     "start_time": "2024-07-21T04:52:24.789169Z"
    }
   },
   "cell_type": "code",
   "source": [
    "model = tf.keras.models.Sequential([\n",
    "    tf.keras.layers.Input((9, )),\n",
    "    tf.keras.layers.Dropout(0.2),\n",
    "    tf.keras.layers.Dense(20, activation='relu'),\n",
    "    tf.keras.layers.Dropout(0.4),\n",
    "    tf.keras.layers.Dense(10, activation='relu'),\n",
    "    tf.keras.layers.Dense(NUM_CLASSES, activation='softmax')\n",
    "])"
   ],
   "id": "8611be63bb0dd298",
   "outputs": [],
   "execution_count": 8
  },
  {
   "metadata": {
    "ExecuteTime": {
     "end_time": "2024-07-21T04:52:25.557516Z",
     "start_time": "2024-07-21T04:52:25.532119Z"
    }
   },
   "cell_type": "code",
   "source": "model.summary()  # tf.keras.utils.plot_model(model, show_shapes=True)",
   "id": "5e296d1fdc34bc63",
   "outputs": [
    {
     "data": {
      "text/plain": [
       "\u001B[1mModel: \"sequential\"\u001B[0m\n"
      ],
      "text/html": [
       "<pre style=\"white-space:pre;overflow-x:auto;line-height:normal;font-family:Menlo,'DejaVu Sans Mono',consolas,'Courier New',monospace\"><span style=\"font-weight: bold\">Model: \"sequential\"</span>\n",
       "</pre>\n"
      ]
     },
     "metadata": {},
     "output_type": "display_data"
    },
    {
     "data": {
      "text/plain": [
       "┏━━━━━━━━━━━━━━━━━━━━━━━━━━━━━━━━━┳━━━━━━━━━━━━━━━━━━━━━━━━┳━━━━━━━━━━━━━━━┓\n",
       "┃\u001B[1m \u001B[0m\u001B[1mLayer (type)                   \u001B[0m\u001B[1m \u001B[0m┃\u001B[1m \u001B[0m\u001B[1mOutput Shape          \u001B[0m\u001B[1m \u001B[0m┃\u001B[1m \u001B[0m\u001B[1m      Param #\u001B[0m\u001B[1m \u001B[0m┃\n",
       "┡━━━━━━━━━━━━━━━━━━━━━━━━━━━━━━━━━╇━━━━━━━━━━━━━━━━━━━━━━━━╇━━━━━━━━━━━━━━━┩\n",
       "│ dropout (\u001B[38;5;33mDropout\u001B[0m)               │ (\u001B[38;5;45mNone\u001B[0m, \u001B[38;5;34m9\u001B[0m)              │             \u001B[38;5;34m0\u001B[0m │\n",
       "├─────────────────────────────────┼────────────────────────┼───────────────┤\n",
       "│ dense (\u001B[38;5;33mDense\u001B[0m)                   │ (\u001B[38;5;45mNone\u001B[0m, \u001B[38;5;34m20\u001B[0m)             │           \u001B[38;5;34m200\u001B[0m │\n",
       "├─────────────────────────────────┼────────────────────────┼───────────────┤\n",
       "│ dropout_1 (\u001B[38;5;33mDropout\u001B[0m)             │ (\u001B[38;5;45mNone\u001B[0m, \u001B[38;5;34m20\u001B[0m)             │             \u001B[38;5;34m0\u001B[0m │\n",
       "├─────────────────────────────────┼────────────────────────┼───────────────┤\n",
       "│ dense_1 (\u001B[38;5;33mDense\u001B[0m)                 │ (\u001B[38;5;45mNone\u001B[0m, \u001B[38;5;34m10\u001B[0m)             │           \u001B[38;5;34m210\u001B[0m │\n",
       "├─────────────────────────────────┼────────────────────────┼───────────────┤\n",
       "│ dense_2 (\u001B[38;5;33mDense\u001B[0m)                 │ (\u001B[38;5;45mNone\u001B[0m, \u001B[38;5;34m6\u001B[0m)              │            \u001B[38;5;34m66\u001B[0m │\n",
       "└─────────────────────────────────┴────────────────────────┴───────────────┘\n"
      ],
      "text/html": [
       "<pre style=\"white-space:pre;overflow-x:auto;line-height:normal;font-family:Menlo,'DejaVu Sans Mono',consolas,'Courier New',monospace\">┏━━━━━━━━━━━━━━━━━━━━━━━━━━━━━━━━━┳━━━━━━━━━━━━━━━━━━━━━━━━┳━━━━━━━━━━━━━━━┓\n",
       "┃<span style=\"font-weight: bold\"> Layer (type)                    </span>┃<span style=\"font-weight: bold\"> Output Shape           </span>┃<span style=\"font-weight: bold\">       Param # </span>┃\n",
       "┡━━━━━━━━━━━━━━━━━━━━━━━━━━━━━━━━━╇━━━━━━━━━━━━━━━━━━━━━━━━╇━━━━━━━━━━━━━━━┩\n",
       "│ dropout (<span style=\"color: #0087ff; text-decoration-color: #0087ff\">Dropout</span>)               │ (<span style=\"color: #00d7ff; text-decoration-color: #00d7ff\">None</span>, <span style=\"color: #00af00; text-decoration-color: #00af00\">9</span>)              │             <span style=\"color: #00af00; text-decoration-color: #00af00\">0</span> │\n",
       "├─────────────────────────────────┼────────────────────────┼───────────────┤\n",
       "│ dense (<span style=\"color: #0087ff; text-decoration-color: #0087ff\">Dense</span>)                   │ (<span style=\"color: #00d7ff; text-decoration-color: #00d7ff\">None</span>, <span style=\"color: #00af00; text-decoration-color: #00af00\">20</span>)             │           <span style=\"color: #00af00; text-decoration-color: #00af00\">200</span> │\n",
       "├─────────────────────────────────┼────────────────────────┼───────────────┤\n",
       "│ dropout_1 (<span style=\"color: #0087ff; text-decoration-color: #0087ff\">Dropout</span>)             │ (<span style=\"color: #00d7ff; text-decoration-color: #00d7ff\">None</span>, <span style=\"color: #00af00; text-decoration-color: #00af00\">20</span>)             │             <span style=\"color: #00af00; text-decoration-color: #00af00\">0</span> │\n",
       "├─────────────────────────────────┼────────────────────────┼───────────────┤\n",
       "│ dense_1 (<span style=\"color: #0087ff; text-decoration-color: #0087ff\">Dense</span>)                 │ (<span style=\"color: #00d7ff; text-decoration-color: #00d7ff\">None</span>, <span style=\"color: #00af00; text-decoration-color: #00af00\">10</span>)             │           <span style=\"color: #00af00; text-decoration-color: #00af00\">210</span> │\n",
       "├─────────────────────────────────┼────────────────────────┼───────────────┤\n",
       "│ dense_2 (<span style=\"color: #0087ff; text-decoration-color: #0087ff\">Dense</span>)                 │ (<span style=\"color: #00d7ff; text-decoration-color: #00d7ff\">None</span>, <span style=\"color: #00af00; text-decoration-color: #00af00\">6</span>)              │            <span style=\"color: #00af00; text-decoration-color: #00af00\">66</span> │\n",
       "└─────────────────────────────────┴────────────────────────┴───────────────┘\n",
       "</pre>\n"
      ]
     },
     "metadata": {},
     "output_type": "display_data"
    },
    {
     "data": {
      "text/plain": [
       "\u001B[1m Total params: \u001B[0m\u001B[38;5;34m476\u001B[0m (1.86 KB)\n"
      ],
      "text/html": [
       "<pre style=\"white-space:pre;overflow-x:auto;line-height:normal;font-family:Menlo,'DejaVu Sans Mono',consolas,'Courier New',monospace\"><span style=\"font-weight: bold\"> Total params: </span><span style=\"color: #00af00; text-decoration-color: #00af00\">476</span> (1.86 KB)\n",
       "</pre>\n"
      ]
     },
     "metadata": {},
     "output_type": "display_data"
    },
    {
     "data": {
      "text/plain": [
       "\u001B[1m Trainable params: \u001B[0m\u001B[38;5;34m476\u001B[0m (1.86 KB)\n"
      ],
      "text/html": [
       "<pre style=\"white-space:pre;overflow-x:auto;line-height:normal;font-family:Menlo,'DejaVu Sans Mono',consolas,'Courier New',monospace\"><span style=\"font-weight: bold\"> Trainable params: </span><span style=\"color: #00af00; text-decoration-color: #00af00\">476</span> (1.86 KB)\n",
       "</pre>\n"
      ]
     },
     "metadata": {},
     "output_type": "display_data"
    },
    {
     "data": {
      "text/plain": [
       "\u001B[1m Non-trainable params: \u001B[0m\u001B[38;5;34m0\u001B[0m (0.00 B)\n"
      ],
      "text/html": [
       "<pre style=\"white-space:pre;overflow-x:auto;line-height:normal;font-family:Menlo,'DejaVu Sans Mono',consolas,'Courier New',monospace\"><span style=\"font-weight: bold\"> Non-trainable params: </span><span style=\"color: #00af00; text-decoration-color: #00af00\">0</span> (0.00 B)\n",
       "</pre>\n"
      ]
     },
     "metadata": {},
     "output_type": "display_data"
    }
   ],
   "execution_count": 9
  },
  {
   "metadata": {
    "ExecuteTime": {
     "end_time": "2024-07-21T04:52:26.407415Z",
     "start_time": "2024-07-21T04:52:26.389194Z"
    }
   },
   "cell_type": "code",
   "source": [
    "# Model checkpoint callback\n",
    "# path_model = os.path.dirname(model_save_path)\n",
    "cp_callback = tf.keras.callbacks.ModelCheckpoint(\n",
    "    filepath=model_save_path, verbose=1, save_weights_only=False\n",
    ")\n",
    "# Callback for early stopping\n",
    "es_callback = tf.keras.callbacks.EarlyStopping(patience=20, verbose=1)"
   ],
   "id": "fd303061c176e14",
   "outputs": [],
   "execution_count": 10
  },
  {
   "metadata": {
    "ExecuteTime": {
     "end_time": "2024-07-21T04:52:27.720196Z",
     "start_time": "2024-07-21T04:52:27.690601Z"
    }
   },
   "cell_type": "code",
   "source": [
    "# Model compilation\n",
    "model.compile(\n",
    "    optimizer='adam',\n",
    "    loss='sparse_categorical_crossentropy',\n",
    "    metrics=['accuracy']\n",
    ")"
   ],
   "id": "186ec0ffe55e4c27",
   "outputs": [],
   "execution_count": 11
  },
  {
   "metadata": {},
   "cell_type": "markdown",
   "source": "# Model training",
   "id": "39518e52dc7ed76f"
  },
  {
   "metadata": {
    "ExecuteTime": {
     "end_time": "2024-07-21T04:53:33.936258Z",
     "start_time": "2024-07-21T04:52:29.136941Z"
    }
   },
   "cell_type": "code",
   "source": [
    "model.fit(\n",
    "    X_train,\n",
    "    y_train,\n",
    "    epochs=1000,\n",
    "    batch_size=128,\n",
    "    validation_data=(X_test, y_test),\n",
    "    callbacks=[cp_callback, es_callback]\n",
    ")"
   ],
   "id": "bac1c343f72caac2",
   "outputs": [
    {
     "name": "stdout",
     "output_type": "stream",
     "text": [
      "Epoch 1/1000\n",
      "\u001B[1m381/390\u001B[0m \u001B[32m━━━━━━━━━━━━━━━━━━━\u001B[0m\u001B[37m━\u001B[0m \u001B[1m0s\u001B[0m 1ms/step - accuracy: 0.2076 - loss: 8.1187\n",
      "Epoch 1: saving model to pose_detector.keras\n",
      "\u001B[1m390/390\u001B[0m \u001B[32m━━━━━━━━━━━━━━━━━━━━\u001B[0m\u001B[37m\u001B[0m \u001B[1m2s\u001B[0m 2ms/step - accuracy: 0.2090 - loss: 8.0214 - val_accuracy: 0.4433 - val_loss: 1.2976\n",
      "Epoch 2/1000\n",
      "\u001B[1m383/390\u001B[0m \u001B[32m━━━━━━━━━━━━━━━━━━━\u001B[0m\u001B[37m━\u001B[0m \u001B[1m0s\u001B[0m 1ms/step - accuracy: 0.3513 - loss: 1.5699\n",
      "Epoch 2: saving model to pose_detector.keras\n",
      "\u001B[1m390/390\u001B[0m \u001B[32m━━━━━━━━━━━━━━━━━━━━\u001B[0m\u001B[37m\u001B[0m \u001B[1m1s\u001B[0m 2ms/step - accuracy: 0.3515 - loss: 1.5688 - val_accuracy: 0.4567 - val_loss: 1.2557\n",
      "Epoch 3/1000\n",
      "\u001B[1m378/390\u001B[0m \u001B[32m━━━━━━━━━━━━━━━━━━━\u001B[0m\u001B[37m━\u001B[0m \u001B[1m0s\u001B[0m 1ms/step - accuracy: 0.3866 - loss: 1.4095\n",
      "Epoch 3: saving model to pose_detector.keras\n",
      "\u001B[1m390/390\u001B[0m \u001B[32m━━━━━━━━━━━━━━━━━━━━\u001B[0m\u001B[37m\u001B[0m \u001B[1m1s\u001B[0m 2ms/step - accuracy: 0.3870 - loss: 1.4090 - val_accuracy: 0.5114 - val_loss: 1.2070\n",
      "Epoch 4/1000\n",
      "\u001B[1m380/390\u001B[0m \u001B[32m━━━━━━━━━━━━━━━━━━━\u001B[0m\u001B[37m━\u001B[0m \u001B[1m0s\u001B[0m 1ms/step - accuracy: 0.4266 - loss: 1.3288\n",
      "Epoch 4: saving model to pose_detector.keras\n",
      "\u001B[1m390/390\u001B[0m \u001B[32m━━━━━━━━━━━━━━━━━━━━\u001B[0m\u001B[37m\u001B[0m \u001B[1m1s\u001B[0m 2ms/step - accuracy: 0.4268 - loss: 1.3282 - val_accuracy: 0.5627 - val_loss: 1.0903\n",
      "Epoch 5/1000\n",
      "\u001B[1m365/390\u001B[0m \u001B[32m━━━━━━━━━━━━━━━━━━\u001B[0m\u001B[37m━━\u001B[0m \u001B[1m0s\u001B[0m 1ms/step - accuracy: 0.4616 - loss: 1.2583\n",
      "Epoch 5: saving model to pose_detector.keras\n",
      "\u001B[1m390/390\u001B[0m \u001B[32m━━━━━━━━━━━━━━━━━━━━\u001B[0m\u001B[37m\u001B[0m \u001B[1m1s\u001B[0m 2ms/step - accuracy: 0.4623 - loss: 1.2574 - val_accuracy: 0.6029 - val_loss: 1.0234\n",
      "Epoch 6/1000\n",
      "\u001B[1m379/390\u001B[0m \u001B[32m━━━━━━━━━━━━━━━━━━━\u001B[0m\u001B[37m━\u001B[0m \u001B[1m0s\u001B[0m 1ms/step - accuracy: 0.4937 - loss: 1.2214\n",
      "Epoch 6: saving model to pose_detector.keras\n",
      "\u001B[1m390/390\u001B[0m \u001B[32m━━━━━━━━━━━━━━━━━━━━\u001B[0m\u001B[37m\u001B[0m \u001B[1m1s\u001B[0m 2ms/step - accuracy: 0.4938 - loss: 1.2212 - val_accuracy: 0.6355 - val_loss: 0.9727\n",
      "Epoch 7/1000\n",
      "\u001B[1m381/390\u001B[0m \u001B[32m━━━━━━━━━━━━━━━━━━━\u001B[0m\u001B[37m━\u001B[0m \u001B[1m0s\u001B[0m 1ms/step - accuracy: 0.5067 - loss: 1.1910\n",
      "Epoch 7: saving model to pose_detector.keras\n",
      "\u001B[1m390/390\u001B[0m \u001B[32m━━━━━━━━━━━━━━━━━━━━\u001B[0m\u001B[37m\u001B[0m \u001B[1m1s\u001B[0m 2ms/step - accuracy: 0.5069 - loss: 1.1906 - val_accuracy: 0.6668 - val_loss: 0.9276\n",
      "Epoch 8/1000\n",
      "\u001B[1m372/390\u001B[0m \u001B[32m━━━━━━━━━━━━━━━━━━━\u001B[0m\u001B[37m━\u001B[0m \u001B[1m0s\u001B[0m 1ms/step - accuracy: 0.5322 - loss: 1.1559\n",
      "Epoch 8: saving model to pose_detector.keras\n",
      "\u001B[1m390/390\u001B[0m \u001B[32m━━━━━━━━━━━━━━━━━━━━\u001B[0m\u001B[37m\u001B[0m \u001B[1m1s\u001B[0m 2ms/step - accuracy: 0.5324 - loss: 1.1554 - val_accuracy: 0.6965 - val_loss: 0.9102\n",
      "Epoch 9/1000\n",
      "\u001B[1m380/390\u001B[0m \u001B[32m━━━━━━━━━━━━━━━━━━━\u001B[0m\u001B[37m━\u001B[0m \u001B[1m0s\u001B[0m 1ms/step - accuracy: 0.5441 - loss: 1.1418\n",
      "Epoch 9: saving model to pose_detector.keras\n",
      "\u001B[1m390/390\u001B[0m \u001B[32m━━━━━━━━━━━━━━━━━━━━\u001B[0m\u001B[37m\u001B[0m \u001B[1m1s\u001B[0m 2ms/step - accuracy: 0.5444 - loss: 1.1415 - val_accuracy: 0.7937 - val_loss: 0.8477\n",
      "Epoch 10/1000\n",
      "\u001B[1m390/390\u001B[0m \u001B[32m━━━━━━━━━━━━━━━━━━━━\u001B[0m\u001B[37m\u001B[0m \u001B[1m0s\u001B[0m 1ms/step - accuracy: 0.5803 - loss: 1.1059\n",
      "Epoch 10: saving model to pose_detector.keras\n",
      "\u001B[1m390/390\u001B[0m \u001B[32m━━━━━━━━━━━━━━━━━━━━\u001B[0m\u001B[37m\u001B[0m \u001B[1m1s\u001B[0m 2ms/step - accuracy: 0.5804 - loss: 1.1059 - val_accuracy: 0.8188 - val_loss: 0.7956\n",
      "Epoch 11/1000\n",
      "\u001B[1m364/390\u001B[0m \u001B[32m━━━━━━━━━━━━━━━━━━\u001B[0m\u001B[37m━━\u001B[0m \u001B[1m0s\u001B[0m 2ms/step - accuracy: 0.6032 - loss: 1.0621\n",
      "Epoch 11: saving model to pose_detector.keras\n",
      "\u001B[1m390/390\u001B[0m \u001B[32m━━━━━━━━━━━━━━━━━━━━\u001B[0m\u001B[37m\u001B[0m \u001B[1m1s\u001B[0m 2ms/step - accuracy: 0.6034 - loss: 1.0619 - val_accuracy: 0.8335 - val_loss: 0.7527\n",
      "Epoch 12/1000\n",
      "\u001B[1m380/390\u001B[0m \u001B[32m━━━━━━━━━━━━━━━━━━━\u001B[0m\u001B[37m━\u001B[0m \u001B[1m0s\u001B[0m 1ms/step - accuracy: 0.6148 - loss: 1.0329\n",
      "Epoch 12: saving model to pose_detector.keras\n",
      "\u001B[1m390/390\u001B[0m \u001B[32m━━━━━━━━━━━━━━━━━━━━\u001B[0m\u001B[37m\u001B[0m \u001B[1m1s\u001B[0m 2ms/step - accuracy: 0.6149 - loss: 1.0326 - val_accuracy: 0.8365 - val_loss: 0.7132\n",
      "Epoch 13/1000\n",
      "\u001B[1m381/390\u001B[0m \u001B[32m━━━━━━━━━━━━━━━━━━━\u001B[0m\u001B[37m━\u001B[0m \u001B[1m0s\u001B[0m 1ms/step - accuracy: 0.6227 - loss: 1.0129\n",
      "Epoch 13: saving model to pose_detector.keras\n",
      "\u001B[1m390/390\u001B[0m \u001B[32m━━━━━━━━━━━━━━━━━━━━\u001B[0m\u001B[37m\u001B[0m \u001B[1m1s\u001B[0m 2ms/step - accuracy: 0.6227 - loss: 1.0127 - val_accuracy: 0.8351 - val_loss: 0.6862\n",
      "Epoch 14/1000\n",
      "\u001B[1m382/390\u001B[0m \u001B[32m━━━━━━━━━━━━━━━━━━━\u001B[0m\u001B[37m━\u001B[0m \u001B[1m0s\u001B[0m 1ms/step - accuracy: 0.6310 - loss: 0.9872\n",
      "Epoch 14: saving model to pose_detector.keras\n",
      "\u001B[1m390/390\u001B[0m \u001B[32m━━━━━━━━━━━━━━━━━━━━\u001B[0m\u001B[37m\u001B[0m \u001B[1m1s\u001B[0m 2ms/step - accuracy: 0.6310 - loss: 0.9873 - val_accuracy: 0.8410 - val_loss: 0.6777\n",
      "Epoch 15/1000\n",
      "\u001B[1m382/390\u001B[0m \u001B[32m━━━━━━━━━━━━━━━━━━━\u001B[0m\u001B[37m━\u001B[0m \u001B[1m0s\u001B[0m 1ms/step - accuracy: 0.6317 - loss: 0.9785\n",
      "Epoch 15: saving model to pose_detector.keras\n",
      "\u001B[1m390/390\u001B[0m \u001B[32m━━━━━━━━━━━━━━━━━━━━\u001B[0m\u001B[37m\u001B[0m \u001B[1m1s\u001B[0m 2ms/step - accuracy: 0.6317 - loss: 0.9783 - val_accuracy: 0.8319 - val_loss: 0.6882\n",
      "Epoch 16/1000\n",
      "\u001B[1m363/390\u001B[0m \u001B[32m━━━━━━━━━━━━━━━━━━\u001B[0m\u001B[37m━━\u001B[0m \u001B[1m0s\u001B[0m 2ms/step - accuracy: 0.6327 - loss: 0.9740\n",
      "Epoch 16: saving model to pose_detector.keras\n",
      "\u001B[1m390/390\u001B[0m \u001B[32m━━━━━━━━━━━━━━━━━━━━\u001B[0m\u001B[37m\u001B[0m \u001B[1m1s\u001B[0m 2ms/step - accuracy: 0.6328 - loss: 0.9736 - val_accuracy: 0.8349 - val_loss: 0.6496\n",
      "Epoch 17/1000\n",
      "\u001B[1m360/390\u001B[0m \u001B[32m━━━━━━━━━━━━━━━━━━\u001B[0m\u001B[37m━━\u001B[0m \u001B[1m0s\u001B[0m 2ms/step - accuracy: 0.6374 - loss: 0.9607\n",
      "Epoch 17: saving model to pose_detector.keras\n",
      "\u001B[1m390/390\u001B[0m \u001B[32m━━━━━━━━━━━━━━━━━━━━\u001B[0m\u001B[37m\u001B[0m \u001B[1m1s\u001B[0m 2ms/step - accuracy: 0.6375 - loss: 0.9606 - val_accuracy: 0.8353 - val_loss: 0.6573\n",
      "Epoch 18/1000\n",
      "\u001B[1m367/390\u001B[0m \u001B[32m━━━━━━━━━━━━━━━━━━\u001B[0m\u001B[37m━━\u001B[0m \u001B[1m0s\u001B[0m 2ms/step - accuracy: 0.6396 - loss: 0.9556\n",
      "Epoch 18: saving model to pose_detector.keras\n",
      "\u001B[1m390/390\u001B[0m \u001B[32m━━━━━━━━━━━━━━━━━━━━\u001B[0m\u001B[37m\u001B[0m \u001B[1m1s\u001B[0m 2ms/step - accuracy: 0.6396 - loss: 0.9556 - val_accuracy: 0.8388 - val_loss: 0.6239\n",
      "Epoch 19/1000\n",
      "\u001B[1m361/390\u001B[0m \u001B[32m━━━━━━━━━━━━━━━━━━\u001B[0m\u001B[37m━━\u001B[0m \u001B[1m0s\u001B[0m 2ms/step - accuracy: 0.6452 - loss: 0.9473\n",
      "Epoch 19: saving model to pose_detector.keras\n",
      "\u001B[1m390/390\u001B[0m \u001B[32m━━━━━━━━━━━━━━━━━━━━\u001B[0m\u001B[37m\u001B[0m \u001B[1m1s\u001B[0m 2ms/step - accuracy: 0.6454 - loss: 0.9470 - val_accuracy: 0.8312 - val_loss: 0.6616\n",
      "Epoch 20/1000\n",
      "\u001B[1m371/390\u001B[0m \u001B[32m━━━━━━━━━━━━━━━━━━━\u001B[0m\u001B[37m━\u001B[0m \u001B[1m0s\u001B[0m 2ms/step - accuracy: 0.6470 - loss: 0.9403\n",
      "Epoch 20: saving model to pose_detector.keras\n",
      "\u001B[1m390/390\u001B[0m \u001B[32m━━━━━━━━━━━━━━━━━━━━\u001B[0m\u001B[37m\u001B[0m \u001B[1m1s\u001B[0m 2ms/step - accuracy: 0.6470 - loss: 0.9402 - val_accuracy: 0.8406 - val_loss: 0.6276\n",
      "Epoch 21/1000\n",
      "\u001B[1m356/390\u001B[0m \u001B[32m━━━━━━━━━━━━━━━━━━\u001B[0m\u001B[37m━━\u001B[0m \u001B[1m0s\u001B[0m 1ms/step - accuracy: 0.6496 - loss: 0.9274\n",
      "Epoch 21: saving model to pose_detector.keras\n",
      "\u001B[1m390/390\u001B[0m \u001B[32m━━━━━━━━━━━━━━━━━━━━\u001B[0m\u001B[37m\u001B[0m \u001B[1m1s\u001B[0m 2ms/step - accuracy: 0.6494 - loss: 0.9278 - val_accuracy: 0.8323 - val_loss: 0.6439\n",
      "Epoch 22/1000\n",
      "\u001B[1m375/390\u001B[0m \u001B[32m━━━━━━━━━━━━━━━━━━━\u001B[0m\u001B[37m━\u001B[0m \u001B[1m0s\u001B[0m 1ms/step - accuracy: 0.6514 - loss: 0.9194\n",
      "Epoch 22: saving model to pose_detector.keras\n",
      "\u001B[1m390/390\u001B[0m \u001B[32m━━━━━━━━━━━━━━━━━━━━\u001B[0m\u001B[37m\u001B[0m \u001B[1m1s\u001B[0m 2ms/step - accuracy: 0.6514 - loss: 0.9194 - val_accuracy: 0.8354 - val_loss: 0.6203\n",
      "Epoch 23/1000\n",
      "\u001B[1m389/390\u001B[0m \u001B[32m━━━━━━━━━━━━━━━━━━━\u001B[0m\u001B[37m━\u001B[0m \u001B[1m0s\u001B[0m 1ms/step - accuracy: 0.6555 - loss: 0.9140\n",
      "Epoch 23: saving model to pose_detector.keras\n",
      "\u001B[1m390/390\u001B[0m \u001B[32m━━━━━━━━━━━━━━━━━━━━\u001B[0m\u001B[37m\u001B[0m \u001B[1m1s\u001B[0m 2ms/step - accuracy: 0.6555 - loss: 0.9141 - val_accuracy: 0.8402 - val_loss: 0.6206\n",
      "Epoch 24/1000\n",
      "\u001B[1m387/390\u001B[0m \u001B[32m━━━━━━━━━━━━━━━━━━━\u001B[0m\u001B[37m━\u001B[0m \u001B[1m0s\u001B[0m 1ms/step - accuracy: 0.6517 - loss: 0.9142\n",
      "Epoch 24: saving model to pose_detector.keras\n",
      "\u001B[1m390/390\u001B[0m \u001B[32m━━━━━━━━━━━━━━━━━━━━\u001B[0m\u001B[37m\u001B[0m \u001B[1m1s\u001B[0m 2ms/step - accuracy: 0.6517 - loss: 0.9142 - val_accuracy: 0.8246 - val_loss: 0.6247\n",
      "Epoch 25/1000\n",
      "\u001B[1m378/390\u001B[0m \u001B[32m━━━━━━━━━━━━━━━━━━━\u001B[0m\u001B[37m━\u001B[0m \u001B[1m0s\u001B[0m 1ms/step - accuracy: 0.6510 - loss: 0.9124\n",
      "Epoch 25: saving model to pose_detector.keras\n",
      "\u001B[1m390/390\u001B[0m \u001B[32m━━━━━━━━━━━━━━━━━━━━\u001B[0m\u001B[37m\u001B[0m \u001B[1m1s\u001B[0m 2ms/step - accuracy: 0.6511 - loss: 0.9124 - val_accuracy: 0.8275 - val_loss: 0.6068\n",
      "Epoch 26/1000\n",
      "\u001B[1m390/390\u001B[0m \u001B[32m━━━━━━━━━━━━━━━━━━━━\u001B[0m\u001B[37m\u001B[0m \u001B[1m0s\u001B[0m 1ms/step - accuracy: 0.6588 - loss: 0.8983\n",
      "Epoch 26: saving model to pose_detector.keras\n",
      "\u001B[1m390/390\u001B[0m \u001B[32m━━━━━━━━━━━━━━━━━━━━\u001B[0m\u001B[37m\u001B[0m \u001B[1m1s\u001B[0m 2ms/step - accuracy: 0.6588 - loss: 0.8984 - val_accuracy: 0.8353 - val_loss: 0.6162\n",
      "Epoch 27/1000\n",
      "\u001B[1m377/390\u001B[0m \u001B[32m━━━━━━━━━━━━━━━━━━━\u001B[0m\u001B[37m━\u001B[0m \u001B[1m0s\u001B[0m 1ms/step - accuracy: 0.6592 - loss: 0.9044\n",
      "Epoch 27: saving model to pose_detector.keras\n",
      "\u001B[1m390/390\u001B[0m \u001B[32m━━━━━━━━━━━━━━━━━━━━\u001B[0m\u001B[37m\u001B[0m \u001B[1m1s\u001B[0m 2ms/step - accuracy: 0.6592 - loss: 0.9044 - val_accuracy: 0.8400 - val_loss: 0.5956\n",
      "Epoch 28/1000\n",
      "\u001B[1m368/390\u001B[0m \u001B[32m━━━━━━━━━━━━━━━━━━\u001B[0m\u001B[37m━━\u001B[0m \u001B[1m0s\u001B[0m 1ms/step - accuracy: 0.6628 - loss: 0.8964\n",
      "Epoch 28: saving model to pose_detector.keras\n",
      "\u001B[1m390/390\u001B[0m \u001B[32m━━━━━━━━━━━━━━━━━━━━\u001B[0m\u001B[37m\u001B[0m \u001B[1m1s\u001B[0m 2ms/step - accuracy: 0.6628 - loss: 0.8961 - val_accuracy: 0.8356 - val_loss: 0.6071\n",
      "Epoch 29/1000\n",
      "\u001B[1m374/390\u001B[0m \u001B[32m━━━━━━━━━━━━━━━━━━━\u001B[0m\u001B[37m━\u001B[0m \u001B[1m0s\u001B[0m 1ms/step - accuracy: 0.6629 - loss: 0.8909\n",
      "Epoch 29: saving model to pose_detector.keras\n",
      "\u001B[1m390/390\u001B[0m \u001B[32m━━━━━━━━━━━━━━━━━━━━\u001B[0m\u001B[37m\u001B[0m \u001B[1m1s\u001B[0m 2ms/step - accuracy: 0.6629 - loss: 0.8908 - val_accuracy: 0.8196 - val_loss: 0.6388\n",
      "Epoch 30/1000\n",
      "\u001B[1m374/390\u001B[0m \u001B[32m━━━━━━━━━━━━━━━━━━━\u001B[0m\u001B[37m━\u001B[0m \u001B[1m0s\u001B[0m 1ms/step - accuracy: 0.6593 - loss: 0.8886\n",
      "Epoch 30: saving model to pose_detector.keras\n",
      "\u001B[1m390/390\u001B[0m \u001B[32m━━━━━━━━━━━━━━━━━━━━\u001B[0m\u001B[37m\u001B[0m \u001B[1m1s\u001B[0m 2ms/step - accuracy: 0.6595 - loss: 0.8885 - val_accuracy: 0.8409 - val_loss: 0.5893\n",
      "Epoch 31/1000\n",
      "\u001B[1m373/390\u001B[0m \u001B[32m━━━━━━━━━━━━━━━━━━━\u001B[0m\u001B[37m━\u001B[0m \u001B[1m0s\u001B[0m 1ms/step - accuracy: 0.6712 - loss: 0.8773\n",
      "Epoch 31: saving model to pose_detector.keras\n",
      "\u001B[1m390/390\u001B[0m \u001B[32m━━━━━━━━━━━━━━━━━━━━\u001B[0m\u001B[37m\u001B[0m \u001B[1m1s\u001B[0m 2ms/step - accuracy: 0.6710 - loss: 0.8774 - val_accuracy: 0.8294 - val_loss: 0.6032\n",
      "Epoch 32/1000\n",
      "\u001B[1m374/390\u001B[0m \u001B[32m━━━━━━━━━━━━━━━━━━━\u001B[0m\u001B[37m━\u001B[0m \u001B[1m0s\u001B[0m 1ms/step - accuracy: 0.6699 - loss: 0.8790\n",
      "Epoch 32: saving model to pose_detector.keras\n",
      "\u001B[1m390/390\u001B[0m \u001B[32m━━━━━━━━━━━━━━━━━━━━\u001B[0m\u001B[37m\u001B[0m \u001B[1m1s\u001B[0m 2ms/step - accuracy: 0.6699 - loss: 0.8790 - val_accuracy: 0.8256 - val_loss: 0.6108\n",
      "Epoch 33/1000\n",
      "\u001B[1m368/390\u001B[0m \u001B[32m━━━━━━━━━━━━━━━━━━\u001B[0m\u001B[37m━━\u001B[0m \u001B[1m0s\u001B[0m 1ms/step - accuracy: 0.6675 - loss: 0.8759\n",
      "Epoch 33: saving model to pose_detector.keras\n",
      "\u001B[1m390/390\u001B[0m \u001B[32m━━━━━━━━━━━━━━━━━━━━\u001B[0m\u001B[37m\u001B[0m \u001B[1m1s\u001B[0m 2ms/step - accuracy: 0.6675 - loss: 0.8761 - val_accuracy: 0.8302 - val_loss: 0.5971\n",
      "Epoch 34/1000\n",
      "\u001B[1m372/390\u001B[0m \u001B[32m━━━━━━━━━━━━━━━━━━━\u001B[0m\u001B[37m━\u001B[0m \u001B[1m0s\u001B[0m 1ms/step - accuracy: 0.6645 - loss: 0.8827\n",
      "Epoch 34: saving model to pose_detector.keras\n",
      "\u001B[1m390/390\u001B[0m \u001B[32m━━━━━━━━━━━━━━━━━━━━\u001B[0m\u001B[37m\u001B[0m \u001B[1m1s\u001B[0m 2ms/step - accuracy: 0.6647 - loss: 0.8822 - val_accuracy: 0.8368 - val_loss: 0.5669\n",
      "Epoch 35/1000\n",
      "\u001B[1m372/390\u001B[0m \u001B[32m━━━━━━━━━━━━━━━━━━━\u001B[0m\u001B[37m━\u001B[0m \u001B[1m0s\u001B[0m 1ms/step - accuracy: 0.6673 - loss: 0.8764\n",
      "Epoch 35: saving model to pose_detector.keras\n",
      "\u001B[1m390/390\u001B[0m \u001B[32m━━━━━━━━━━━━━━━━━━━━\u001B[0m\u001B[37m\u001B[0m \u001B[1m1s\u001B[0m 2ms/step - accuracy: 0.6676 - loss: 0.8760 - val_accuracy: 0.8246 - val_loss: 0.5934\n",
      "Epoch 36/1000\n",
      "\u001B[1m365/390\u001B[0m \u001B[32m━━━━━━━━━━━━━━━━━━\u001B[0m\u001B[37m━━\u001B[0m \u001B[1m0s\u001B[0m 1ms/step - accuracy: 0.6756 - loss: 0.8638\n",
      "Epoch 36: saving model to pose_detector.keras\n",
      "\u001B[1m390/390\u001B[0m \u001B[32m━━━━━━━━━━━━━━━━━━━━\u001B[0m\u001B[37m\u001B[0m \u001B[1m1s\u001B[0m 2ms/step - accuracy: 0.6754 - loss: 0.8639 - val_accuracy: 0.8279 - val_loss: 0.5937\n",
      "Epoch 37/1000\n",
      "\u001B[1m378/390\u001B[0m \u001B[32m━━━━━━━━━━━━━━━━━━━\u001B[0m\u001B[37m━\u001B[0m \u001B[1m0s\u001B[0m 2ms/step - accuracy: 0.6697 - loss: 0.8732\n",
      "Epoch 37: saving model to pose_detector.keras\n",
      "\u001B[1m390/390\u001B[0m \u001B[32m━━━━━━━━━━━━━━━━━━━━\u001B[0m\u001B[37m\u001B[0m \u001B[1m1s\u001B[0m 2ms/step - accuracy: 0.6698 - loss: 0.8732 - val_accuracy: 0.8183 - val_loss: 0.6165\n",
      "Epoch 38/1000\n",
      "\u001B[1m368/390\u001B[0m \u001B[32m━━━━━━━━━━━━━━━━━━\u001B[0m\u001B[37m━━\u001B[0m \u001B[1m0s\u001B[0m 1ms/step - accuracy: 0.6703 - loss: 0.8744\n",
      "Epoch 38: saving model to pose_detector.keras\n",
      "\u001B[1m390/390\u001B[0m \u001B[32m━━━━━━━━━━━━━━━━━━━━\u001B[0m\u001B[37m\u001B[0m \u001B[1m1s\u001B[0m 2ms/step - accuracy: 0.6705 - loss: 0.8742 - val_accuracy: 0.8262 - val_loss: 0.5865\n",
      "Epoch 39/1000\n",
      "\u001B[1m365/390\u001B[0m \u001B[32m━━━━━━━━━━━━━━━━━━\u001B[0m\u001B[37m━━\u001B[0m \u001B[1m0s\u001B[0m 1ms/step - accuracy: 0.6782 - loss: 0.8578\n",
      "Epoch 39: saving model to pose_detector.keras\n",
      "\u001B[1m390/390\u001B[0m \u001B[32m━━━━━━━━━━━━━━━━━━━━\u001B[0m\u001B[37m\u001B[0m \u001B[1m1s\u001B[0m 2ms/step - accuracy: 0.6778 - loss: 0.8582 - val_accuracy: 0.8214 - val_loss: 0.6072\n",
      "Epoch 40/1000\n",
      "\u001B[1m364/390\u001B[0m \u001B[32m━━━━━━━━━━━━━━━━━━\u001B[0m\u001B[37m━━\u001B[0m \u001B[1m0s\u001B[0m 1ms/step - accuracy: 0.6744 - loss: 0.8625\n",
      "Epoch 40: saving model to pose_detector.keras\n",
      "\u001B[1m390/390\u001B[0m \u001B[32m━━━━━━━━━━━━━━━━━━━━\u001B[0m\u001B[37m\u001B[0m \u001B[1m1s\u001B[0m 2ms/step - accuracy: 0.6743 - loss: 0.8629 - val_accuracy: 0.8057 - val_loss: 0.6337\n",
      "Epoch 41/1000\n",
      "\u001B[1m367/390\u001B[0m \u001B[32m━━━━━━━━━━━━━━━━━━\u001B[0m\u001B[37m━━\u001B[0m \u001B[1m0s\u001B[0m 1ms/step - accuracy: 0.6739 - loss: 0.8638\n",
      "Epoch 41: saving model to pose_detector.keras\n",
      "\u001B[1m390/390\u001B[0m \u001B[32m━━━━━━━━━━━━━━━━━━━━\u001B[0m\u001B[37m\u001B[0m \u001B[1m1s\u001B[0m 2ms/step - accuracy: 0.6738 - loss: 0.8638 - val_accuracy: 0.8269 - val_loss: 0.5828\n",
      "Epoch 42/1000\n",
      "\u001B[1m367/390\u001B[0m \u001B[32m━━━━━━━━━━━━━━━━━━\u001B[0m\u001B[37m━━\u001B[0m \u001B[1m0s\u001B[0m 1ms/step - accuracy: 0.6775 - loss: 0.8488\n",
      "Epoch 42: saving model to pose_detector.keras\n",
      "\u001B[1m390/390\u001B[0m \u001B[32m━━━━━━━━━━━━━━━━━━━━\u001B[0m\u001B[37m\u001B[0m \u001B[1m1s\u001B[0m 2ms/step - accuracy: 0.6775 - loss: 0.8491 - val_accuracy: 0.8261 - val_loss: 0.5780\n",
      "Epoch 43/1000\n",
      "\u001B[1m368/390\u001B[0m \u001B[32m━━━━━━━━━━━━━━━━━━\u001B[0m\u001B[37m━━\u001B[0m \u001B[1m0s\u001B[0m 1ms/step - accuracy: 0.6770 - loss: 0.8586\n",
      "Epoch 43: saving model to pose_detector.keras\n",
      "\u001B[1m390/390\u001B[0m \u001B[32m━━━━━━━━━━━━━━━━━━━━\u001B[0m\u001B[37m\u001B[0m \u001B[1m1s\u001B[0m 2ms/step - accuracy: 0.6770 - loss: 0.8585 - val_accuracy: 0.8146 - val_loss: 0.5973\n",
      "Epoch 44/1000\n",
      "\u001B[1m365/390\u001B[0m \u001B[32m━━━━━━━━━━━━━━━━━━\u001B[0m\u001B[37m━━\u001B[0m \u001B[1m0s\u001B[0m 1ms/step - accuracy: 0.6715 - loss: 0.8621\n",
      "Epoch 44: saving model to pose_detector.keras\n",
      "\u001B[1m390/390\u001B[0m \u001B[32m━━━━━━━━━━━━━━━━━━━━\u001B[0m\u001B[37m\u001B[0m \u001B[1m1s\u001B[0m 2ms/step - accuracy: 0.6716 - loss: 0.8622 - val_accuracy: 0.8196 - val_loss: 0.5926\n",
      "Epoch 45/1000\n",
      "\u001B[1m385/390\u001B[0m \u001B[32m━━━━━━━━━━━━━━━━━━━\u001B[0m\u001B[37m━\u001B[0m \u001B[1m0s\u001B[0m 1ms/step - accuracy: 0.6756 - loss: 0.8606\n",
      "Epoch 45: saving model to pose_detector.keras\n",
      "\u001B[1m390/390\u001B[0m \u001B[32m━━━━━━━━━━━━━━━━━━━━\u001B[0m\u001B[37m\u001B[0m \u001B[1m1s\u001B[0m 2ms/step - accuracy: 0.6757 - loss: 0.8605 - val_accuracy: 0.8247 - val_loss: 0.5730\n",
      "Epoch 46/1000\n",
      "\u001B[1m374/390\u001B[0m \u001B[32m━━━━━━━━━━━━━━━━━━━\u001B[0m\u001B[37m━\u001B[0m \u001B[1m0s\u001B[0m 1ms/step - accuracy: 0.6782 - loss: 0.8452\n",
      "Epoch 46: saving model to pose_detector.keras\n",
      "\u001B[1m390/390\u001B[0m \u001B[32m━━━━━━━━━━━━━━━━━━━━\u001B[0m\u001B[37m\u001B[0m \u001B[1m1s\u001B[0m 2ms/step - accuracy: 0.6781 - loss: 0.8456 - val_accuracy: 0.8268 - val_loss: 0.5619\n",
      "Epoch 47/1000\n",
      "\u001B[1m387/390\u001B[0m \u001B[32m━━━━━━━━━━━━━━━━━━━\u001B[0m\u001B[37m━\u001B[0m \u001B[1m0s\u001B[0m 1ms/step - accuracy: 0.6787 - loss: 0.8501\n",
      "Epoch 47: saving model to pose_detector.keras\n",
      "\u001B[1m390/390\u001B[0m \u001B[32m━━━━━━━━━━━━━━━━━━━━\u001B[0m\u001B[37m\u001B[0m \u001B[1m1s\u001B[0m 2ms/step - accuracy: 0.6787 - loss: 0.8501 - val_accuracy: 0.8188 - val_loss: 0.5994\n",
      "Epoch 48/1000\n",
      "\u001B[1m365/390\u001B[0m \u001B[32m━━━━━━━━━━━━━━━━━━\u001B[0m\u001B[37m━━\u001B[0m \u001B[1m0s\u001B[0m 1ms/step - accuracy: 0.6736 - loss: 0.8584\n",
      "Epoch 48: saving model to pose_detector.keras\n",
      "\u001B[1m390/390\u001B[0m \u001B[32m━━━━━━━━━━━━━━━━━━━━\u001B[0m\u001B[37m\u001B[0m \u001B[1m1s\u001B[0m 2ms/step - accuracy: 0.6737 - loss: 0.8582 - val_accuracy: 0.8225 - val_loss: 0.5919\n",
      "Epoch 49/1000\n",
      "\u001B[1m356/390\u001B[0m \u001B[32m━━━━━━━━━━━━━━━━━━\u001B[0m\u001B[37m━━\u001B[0m \u001B[1m0s\u001B[0m 1ms/step - accuracy: 0.6782 - loss: 0.8505\n",
      "Epoch 49: saving model to pose_detector.keras\n",
      "\u001B[1m390/390\u001B[0m \u001B[32m━━━━━━━━━━━━━━━━━━━━\u001B[0m\u001B[37m\u001B[0m \u001B[1m1s\u001B[0m 2ms/step - accuracy: 0.6783 - loss: 0.8503 - val_accuracy: 0.8016 - val_loss: 0.6166\n",
      "Epoch 50/1000\n",
      "\u001B[1m370/390\u001B[0m \u001B[32m━━━━━━━━━━━━━━━━━━\u001B[0m\u001B[37m━━\u001B[0m \u001B[1m0s\u001B[0m 1ms/step - accuracy: 0.6763 - loss: 0.8514\n",
      "Epoch 50: saving model to pose_detector.keras\n",
      "\u001B[1m390/390\u001B[0m \u001B[32m━━━━━━━━━━━━━━━━━━━━\u001B[0m\u001B[37m\u001B[0m \u001B[1m1s\u001B[0m 2ms/step - accuracy: 0.6764 - loss: 0.8511 - val_accuracy: 0.8140 - val_loss: 0.5901\n",
      "Epoch 51/1000\n",
      "\u001B[1m361/390\u001B[0m \u001B[32m━━━━━━━━━━━━━━━━━━\u001B[0m\u001B[37m━━\u001B[0m \u001B[1m0s\u001B[0m 1ms/step - accuracy: 0.6774 - loss: 0.8573\n",
      "Epoch 51: saving model to pose_detector.keras\n",
      "\u001B[1m390/390\u001B[0m \u001B[32m━━━━━━━━━━━━━━━━━━━━\u001B[0m\u001B[37m\u001B[0m \u001B[1m1s\u001B[0m 2ms/step - accuracy: 0.6775 - loss: 0.8567 - val_accuracy: 0.8180 - val_loss: 0.5961\n",
      "Epoch 52/1000\n",
      "\u001B[1m358/390\u001B[0m \u001B[32m━━━━━━━━━━━━━━━━━━\u001B[0m\u001B[37m━━\u001B[0m \u001B[1m0s\u001B[0m 2ms/step - accuracy: 0.6757 - loss: 0.8453\n",
      "Epoch 52: saving model to pose_detector.keras\n",
      "\u001B[1m390/390\u001B[0m \u001B[32m━━━━━━━━━━━━━━━━━━━━\u001B[0m\u001B[37m\u001B[0m \u001B[1m1s\u001B[0m 2ms/step - accuracy: 0.6759 - loss: 0.8452 - val_accuracy: 0.8171 - val_loss: 0.5719\n",
      "Epoch 53/1000\n",
      "\u001B[1m385/390\u001B[0m \u001B[32m━━━━━━━━━━━━━━━━━━━\u001B[0m\u001B[37m━\u001B[0m \u001B[1m0s\u001B[0m 1ms/step - accuracy: 0.6800 - loss: 0.8441\n",
      "Epoch 53: saving model to pose_detector.keras\n",
      "\u001B[1m390/390\u001B[0m \u001B[32m━━━━━━━━━━━━━━━━━━━━\u001B[0m\u001B[37m\u001B[0m \u001B[1m1s\u001B[0m 2ms/step - accuracy: 0.6800 - loss: 0.8440 - val_accuracy: 0.8319 - val_loss: 0.5593\n",
      "Epoch 54/1000\n",
      "\u001B[1m362/390\u001B[0m \u001B[32m━━━━━━━━━━━━━━━━━━\u001B[0m\u001B[37m━━\u001B[0m \u001B[1m0s\u001B[0m 1ms/step - accuracy: 0.6758 - loss: 0.8505\n",
      "Epoch 54: saving model to pose_detector.keras\n",
      "\u001B[1m390/390\u001B[0m \u001B[32m━━━━━━━━━━━━━━━━━━━━\u001B[0m\u001B[37m\u001B[0m \u001B[1m1s\u001B[0m 2ms/step - accuracy: 0.6758 - loss: 0.8503 - val_accuracy: 0.8184 - val_loss: 0.5977\n",
      "Epoch 55/1000\n",
      "\u001B[1m366/390\u001B[0m \u001B[32m━━━━━━━━━━━━━━━━━━\u001B[0m\u001B[37m━━\u001B[0m \u001B[1m0s\u001B[0m 1ms/step - accuracy: 0.6810 - loss: 0.8383\n",
      "Epoch 55: saving model to pose_detector.keras\n",
      "\u001B[1m390/390\u001B[0m \u001B[32m━━━━━━━━━━━━━━━━━━━━\u001B[0m\u001B[37m\u001B[0m \u001B[1m1s\u001B[0m 2ms/step - accuracy: 0.6811 - loss: 0.8384 - val_accuracy: 0.8167 - val_loss: 0.5913\n",
      "Epoch 56/1000\n",
      "\u001B[1m367/390\u001B[0m \u001B[32m━━━━━━━━━━━━━━━━━━\u001B[0m\u001B[37m━━\u001B[0m \u001B[1m0s\u001B[0m 1ms/step - accuracy: 0.6853 - loss: 0.8286\n",
      "Epoch 56: saving model to pose_detector.keras\n",
      "\u001B[1m390/390\u001B[0m \u001B[32m━━━━━━━━━━━━━━━━━━━━\u001B[0m\u001B[37m\u001B[0m \u001B[1m1s\u001B[0m 2ms/step - accuracy: 0.6850 - loss: 0.8290 - val_accuracy: 0.8205 - val_loss: 0.5851\n",
      "Epoch 57/1000\n",
      "\u001B[1m389/390\u001B[0m \u001B[32m━━━━━━━━━━━━━━━━━━━\u001B[0m\u001B[37m━\u001B[0m \u001B[1m0s\u001B[0m 1ms/step - accuracy: 0.6780 - loss: 0.8451\n",
      "Epoch 57: saving model to pose_detector.keras\n",
      "\u001B[1m390/390\u001B[0m \u001B[32m━━━━━━━━━━━━━━━━━━━━\u001B[0m\u001B[37m\u001B[0m \u001B[1m1s\u001B[0m 2ms/step - accuracy: 0.6780 - loss: 0.8451 - val_accuracy: 0.8296 - val_loss: 0.5655\n",
      "Epoch 58/1000\n",
      "\u001B[1m367/390\u001B[0m \u001B[32m━━━━━━━━━━━━━━━━━━\u001B[0m\u001B[37m━━\u001B[0m \u001B[1m0s\u001B[0m 1ms/step - accuracy: 0.6773 - loss: 0.8411\n",
      "Epoch 58: saving model to pose_detector.keras\n",
      "\u001B[1m390/390\u001B[0m \u001B[32m━━━━━━━━━━━━━━━━━━━━\u001B[0m\u001B[37m\u001B[0m \u001B[1m1s\u001B[0m 2ms/step - accuracy: 0.6774 - loss: 0.8411 - val_accuracy: 0.8323 - val_loss: 0.5848\n",
      "Epoch 59/1000\n",
      "\u001B[1m366/390\u001B[0m \u001B[32m━━━━━━━━━━━━━━━━━━\u001B[0m\u001B[37m━━\u001B[0m \u001B[1m0s\u001B[0m 1ms/step - accuracy: 0.6865 - loss: 0.8247\n",
      "Epoch 59: saving model to pose_detector.keras\n",
      "\u001B[1m390/390\u001B[0m \u001B[32m━━━━━━━━━━━━━━━━━━━━\u001B[0m\u001B[37m\u001B[0m \u001B[1m1s\u001B[0m 2ms/step - accuracy: 0.6863 - loss: 0.8250 - val_accuracy: 0.8181 - val_loss: 0.5938\n",
      "Epoch 60/1000\n",
      "\u001B[1m373/390\u001B[0m \u001B[32m━━━━━━━━━━━━━━━━━━━\u001B[0m\u001B[37m━\u001B[0m \u001B[1m0s\u001B[0m 1ms/step - accuracy: 0.6859 - loss: 0.8301\n",
      "Epoch 60: saving model to pose_detector.keras\n",
      "\u001B[1m390/390\u001B[0m \u001B[32m━━━━━━━━━━━━━━━━━━━━\u001B[0m\u001B[37m\u001B[0m \u001B[1m1s\u001B[0m 2ms/step - accuracy: 0.6857 - loss: 0.8303 - val_accuracy: 0.8284 - val_loss: 0.5804\n",
      "Epoch 61/1000\n",
      "\u001B[1m364/390\u001B[0m \u001B[32m━━━━━━━━━━━━━━━━━━\u001B[0m\u001B[37m━━\u001B[0m \u001B[1m0s\u001B[0m 2ms/step - accuracy: 0.6832 - loss: 0.8325\n",
      "Epoch 61: saving model to pose_detector.keras\n",
      "\u001B[1m390/390\u001B[0m \u001B[32m━━━━━━━━━━━━━━━━━━━━\u001B[0m\u001B[37m\u001B[0m \u001B[1m1s\u001B[0m 2ms/step - accuracy: 0.6831 - loss: 0.8324 - val_accuracy: 0.8194 - val_loss: 0.5774\n",
      "Epoch 62/1000\n",
      "\u001B[1m388/390\u001B[0m \u001B[32m━━━━━━━━━━━━━━━━━━━\u001B[0m\u001B[37m━\u001B[0m \u001B[1m0s\u001B[0m 2ms/step - accuracy: 0.6853 - loss: 0.8296\n",
      "Epoch 62: saving model to pose_detector.keras\n",
      "\u001B[1m390/390\u001B[0m \u001B[32m━━━━━━━━━━━━━━━━━━━━\u001B[0m\u001B[37m\u001B[0m \u001B[1m1s\u001B[0m 2ms/step - accuracy: 0.6853 - loss: 0.8296 - val_accuracy: 0.8212 - val_loss: 0.5752\n",
      "Epoch 63/1000\n",
      "\u001B[1m384/390\u001B[0m \u001B[32m━━━━━━━━━━━━━━━━━━━\u001B[0m\u001B[37m━\u001B[0m \u001B[1m0s\u001B[0m 2ms/step - accuracy: 0.6824 - loss: 0.8372\n",
      "Epoch 63: saving model to pose_detector.keras\n",
      "\u001B[1m390/390\u001B[0m \u001B[32m━━━━━━━━━━━━━━━━━━━━\u001B[0m\u001B[37m\u001B[0m \u001B[1m1s\u001B[0m 2ms/step - accuracy: 0.6824 - loss: 0.8371 - val_accuracy: 0.8365 - val_loss: 0.5518\n",
      "Epoch 64/1000\n",
      "\u001B[1m378/390\u001B[0m \u001B[32m━━━━━━━━━━━━━━━━━━━\u001B[0m\u001B[37m━\u001B[0m \u001B[1m0s\u001B[0m 2ms/step - accuracy: 0.6843 - loss: 0.8313\n",
      "Epoch 64: saving model to pose_detector.keras\n",
      "\u001B[1m390/390\u001B[0m \u001B[32m━━━━━━━━━━━━━━━━━━━━\u001B[0m\u001B[37m\u001B[0m \u001B[1m1s\u001B[0m 2ms/step - accuracy: 0.6843 - loss: 0.8314 - val_accuracy: 0.8220 - val_loss: 0.5939\n",
      "Epoch 65/1000\n",
      "\u001B[1m360/390\u001B[0m \u001B[32m━━━━━━━━━━━━━━━━━━\u001B[0m\u001B[37m━━\u001B[0m \u001B[1m0s\u001B[0m 2ms/step - accuracy: 0.6886 - loss: 0.8172\n",
      "Epoch 65: saving model to pose_detector.keras\n",
      "\u001B[1m390/390\u001B[0m \u001B[32m━━━━━━━━━━━━━━━━━━━━\u001B[0m\u001B[37m\u001B[0m \u001B[1m1s\u001B[0m 2ms/step - accuracy: 0.6885 - loss: 0.8176 - val_accuracy: 0.8299 - val_loss: 0.5760\n",
      "Epoch 66/1000\n",
      "\u001B[1m389/390\u001B[0m \u001B[32m━━━━━━━━━━━━━━━━━━━\u001B[0m\u001B[37m━\u001B[0m \u001B[1m0s\u001B[0m 2ms/step - accuracy: 0.6878 - loss: 0.8198\n",
      "Epoch 66: saving model to pose_detector.keras\n",
      "\u001B[1m390/390\u001B[0m \u001B[32m━━━━━━━━━━━━━━━━━━━━\u001B[0m\u001B[37m\u001B[0m \u001B[1m1s\u001B[0m 2ms/step - accuracy: 0.6878 - loss: 0.8198 - val_accuracy: 0.8243 - val_loss: 0.6091\n",
      "Epoch 67/1000\n",
      "\u001B[1m376/390\u001B[0m \u001B[32m━━━━━━━━━━━━━━━━━━━\u001B[0m\u001B[37m━\u001B[0m \u001B[1m0s\u001B[0m 1ms/step - accuracy: 0.6883 - loss: 0.8167\n",
      "Epoch 67: saving model to pose_detector.keras\n",
      "\u001B[1m390/390\u001B[0m \u001B[32m━━━━━━━━━━━━━━━━━━━━\u001B[0m\u001B[37m\u001B[0m \u001B[1m1s\u001B[0m 2ms/step - accuracy: 0.6884 - loss: 0.8167 - val_accuracy: 0.8285 - val_loss: 0.5605\n",
      "Epoch 68/1000\n",
      "\u001B[1m367/390\u001B[0m \u001B[32m━━━━━━━━━━━━━━━━━━\u001B[0m\u001B[37m━━\u001B[0m \u001B[1m0s\u001B[0m 1ms/step - accuracy: 0.6855 - loss: 0.8278\n",
      "Epoch 68: saving model to pose_detector.keras\n",
      "\u001B[1m390/390\u001B[0m \u001B[32m━━━━━━━━━━━━━━━━━━━━\u001B[0m\u001B[37m\u001B[0m \u001B[1m1s\u001B[0m 2ms/step - accuracy: 0.6856 - loss: 0.8276 - val_accuracy: 0.8335 - val_loss: 0.5703\n",
      "Epoch 69/1000\n",
      "\u001B[1m369/390\u001B[0m \u001B[32m━━━━━━━━━━━━━━━━━━\u001B[0m\u001B[37m━━\u001B[0m \u001B[1m0s\u001B[0m 1ms/step - accuracy: 0.6898 - loss: 0.8119\n",
      "Epoch 69: saving model to pose_detector.keras\n",
      "\u001B[1m390/390\u001B[0m \u001B[32m━━━━━━━━━━━━━━━━━━━━\u001B[0m\u001B[37m\u001B[0m \u001B[1m1s\u001B[0m 2ms/step - accuracy: 0.6900 - loss: 0.8120 - val_accuracy: 0.8225 - val_loss: 0.5997\n",
      "Epoch 70/1000\n",
      "\u001B[1m365/390\u001B[0m \u001B[32m━━━━━━━━━━━━━━━━━━\u001B[0m\u001B[37m━━\u001B[0m \u001B[1m0s\u001B[0m 1ms/step - accuracy: 0.6881 - loss: 0.8181\n",
      "Epoch 70: saving model to pose_detector.keras\n",
      "\u001B[1m390/390\u001B[0m \u001B[32m━━━━━━━━━━━━━━━━━━━━\u001B[0m\u001B[37m\u001B[0m \u001B[1m1s\u001B[0m 2ms/step - accuracy: 0.6882 - loss: 0.8181 - val_accuracy: 0.8237 - val_loss: 0.5792\n",
      "Epoch 71/1000\n",
      "\u001B[1m369/390\u001B[0m \u001B[32m━━━━━━━━━━━━━━━━━━\u001B[0m\u001B[37m━━\u001B[0m \u001B[1m0s\u001B[0m 1ms/step - accuracy: 0.6869 - loss: 0.8315\n",
      "Epoch 71: saving model to pose_detector.keras\n",
      "\u001B[1m390/390\u001B[0m \u001B[32m━━━━━━━━━━━━━━━━━━━━\u001B[0m\u001B[37m\u001B[0m \u001B[1m1s\u001B[0m 2ms/step - accuracy: 0.6869 - loss: 0.8312 - val_accuracy: 0.8213 - val_loss: 0.5838\n",
      "Epoch 72/1000\n",
      "\u001B[1m363/390\u001B[0m \u001B[32m━━━━━━━━━━━━━━━━━━\u001B[0m\u001B[37m━━\u001B[0m \u001B[1m0s\u001B[0m 1ms/step - accuracy: 0.6899 - loss: 0.8192\n",
      "Epoch 72: saving model to pose_detector.keras\n",
      "\u001B[1m390/390\u001B[0m \u001B[32m━━━━━━━━━━━━━━━━━━━━\u001B[0m\u001B[37m\u001B[0m \u001B[1m1s\u001B[0m 2ms/step - accuracy: 0.6899 - loss: 0.8191 - val_accuracy: 0.8231 - val_loss: 0.5559\n",
      "Epoch 73/1000\n",
      "\u001B[1m364/390\u001B[0m \u001B[32m━━━━━━━━━━━━━━━━━━\u001B[0m\u001B[37m━━\u001B[0m \u001B[1m0s\u001B[0m 1ms/step - accuracy: 0.6966 - loss: 0.8057\n",
      "Epoch 73: saving model to pose_detector.keras\n",
      "\u001B[1m390/390\u001B[0m \u001B[32m━━━━━━━━━━━━━━━━━━━━\u001B[0m\u001B[37m\u001B[0m \u001B[1m1s\u001B[0m 2ms/step - accuracy: 0.6965 - loss: 0.8059 - val_accuracy: 0.8264 - val_loss: 0.5703\n",
      "Epoch 74/1000\n",
      "\u001B[1m362/390\u001B[0m \u001B[32m━━━━━━━━━━━━━━━━━━\u001B[0m\u001B[37m━━\u001B[0m \u001B[1m0s\u001B[0m 1ms/step - accuracy: 0.6916 - loss: 0.8166\n",
      "Epoch 74: saving model to pose_detector.keras\n",
      "\u001B[1m390/390\u001B[0m \u001B[32m━━━━━━━━━━━━━━━━━━━━\u001B[0m\u001B[37m\u001B[0m \u001B[1m1s\u001B[0m 2ms/step - accuracy: 0.6917 - loss: 0.8165 - val_accuracy: 0.8233 - val_loss: 0.5897\n",
      "Epoch 75/1000\n",
      "\u001B[1m364/390\u001B[0m \u001B[32m━━━━━━━━━━━━━━━━━━\u001B[0m\u001B[37m━━\u001B[0m \u001B[1m0s\u001B[0m 2ms/step - accuracy: 0.6909 - loss: 0.8108\n",
      "Epoch 75: saving model to pose_detector.keras\n",
      "\u001B[1m390/390\u001B[0m \u001B[32m━━━━━━━━━━━━━━━━━━━━\u001B[0m\u001B[37m\u001B[0m \u001B[1m1s\u001B[0m 2ms/step - accuracy: 0.6911 - loss: 0.8109 - val_accuracy: 0.8188 - val_loss: 0.6073\n",
      "Epoch 76/1000\n",
      "\u001B[1m380/390\u001B[0m \u001B[32m━━━━━━━━━━━━━━━━━━━\u001B[0m\u001B[37m━\u001B[0m \u001B[1m0s\u001B[0m 2ms/step - accuracy: 0.6915 - loss: 0.8162\n",
      "Epoch 76: saving model to pose_detector.keras\n",
      "\u001B[1m390/390\u001B[0m \u001B[32m━━━━━━━━━━━━━━━━━━━━\u001B[0m\u001B[37m\u001B[0m \u001B[1m1s\u001B[0m 2ms/step - accuracy: 0.6915 - loss: 0.8162 - val_accuracy: 0.8211 - val_loss: 0.6020\n",
      "Epoch 77/1000\n",
      "\u001B[1m362/390\u001B[0m \u001B[32m━━━━━━━━━━━━━━━━━━\u001B[0m\u001B[37m━━\u001B[0m \u001B[1m0s\u001B[0m 2ms/step - accuracy: 0.6939 - loss: 0.8095\n",
      "Epoch 77: saving model to pose_detector.keras\n",
      "\u001B[1m390/390\u001B[0m \u001B[32m━━━━━━━━━━━━━━━━━━━━\u001B[0m\u001B[37m\u001B[0m \u001B[1m1s\u001B[0m 2ms/step - accuracy: 0.6940 - loss: 0.8099 - val_accuracy: 0.8187 - val_loss: 0.6108\n",
      "Epoch 78/1000\n",
      "\u001B[1m355/390\u001B[0m \u001B[32m━━━━━━━━━━━━━━━━━━\u001B[0m\u001B[37m━━\u001B[0m \u001B[1m0s\u001B[0m 1ms/step - accuracy: 0.7001 - loss: 0.7961\n",
      "Epoch 78: saving model to pose_detector.keras\n",
      "\u001B[1m390/390\u001B[0m \u001B[32m━━━━━━━━━━━━━━━━━━━━\u001B[0m\u001B[37m\u001B[0m \u001B[1m1s\u001B[0m 2ms/step - accuracy: 0.6998 - loss: 0.7972 - val_accuracy: 0.8307 - val_loss: 0.5645\n",
      "Epoch 79/1000\n",
      "\u001B[1m358/390\u001B[0m \u001B[32m━━━━━━━━━━━━━━━━━━\u001B[0m\u001B[37m━━\u001B[0m \u001B[1m0s\u001B[0m 1ms/step - accuracy: 0.6945 - loss: 0.8125\n",
      "Epoch 79: saving model to pose_detector.keras\n",
      "\u001B[1m390/390\u001B[0m \u001B[32m━━━━━━━━━━━━━━━━━━━━\u001B[0m\u001B[37m\u001B[0m \u001B[1m1s\u001B[0m 2ms/step - accuracy: 0.6945 - loss: 0.8122 - val_accuracy: 0.8286 - val_loss: 0.5838\n",
      "Epoch 80/1000\n",
      "\u001B[1m355/390\u001B[0m \u001B[32m━━━━━━━━━━━━━━━━━━\u001B[0m\u001B[37m━━\u001B[0m \u001B[1m0s\u001B[0m 1ms/step - accuracy: 0.6914 - loss: 0.8064\n",
      "Epoch 80: saving model to pose_detector.keras\n",
      "\u001B[1m390/390\u001B[0m \u001B[32m━━━━━━━━━━━━━━━━━━━━\u001B[0m\u001B[37m\u001B[0m \u001B[1m1s\u001B[0m 2ms/step - accuracy: 0.6915 - loss: 0.8066 - val_accuracy: 0.8093 - val_loss: 0.5945\n",
      "Epoch 81/1000\n",
      "\u001B[1m359/390\u001B[0m \u001B[32m━━━━━━━━━━━━━━━━━━\u001B[0m\u001B[37m━━\u001B[0m \u001B[1m0s\u001B[0m 1ms/step - accuracy: 0.6968 - loss: 0.7959\n",
      "Epoch 81: saving model to pose_detector.keras\n",
      "\u001B[1m390/390\u001B[0m \u001B[32m━━━━━━━━━━━━━━━━━━━━\u001B[0m\u001B[37m\u001B[0m \u001B[1m1s\u001B[0m 2ms/step - accuracy: 0.6967 - loss: 0.7967 - val_accuracy: 0.8297 - val_loss: 0.5922\n",
      "Epoch 82/1000\n",
      "\u001B[1m358/390\u001B[0m \u001B[32m━━━━━━━━━━━━━━━━━━\u001B[0m\u001B[37m━━\u001B[0m \u001B[1m0s\u001B[0m 1ms/step - accuracy: 0.6928 - loss: 0.8055\n",
      "Epoch 82: saving model to pose_detector.keras\n",
      "\u001B[1m390/390\u001B[0m \u001B[32m━━━━━━━━━━━━━━━━━━━━\u001B[0m\u001B[37m\u001B[0m \u001B[1m1s\u001B[0m 2ms/step - accuracy: 0.6929 - loss: 0.8054 - val_accuracy: 0.8238 - val_loss: 0.5684\n",
      "Epoch 83/1000\n",
      "\u001B[1m361/390\u001B[0m \u001B[32m━━━━━━━━━━━━━━━━━━\u001B[0m\u001B[37m━━\u001B[0m \u001B[1m0s\u001B[0m 1ms/step - accuracy: 0.6922 - loss: 0.8073\n",
      "Epoch 83: saving model to pose_detector.keras\n",
      "\u001B[1m390/390\u001B[0m \u001B[32m━━━━━━━━━━━━━━━━━━━━\u001B[0m\u001B[37m\u001B[0m \u001B[1m1s\u001B[0m 2ms/step - accuracy: 0.6921 - loss: 0.8074 - val_accuracy: 0.8049 - val_loss: 0.6104\n",
      "Epoch 83: early stopping\n"
     ]
    },
    {
     "data": {
      "text/plain": [
       "<keras.src.callbacks.history.History at 0x1f8e0d964a0>"
      ]
     },
     "execution_count": 12,
     "metadata": {},
     "output_type": "execute_result"
    }
   ],
   "execution_count": 12
  },
  {
   "metadata": {
    "ExecuteTime": {
     "end_time": "2024-07-21T04:53:34.172486Z",
     "start_time": "2024-07-21T04:53:33.937724Z"
    }
   },
   "cell_type": "code",
   "source": [
    "# Model evaluation\n",
    "val_loss, val_acc = model.evaluate(X_test, y_test, batch_size=128)"
   ],
   "id": "bee66f9c54fd061a",
   "outputs": [
    {
     "name": "stdout",
     "output_type": "stream",
     "text": [
      "\u001B[1m130/130\u001B[0m \u001B[32m━━━━━━━━━━━━━━━━━━━━\u001B[0m\u001B[37m\u001B[0m \u001B[1m0s\u001B[0m 1ms/step - accuracy: 0.8083 - loss: 0.6069\n"
     ]
    }
   ],
   "execution_count": 13
  },
  {
   "metadata": {
    "ExecuteTime": {
     "end_time": "2024-07-21T04:53:34.262636Z",
     "start_time": "2024-07-21T04:53:34.174651Z"
    }
   },
   "cell_type": "code",
   "source": [
    "# Loading the saved model\n",
    "model = tf.keras.models.load_model(model_save_path)"
   ],
   "id": "c65e310e018d0999",
   "outputs": [],
   "execution_count": 14
  },
  {
   "metadata": {
    "ExecuteTime": {
     "end_time": "2024-07-21T04:54:29.574529Z",
     "start_time": "2024-07-21T04:54:29.462301Z"
    }
   },
   "cell_type": "code",
   "source": [
    "# Inference test\n",
    "predict_result = model.predict(np.array([X_test[0]]))\n",
    "print(np.squeeze(predict_result))\n",
    "print(np.argmax(np.squeeze(predict_result)))"
   ],
   "id": "68cb8d57dd3b99da",
   "outputs": [
    {
     "name": "stdout",
     "output_type": "stream",
     "text": [
      "\u001B[1m1/1\u001B[0m \u001B[32m━━━━━━━━━━━━━━━━━━━━\u001B[0m\u001B[37m\u001B[0m \u001B[1m0s\u001B[0m 51ms/step\n",
      "[5.3687687e-03 2.0134654e-02 4.4348385e-04 9.2142582e-01 6.5334877e-03\n",
      " 4.6093810e-02]\n",
      "3\n"
     ]
    }
   ],
   "execution_count": 15
  },
  {
   "metadata": {},
   "cell_type": "markdown",
   "source": "# Save Model to TFfile",
   "id": "4cc6a7d86e0bda9a"
  },
  {
   "metadata": {
    "ExecuteTime": {
     "end_time": "2024-07-21T04:57:38.088836Z",
     "start_time": "2024-07-21T04:57:37.867955Z"
    }
   },
   "cell_type": "code",
   "source": "model.export(model_save_name)",
   "id": "dc4c80922090aa2e",
   "outputs": [
    {
     "name": "stdout",
     "output_type": "stream",
     "text": [
      "INFO:tensorflow:Assets written to: pose_detector.tflite\\assets\n"
     ]
    },
    {
     "name": "stderr",
     "output_type": "stream",
     "text": [
      "INFO:tensorflow:Assets written to: pose_detector.tflite\\assets\n"
     ]
    },
    {
     "name": "stdout",
     "output_type": "stream",
     "text": [
      "Saved artifact at 'pose_detector.tflite'. The following endpoints are available:\n",
      "\n",
      "* Endpoint 'serve'\n",
      "  args_0 (POSITIONAL_ONLY): TensorSpec(shape=(None, 9), dtype=tf.float32, name='input_layer')\n",
      "Output Type:\n",
      "  TensorSpec(shape=(None, 6), dtype=tf.float32, name=None)\n",
      "Captures:\n",
      "  2168471491808: TensorSpec(shape=(), dtype=tf.resource, name=None)\n",
      "  2168471494272: TensorSpec(shape=(), dtype=tf.resource, name=None)\n",
      "  2168506106800: TensorSpec(shape=(), dtype=tf.resource, name=None)\n",
      "  2168506109968: TensorSpec(shape=(), dtype=tf.resource, name=None)\n",
      "  2168506117184: TensorSpec(shape=(), dtype=tf.resource, name=None)\n",
      "  2168506112960: TensorSpec(shape=(), dtype=tf.resource, name=None)\n"
     ]
    }
   ],
   "execution_count": 19
  },
  {
   "metadata": {
    "ExecuteTime": {
     "end_time": "2024-07-21T05:16:38.517312Z",
     "start_time": "2024-07-21T05:16:38.041176Z"
    }
   },
   "cell_type": "code",
   "source": [
    "converter = tf.lite.TFLiteConverter.from_saved_model(model_save_name)\n",
    "tflite_model = converter.convert()"
   ],
   "id": "e80270ee32ef7ecf",
   "outputs": [],
   "execution_count": 33
  },
  {
   "metadata": {
    "ExecuteTime": {
     "end_time": "2024-07-21T05:17:34.977758Z",
     "start_time": "2024-07-21T05:17:34.962160Z"
    }
   },
   "cell_type": "code",
   "source": [
    "with open(model_tflite_name, 'wb') as f:\n",
    "    f.write(tflite_model)"
   ],
   "id": "9c02c461eae437d0",
   "outputs": [],
   "execution_count": 34
  },
  {
   "metadata": {},
   "cell_type": "markdown",
   "source": "# Confussion Matrix",
   "id": "c246179bb37dcf1f"
  },
  {
   "metadata": {
    "ExecuteTime": {
     "end_time": "2024-07-21T04:54:38.666046Z",
     "start_time": "2024-07-21T04:54:37.546409Z"
    }
   },
   "cell_type": "code",
   "source": [
    "import pandas as pd\n",
    "import seaborn as sns\n",
    "import matplotlib.pyplot as plt\n",
    "from sklearn.metrics import confusion_matrix, classification_report\n",
    "\n",
    "def print_confusion_matrix(y_true, y_pred, report=True):\n",
    "    labels = sorted(list(set(y_true)))\n",
    "    cmx_data = confusion_matrix(y_true, y_pred, labels=labels)\n",
    "    \n",
    "    df_cmx = pd.DataFrame(cmx_data, index=labels, columns=labels)\n",
    " \n",
    "    fig, ax = plt.subplots(figsize=(7, 6))\n",
    "    sns.heatmap(df_cmx, annot=True, fmt='g' ,square=False)\n",
    "    ax.set_ylim(len(set(y_true)), 0)\n",
    "    plt.show()\n",
    "    \n",
    "    if report:\n",
    "        print('Classification Report')\n",
    "        print(classification_report(y_test, y_pred))\n",
    "\n",
    "Y_pred = model.predict(X_test)\n",
    "y_pred = np.argmax(Y_pred, axis=1)\n",
    "\n",
    "print_confusion_matrix(y_test, y_pred)"
   ],
   "id": "8d4700bbdcfe605e",
   "outputs": [
    {
     "name": "stdout",
     "output_type": "stream",
     "text": [
      "\u001B[1m520/520\u001B[0m \u001B[32m━━━━━━━━━━━━━━━━━━━━\u001B[0m\u001B[37m\u001B[0m \u001B[1m1s\u001B[0m 975us/step\n"
     ]
    },
    {
     "data": {
      "text/plain": [
       "<Figure size 700x600 with 2 Axes>"
      ],
      "image/png": "[encoded data removed]"
     },
     "metadata": {},
     "output_type": "display_data"
    },
    {
     "name": "stdout",
     "output_type": "stream",
     "text": [
      "Classification Report\n",
      "              precision    recall  f1-score   support\n",
      "\n",
      "           0       0.68      0.96      0.80      2667\n",
      "           1       0.89      0.79      0.83      2822\n",
      "           2       0.76      0.43      0.55      2796\n",
      "           3       0.97      0.98      0.98      2724\n",
      "           4       0.71      0.97      0.82      2849\n",
      "           5       0.92      0.71      0.80      2752\n",
      "\n",
      "    accuracy                           0.80     16610\n",
      "   macro avg       0.82      0.81      0.80     16610\n",
      "weighted avg       0.82      0.80      0.80     16610\n",
      "\n"
     ]
    }
   ],
   "execution_count": 17
  },
  {
   "metadata": {},
   "cell_type": "code",
   "outputs": [],
   "execution_count": null,
   "source": "",
   "id": "cd4e6367018f3b0a"
  }
 ],
 "metadata": {
  "kernelspec": {
   "display_name": "Python 3",
   "language": "python",
   "name": "python3"
  },
  "language_info": {
   "codemirror_mode": {
    "name": "ipython",
    "version": 2
   },
   "file_extension": ".py",
   "mimetype": "text/x-python",
   "name": "python",
   "nbconvert_exporter": "python",
   "pygments_lexer": "ipython2",
   "version": "2.7.6"
  }
 },
 "nbformat": 4,
 "nbformat_minor": 5
}
