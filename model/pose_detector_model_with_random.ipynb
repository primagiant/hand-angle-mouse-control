{
 "cells": [
  {
   "cell_type": "code",
   "execution_count": 1,
   "id": "initial_id",
   "metadata": {
    "ExecuteTime": {
     "end_time": "2025-01-12T08:34:58.056369Z",
     "start_time": "2025-01-12T08:34:58.052944Z"
    },
    "collapsed": true
   },
   "outputs": [
    {
     "name": "stderr",
     "output_type": "stream",
     "text": [
      "2025-02-09 17:21:27.769285: I external/local_xla/xla/tsl/cuda/cudart_stub.cc:32] Could not find cuda drivers on your machine, GPU will not be used.\n",
      "2025-02-09 17:21:27.772865: I external/local_xla/xla/tsl/cuda/cudart_stub.cc:32] Could not find cuda drivers on your machine, GPU will not be used.\n",
      "2025-02-09 17:21:27.783896: E external/local_xla/xla/stream_executor/cuda/cuda_fft.cc:477] Unable to register cuFFT factory: Attempting to register factory for plugin cuFFT when one has already been registered\n",
      "WARNING: All log messages before absl::InitializeLog() is called are written to STDERR\n",
      "E0000 00:00:1739092887.802693   32199 cuda_dnn.cc:8310] Unable to register cuDNN factory: Attempting to register factory for plugin cuDNN when one has already been registered\n",
      "E0000 00:00:1739092887.807936   32199 cuda_blas.cc:1418] Unable to register cuBLAS factory: Attempting to register factory for plugin cuBLAS when one has already been registered\n",
      "2025-02-09 17:21:27.827752: I tensorflow/core/platform/cpu_feature_guard.cc:210] This TensorFlow binary is optimized to use available CPU instructions in performance-critical operations.\n",
      "To enable the following instructions: AVX2 FMA, in other operations, rebuild TensorFlow with the appropriate compiler flags.\n"
     ]
    }
   ],
   "source": [
    "import numpy as np\n",
    "import tensorflow as tf\n",
    "from sklearn.model_selection import train_test_split\n",
    "\n",
    "RANDOM_SEED = 42"
   ]
  },
  {
   "cell_type": "code",
   "execution_count": 24,
   "id": "81ecd7773e8b1b1c",
   "metadata": {
    "ExecuteTime": {
     "end_time": "2025-01-12T08:34:59.794067Z",
     "start_time": "2025-01-12T08:34:59.791061Z"
    }
   },
   "outputs": [],
   "source": [
    "dataset = 'random.csv'\n",
    "model_save_path = 'pose_detector_with_random.keras'\n",
    "model_save_name = 'pose_detector_with_random'\n",
    "model_tflite_name = 'pose_detector_with_random.tflite'"
   ]
  },
  {
   "cell_type": "code",
   "execution_count": 25,
   "id": "e69571db85feea87",
   "metadata": {
    "ExecuteTime": {
     "end_time": "2025-01-12T08:35:02.330514Z",
     "start_time": "2025-01-12T08:35:02.327777Z"
    }
   },
   "outputs": [],
   "source": [
    "NUM_CLASSES = 7"
   ]
  },
  {
   "cell_type": "code",
   "execution_count": 26,
   "id": "ba2e60d8aaea8676",
   "metadata": {
    "ExecuteTime": {
     "end_time": "2025-01-12T08:35:02.744749Z",
     "start_time": "2025-01-12T08:35:02.676325Z"
    }
   },
   "outputs": [],
   "source": [
    "X_dataset = np.loadtxt(dataset, delimiter=',', dtype='float32', usecols=list(range(2, 10 + 1)))"
   ]
  },
  {
   "cell_type": "code",
   "execution_count": 27,
   "id": "db3200ee0876a45b",
   "metadata": {
    "ExecuteTime": {
     "end_time": "2025-01-12T08:35:03.126370Z",
     "start_time": "2025-01-12T08:35:03.103107Z"
    }
   },
   "outputs": [],
   "source": [
    "y_dataset = np.loadtxt(dataset, delimiter=',', dtype='int32', usecols=(0))"
   ]
  },
  {
   "cell_type": "code",
   "execution_count": 28,
   "id": "3a82246ef97fae35",
   "metadata": {
    "ExecuteTime": {
     "end_time": "2025-01-12T08:35:03.442912Z",
     "start_time": "2025-01-12T08:35:03.440037Z"
    }
   },
   "outputs": [],
   "source": [
    "# y_dataset = y_dataset - 1"
   ]
  },
  {
   "cell_type": "code",
   "execution_count": 29,
   "id": "c59381c52ebe6d0b",
   "metadata": {
    "ExecuteTime": {
     "end_time": "2025-01-12T08:35:03.691362Z",
     "start_time": "2025-01-12T08:35:03.667698Z"
    }
   },
   "outputs": [],
   "source": [
    "X_train, X_test, y_train, y_test = train_test_split(X_dataset, y_dataset, train_size=0.80, random_state=RANDOM_SEED)"
   ]
  },
  {
   "cell_type": "markdown",
   "id": "1478cdb5565259bc",
   "metadata": {},
   "source": [
    "# Model building"
   ]
  },
  {
   "cell_type": "code",
   "execution_count": 30,
   "id": "8611be63bb0dd298",
   "metadata": {
    "ExecuteTime": {
     "end_time": "2025-01-12T08:35:04.274506Z",
     "start_time": "2025-01-12T08:35:04.244417Z"
    }
   },
   "outputs": [],
   "source": [
    "model = tf.keras.models.Sequential([\n",
    "    tf.keras.layers.Input((9, )),\n",
    "    tf.keras.layers.Dropout(0.2),\n",
    "    tf.keras.layers.Dense(20, activation='relu'),\n",
    "    tf.keras.layers.Dropout(0.4),\n",
    "    tf.keras.layers.Dense(10, activation='relu'),\n",
    "    tf.keras.layers.Dense(NUM_CLASSES, activation='softmax')\n",
    "])"
   ]
  },
  {
   "cell_type": "code",
   "execution_count": 31,
   "id": "5e296d1fdc34bc63",
   "metadata": {
    "ExecuteTime": {
     "end_time": "2025-01-12T08:35:04.412866Z",
     "start_time": "2025-01-12T08:35:04.399175Z"
    }
   },
   "outputs": [
    {
     "data": {
      "text/html": [
       "<pre style=\"white-space:pre;overflow-x:auto;line-height:normal;font-family:Menlo,'DejaVu Sans Mono',consolas,'Courier New',monospace\"><span style=\"font-weight: bold\">Model: \"sequential_1\"</span>\n",
       "</pre>\n"
      ],
      "text/plain": [
       "\u001b[1mModel: \"sequential_1\"\u001b[0m\n"
      ]
     },
     "metadata": {},
     "output_type": "display_data"
    },
    {
     "data": {
      "text/html": [
       "<pre style=\"white-space:pre;overflow-x:auto;line-height:normal;font-family:Menlo,'DejaVu Sans Mono',consolas,'Courier New',monospace\">┏━━━━━━━━━━━━━━━━━━━━━━━━━━━━━━━━━┳━━━━━━━━━━━━━━━━━━━━━━━━┳━━━━━━━━━━━━━━━┓\n",
       "┃<span style=\"font-weight: bold\"> Layer (type)                    </span>┃<span style=\"font-weight: bold\"> Output Shape           </span>┃<span style=\"font-weight: bold\">       Param # </span>┃\n",
       "┡━━━━━━━━━━━━━━━━━━━━━━━━━━━━━━━━━╇━━━━━━━━━━━━━━━━━━━━━━━━╇━━━━━━━━━━━━━━━┩\n",
       "│ dropout_2 (<span style=\"color: #0087ff; text-decoration-color: #0087ff\">Dropout</span>)             │ (<span style=\"color: #00d7ff; text-decoration-color: #00d7ff\">None</span>, <span style=\"color: #00af00; text-decoration-color: #00af00\">9</span>)              │             <span style=\"color: #00af00; text-decoration-color: #00af00\">0</span> │\n",
       "├─────────────────────────────────┼────────────────────────┼───────────────┤\n",
       "│ dense_3 (<span style=\"color: #0087ff; text-decoration-color: #0087ff\">Dense</span>)                 │ (<span style=\"color: #00d7ff; text-decoration-color: #00d7ff\">None</span>, <span style=\"color: #00af00; text-decoration-color: #00af00\">20</span>)             │           <span style=\"color: #00af00; text-decoration-color: #00af00\">200</span> │\n",
       "├─────────────────────────────────┼────────────────────────┼───────────────┤\n",
       "│ dropout_3 (<span style=\"color: #0087ff; text-decoration-color: #0087ff\">Dropout</span>)             │ (<span style=\"color: #00d7ff; text-decoration-color: #00d7ff\">None</span>, <span style=\"color: #00af00; text-decoration-color: #00af00\">20</span>)             │             <span style=\"color: #00af00; text-decoration-color: #00af00\">0</span> │\n",
       "├─────────────────────────────────┼────────────────────────┼───────────────┤\n",
       "│ dense_4 (<span style=\"color: #0087ff; text-decoration-color: #0087ff\">Dense</span>)                 │ (<span style=\"color: #00d7ff; text-decoration-color: #00d7ff\">None</span>, <span style=\"color: #00af00; text-decoration-color: #00af00\">10</span>)             │           <span style=\"color: #00af00; text-decoration-color: #00af00\">210</span> │\n",
       "├─────────────────────────────────┼────────────────────────┼───────────────┤\n",
       "│ dense_5 (<span style=\"color: #0087ff; text-decoration-color: #0087ff\">Dense</span>)                 │ (<span style=\"color: #00d7ff; text-decoration-color: #00d7ff\">None</span>, <span style=\"color: #00af00; text-decoration-color: #00af00\">7</span>)              │            <span style=\"color: #00af00; text-decoration-color: #00af00\">77</span> │\n",
       "└─────────────────────────────────┴────────────────────────┴───────────────┘\n",
       "</pre>\n"
      ],
      "text/plain": [
       "┏━━━━━━━━━━━━━━━━━━━━━━━━━━━━━━━━━┳━━━━━━━━━━━━━━━━━━━━━━━━┳━━━━━━━━━━━━━━━┓\n",
       "┃\u001b[1m \u001b[0m\u001b[1mLayer (type)                   \u001b[0m\u001b[1m \u001b[0m┃\u001b[1m \u001b[0m\u001b[1mOutput Shape          \u001b[0m\u001b[1m \u001b[0m┃\u001b[1m \u001b[0m\u001b[1m      Param #\u001b[0m\u001b[1m \u001b[0m┃\n",
       "┡━━━━━━━━━━━━━━━━━━━━━━━━━━━━━━━━━╇━━━━━━━━━━━━━━━━━━━━━━━━╇━━━━━━━━━━━━━━━┩\n",
       "│ dropout_2 (\u001b[38;5;33mDropout\u001b[0m)             │ (\u001b[38;5;45mNone\u001b[0m, \u001b[38;5;34m9\u001b[0m)              │             \u001b[38;5;34m0\u001b[0m │\n",
       "├─────────────────────────────────┼────────────────────────┼───────────────┤\n",
       "│ dense_3 (\u001b[38;5;33mDense\u001b[0m)                 │ (\u001b[38;5;45mNone\u001b[0m, \u001b[38;5;34m20\u001b[0m)             │           \u001b[38;5;34m200\u001b[0m │\n",
       "├─────────────────────────────────┼────────────────────────┼───────────────┤\n",
       "│ dropout_3 (\u001b[38;5;33mDropout\u001b[0m)             │ (\u001b[38;5;45mNone\u001b[0m, \u001b[38;5;34m20\u001b[0m)             │             \u001b[38;5;34m0\u001b[0m │\n",
       "├─────────────────────────────────┼────────────────────────┼───────────────┤\n",
       "│ dense_4 (\u001b[38;5;33mDense\u001b[0m)                 │ (\u001b[38;5;45mNone\u001b[0m, \u001b[38;5;34m10\u001b[0m)             │           \u001b[38;5;34m210\u001b[0m │\n",
       "├─────────────────────────────────┼────────────────────────┼───────────────┤\n",
       "│ dense_5 (\u001b[38;5;33mDense\u001b[0m)                 │ (\u001b[38;5;45mNone\u001b[0m, \u001b[38;5;34m7\u001b[0m)              │            \u001b[38;5;34m77\u001b[0m │\n",
       "└─────────────────────────────────┴────────────────────────┴───────────────┘\n"
      ]
     },
     "metadata": {},
     "output_type": "display_data"
    },
    {
     "data": {
      "text/html": [
       "<pre style=\"white-space:pre;overflow-x:auto;line-height:normal;font-family:Menlo,'DejaVu Sans Mono',consolas,'Courier New',monospace\"><span style=\"font-weight: bold\"> Total params: </span><span style=\"color: #00af00; text-decoration-color: #00af00\">487</span> (1.90 KB)\n",
       "</pre>\n"
      ],
      "text/plain": [
       "\u001b[1m Total params: \u001b[0m\u001b[38;5;34m487\u001b[0m (1.90 KB)\n"
      ]
     },
     "metadata": {},
     "output_type": "display_data"
    },
    {
     "data": {
      "text/html": [
       "<pre style=\"white-space:pre;overflow-x:auto;line-height:normal;font-family:Menlo,'DejaVu Sans Mono',consolas,'Courier New',monospace\"><span style=\"font-weight: bold\"> Trainable params: </span><span style=\"color: #00af00; text-decoration-color: #00af00\">487</span> (1.90 KB)\n",
       "</pre>\n"
      ],
      "text/plain": [
       "\u001b[1m Trainable params: \u001b[0m\u001b[38;5;34m487\u001b[0m (1.90 KB)\n"
      ]
     },
     "metadata": {},
     "output_type": "display_data"
    },
    {
     "data": {
      "text/html": [
       "<pre style=\"white-space:pre;overflow-x:auto;line-height:normal;font-family:Menlo,'DejaVu Sans Mono',consolas,'Courier New',monospace\"><span style=\"font-weight: bold\"> Non-trainable params: </span><span style=\"color: #00af00; text-decoration-color: #00af00\">0</span> (0.00 B)\n",
       "</pre>\n"
      ],
      "text/plain": [
       "\u001b[1m Non-trainable params: \u001b[0m\u001b[38;5;34m0\u001b[0m (0.00 B)\n"
      ]
     },
     "metadata": {},
     "output_type": "display_data"
    }
   ],
   "source": [
    "model.summary()  # tf.keras.utils.plot_model(model, show_shapes=True)"
   ]
  },
  {
   "cell_type": "code",
   "execution_count": 32,
   "id": "fd303061c176e14",
   "metadata": {
    "ExecuteTime": {
     "end_time": "2025-01-12T08:35:04.582533Z",
     "start_time": "2025-01-12T08:35:04.578952Z"
    }
   },
   "outputs": [],
   "source": [
    "# Model checkpoint callback\n",
    "# path_model = os.path.dirname(model_save_path)\n",
    "cp_callback = tf.keras.callbacks.ModelCheckpoint(\n",
    "    filepath=model_save_path, verbose=1, save_weights_only=False\n",
    ")\n",
    "# Callback for early stopping\n",
    "es_callback = tf.keras.callbacks.EarlyStopping(patience=20, verbose=1)"
   ]
  },
  {
   "cell_type": "code",
   "execution_count": 33,
   "id": "186ec0ffe55e4c27",
   "metadata": {
    "ExecuteTime": {
     "end_time": "2025-01-12T08:35:04.784606Z",
     "start_time": "2025-01-12T08:35:04.776590Z"
    }
   },
   "outputs": [],
   "source": [
    "# Model compilation\n",
    "model.compile(\n",
    "    optimizer='adam',\n",
    "    loss='sparse_categorical_crossentropy',\n",
    "    metrics=['accuracy']\n",
    ")"
   ]
  },
  {
   "cell_type": "markdown",
   "id": "39518e52dc7ed76f",
   "metadata": {},
   "source": [
    "# Model training"
   ]
  },
  {
   "cell_type": "code",
   "execution_count": 34,
   "id": "bac1c343f72caac2",
   "metadata": {
    "ExecuteTime": {
     "end_time": "2025-01-12T08:35:58.617921Z",
     "start_time": "2025-01-12T08:35:05.179608Z"
    }
   },
   "outputs": [
    {
     "name": "stdout",
     "output_type": "stream",
     "text": [
      "Epoch 1/1000\n",
      "\u001b[1m490/523\u001b[0m \u001b[32m━━━━━━━━━━━━━━━━━━\u001b[0m\u001b[37m━━\u001b[0m \u001b[1m0s\u001b[0m 1ms/step - accuracy: 0.1937 - loss: 9.6929 \n",
      "Epoch 1: saving model to pose_detector_with_random.keras\n",
      "\u001b[1m523/523\u001b[0m \u001b[32m━━━━━━━━━━━━━━━━━━━━\u001b[0m\u001b[37m\u001b[0m \u001b[1m2s\u001b[0m 2ms/step - accuracy: 0.1951 - loss: 9.3731 - val_accuracy: 0.2592 - val_loss: 1.7120\n",
      "Epoch 2/1000\n",
      "\u001b[1m498/523\u001b[0m \u001b[32m━━━━━━━━━━━━━━━━━━━\u001b[0m\u001b[37m━\u001b[0m \u001b[1m0s\u001b[0m 1ms/step - accuracy: 0.2537 - loss: 1.8654\n",
      "Epoch 2: saving model to pose_detector_with_random.keras\n",
      "\u001b[1m523/523\u001b[0m \u001b[32m━━━━━━━━━━━━━━━━━━━━\u001b[0m\u001b[37m\u001b[0m \u001b[1m1s\u001b[0m 2ms/step - accuracy: 0.2545 - loss: 1.8620 - val_accuracy: 0.4822 - val_loss: 1.5198\n",
      "Epoch 3/1000\n",
      "\u001b[1m494/523\u001b[0m \u001b[32m━━━━━━━━━━━━━━━━━━\u001b[0m\u001b[37m━━\u001b[0m \u001b[1m0s\u001b[0m 1ms/step - accuracy: 0.3343 - loss: 1.6518\n",
      "Epoch 3: saving model to pose_detector_with_random.keras\n",
      "\u001b[1m523/523\u001b[0m \u001b[32m━━━━━━━━━━━━━━━━━━━━\u001b[0m\u001b[37m\u001b[0m \u001b[1m1s\u001b[0m 2ms/step - accuracy: 0.3350 - loss: 1.6503 - val_accuracy: 0.5052 - val_loss: 1.4044\n",
      "Epoch 4/1000\n",
      "\u001b[1m523/523\u001b[0m \u001b[32m━━━━━━━━━━━━━━━━━━━━\u001b[0m\u001b[37m\u001b[0m \u001b[1m0s\u001b[0m 1ms/step - accuracy: 0.3727 - loss: 1.5629\n",
      "Epoch 4: saving model to pose_detector_with_random.keras\n",
      "\u001b[1m523/523\u001b[0m \u001b[32m━━━━━━━━━━━━━━━━━━━━\u001b[0m\u001b[37m\u001b[0m \u001b[1m1s\u001b[0m 2ms/step - accuracy: 0.3727 - loss: 1.5629 - val_accuracy: 0.5616 - val_loss: 1.3487\n",
      "Epoch 5/1000\n",
      "\u001b[1m514/523\u001b[0m \u001b[32m━━━━━━━━━━━━━━━━━━━\u001b[0m\u001b[37m━\u001b[0m \u001b[1m0s\u001b[0m 1ms/step - accuracy: 0.3866 - loss: 1.5170\n",
      "Epoch 5: saving model to pose_detector_with_random.keras\n",
      "\u001b[1m523/523\u001b[0m \u001b[32m━━━━━━━━━━━━━━━━━━━━\u001b[0m\u001b[37m\u001b[0m \u001b[1m1s\u001b[0m 2ms/step - accuracy: 0.3867 - loss: 1.5168 - val_accuracy: 0.5388 - val_loss: 1.3194\n",
      "Epoch 6/1000\n",
      "\u001b[1m493/523\u001b[0m \u001b[32m━━━━━━━━━━━━━━━━━━\u001b[0m\u001b[37m━━\u001b[0m \u001b[1m0s\u001b[0m 1ms/step - accuracy: 0.3949 - loss: 1.4872\n",
      "Epoch 6: saving model to pose_detector_with_random.keras\n",
      "\u001b[1m523/523\u001b[0m \u001b[32m━━━━━━━━━━━━━━━━━━━━\u001b[0m\u001b[37m\u001b[0m \u001b[1m1s\u001b[0m 2ms/step - accuracy: 0.3954 - loss: 1.4863 - val_accuracy: 0.5622 - val_loss: 1.2563\n",
      "Epoch 7/1000\n",
      "\u001b[1m486/523\u001b[0m \u001b[32m━━━━━━━━━━━━━━━━━━\u001b[0m\u001b[37m━━\u001b[0m \u001b[1m0s\u001b[0m 1ms/step - accuracy: 0.4141 - loss: 1.4494\n",
      "Epoch 7: saving model to pose_detector_with_random.keras\n",
      "\u001b[1m523/523\u001b[0m \u001b[32m━━━━━━━━━━━━━━━━━━━━\u001b[0m\u001b[37m\u001b[0m \u001b[1m1s\u001b[0m 2ms/step - accuracy: 0.4145 - loss: 1.4484 - val_accuracy: 0.5412 - val_loss: 1.1914\n",
      "Epoch 8/1000\n",
      "\u001b[1m517/523\u001b[0m \u001b[32m━━━━━━━━━━━━━━━━━━━\u001b[0m\u001b[37m━\u001b[0m \u001b[1m0s\u001b[0m 1ms/step - accuracy: 0.4337 - loss: 1.4002\n",
      "Epoch 8: saving model to pose_detector_with_random.keras\n",
      "\u001b[1m523/523\u001b[0m \u001b[32m━━━━━━━━━━━━━━━━━━━━\u001b[0m\u001b[37m\u001b[0m \u001b[1m1s\u001b[0m 2ms/step - accuracy: 0.4338 - loss: 1.4000 - val_accuracy: 0.5749 - val_loss: 1.1547\n",
      "Epoch 9/1000\n",
      "\u001b[1m518/523\u001b[0m \u001b[32m━━━━━━━━━━━━━━━━━━━\u001b[0m\u001b[37m━\u001b[0m \u001b[1m0s\u001b[0m 1ms/step - accuracy: 0.4494 - loss: 1.3629\n",
      "Epoch 9: saving model to pose_detector_with_random.keras\n",
      "\u001b[1m523/523\u001b[0m \u001b[32m━━━━━━━━━━━━━━━━━━━━\u001b[0m\u001b[37m\u001b[0m \u001b[1m1s\u001b[0m 2ms/step - accuracy: 0.4495 - loss: 1.3628 - val_accuracy: 0.6596 - val_loss: 1.1029\n",
      "Epoch 10/1000\n",
      "\u001b[1m494/523\u001b[0m \u001b[32m━━━━━━━━━━━━━━━━━━\u001b[0m\u001b[37m━━\u001b[0m \u001b[1m0s\u001b[0m 1ms/step - accuracy: 0.4679 - loss: 1.3329\n",
      "Epoch 10: saving model to pose_detector_with_random.keras\n",
      "\u001b[1m523/523\u001b[0m \u001b[32m━━━━━━━━━━━━━━━━━━━━\u001b[0m\u001b[37m\u001b[0m \u001b[1m1s\u001b[0m 2ms/step - accuracy: 0.4682 - loss: 1.3323 - val_accuracy: 0.6448 - val_loss: 1.0817\n",
      "Epoch 11/1000\n",
      "\u001b[1m519/523\u001b[0m \u001b[32m━━━━━━━━━━━━━━━━━━━\u001b[0m\u001b[37m━\u001b[0m \u001b[1m0s\u001b[0m 1ms/step - accuracy: 0.4854 - loss: 1.3000\n",
      "Epoch 11: saving model to pose_detector_with_random.keras\n",
      "\u001b[1m523/523\u001b[0m \u001b[32m━━━━━━━━━━━━━━━━━━━━\u001b[0m\u001b[37m\u001b[0m \u001b[1m1s\u001b[0m 2ms/step - accuracy: 0.4854 - loss: 1.3000 - val_accuracy: 0.6818 - val_loss: 1.0238\n",
      "Epoch 12/1000\n",
      "\u001b[1m515/523\u001b[0m \u001b[32m━━━━━━━━━━━━━━━━━━━\u001b[0m\u001b[37m━\u001b[0m \u001b[1m0s\u001b[0m 1ms/step - accuracy: 0.4970 - loss: 1.2725\n",
      "Epoch 12: saving model to pose_detector_with_random.keras\n",
      "\u001b[1m523/523\u001b[0m \u001b[32m━━━━━━━━━━━━━━━━━━━━\u001b[0m\u001b[37m\u001b[0m \u001b[1m1s\u001b[0m 2ms/step - accuracy: 0.4970 - loss: 1.2725 - val_accuracy: 0.7187 - val_loss: 1.0238\n",
      "Epoch 13/1000\n",
      "\u001b[1m491/523\u001b[0m \u001b[32m━━━━━━━━━━━━━━━━━━\u001b[0m\u001b[37m━━\u001b[0m \u001b[1m0s\u001b[0m 1ms/step - accuracy: 0.5061 - loss: 1.2672\n",
      "Epoch 13: saving model to pose_detector_with_random.keras\n",
      "\u001b[1m523/523\u001b[0m \u001b[32m━━━━━━━━━━━━━━━━━━━━\u001b[0m\u001b[37m\u001b[0m \u001b[1m1s\u001b[0m 2ms/step - accuracy: 0.5064 - loss: 1.2667 - val_accuracy: 0.7308 - val_loss: 0.9956\n",
      "Epoch 14/1000\n",
      "\u001b[1m489/523\u001b[0m \u001b[32m━━━━━━━━━━━━━━━━━━\u001b[0m\u001b[37m━━\u001b[0m \u001b[1m0s\u001b[0m 1ms/step - accuracy: 0.5118 - loss: 1.2515\n",
      "Epoch 14: saving model to pose_detector_with_random.keras\n",
      "\u001b[1m523/523\u001b[0m \u001b[32m━━━━━━━━━━━━━━━━━━━━\u001b[0m\u001b[37m\u001b[0m \u001b[1m1s\u001b[0m 2ms/step - accuracy: 0.5120 - loss: 1.2516 - val_accuracy: 0.7515 - val_loss: 0.9798\n",
      "Epoch 15/1000\n",
      "\u001b[1m519/523\u001b[0m \u001b[32m━━━━━━━━━━━━━━━━━━━\u001b[0m\u001b[37m━\u001b[0m \u001b[1m0s\u001b[0m 1ms/step - accuracy: 0.5233 - loss: 1.2390\n",
      "Epoch 15: saving model to pose_detector_with_random.keras\n",
      "\u001b[1m523/523\u001b[0m \u001b[32m━━━━━━━━━━━━━━━━━━━━\u001b[0m\u001b[37m\u001b[0m \u001b[1m1s\u001b[0m 2ms/step - accuracy: 0.5233 - loss: 1.2390 - val_accuracy: 0.7488 - val_loss: 0.9692\n",
      "Epoch 16/1000\n",
      "\u001b[1m500/523\u001b[0m \u001b[32m━━━━━━━━━━━━━━━━━━━\u001b[0m\u001b[37m━\u001b[0m \u001b[1m0s\u001b[0m 1ms/step - accuracy: 0.5321 - loss: 1.2321\n",
      "Epoch 16: saving model to pose_detector_with_random.keras\n",
      "\u001b[1m523/523\u001b[0m \u001b[32m━━━━━━━━━━━━━━━━━━━━\u001b[0m\u001b[37m\u001b[0m \u001b[1m1s\u001b[0m 2ms/step - accuracy: 0.5321 - loss: 1.2320 - val_accuracy: 0.7803 - val_loss: 0.9332\n",
      "Epoch 17/1000\n",
      "\u001b[1m493/523\u001b[0m \u001b[32m━━━━━━━━━━━━━━━━━━\u001b[0m\u001b[37m━━\u001b[0m \u001b[1m0s\u001b[0m 1ms/step - accuracy: 0.5418 - loss: 1.2170\n",
      "Epoch 17: saving model to pose_detector_with_random.keras\n",
      "\u001b[1m523/523\u001b[0m \u001b[32m━━━━━━━━━━━━━━━━━━━━\u001b[0m\u001b[37m\u001b[0m \u001b[1m1s\u001b[0m 2ms/step - accuracy: 0.5418 - loss: 1.2169 - val_accuracy: 0.7851 - val_loss: 0.9155\n",
      "Epoch 18/1000\n",
      "\u001b[1m508/523\u001b[0m \u001b[32m━━━━━━━━━━━━━━━━━━━\u001b[0m\u001b[37m━\u001b[0m \u001b[1m0s\u001b[0m 1ms/step - accuracy: 0.5488 - loss: 1.2078\n",
      "Epoch 18: saving model to pose_detector_with_random.keras\n",
      "\u001b[1m523/523\u001b[0m \u001b[32m━━━━━━━━━━━━━━━━━━━━\u001b[0m\u001b[37m\u001b[0m \u001b[1m1s\u001b[0m 2ms/step - accuracy: 0.5487 - loss: 1.2079 - val_accuracy: 0.7883 - val_loss: 0.9116\n",
      "Epoch 19/1000\n",
      "\u001b[1m488/523\u001b[0m \u001b[32m━━━━━━━━━━━━━━━━━━\u001b[0m\u001b[37m━━\u001b[0m \u001b[1m0s\u001b[0m 1ms/step - accuracy: 0.5467 - loss: 1.2082\n",
      "Epoch 19: saving model to pose_detector_with_random.keras\n",
      "\u001b[1m523/523\u001b[0m \u001b[32m━━━━━━━━━━━━━━━━━━━━\u001b[0m\u001b[37m\u001b[0m \u001b[1m1s\u001b[0m 2ms/step - accuracy: 0.5469 - loss: 1.2078 - val_accuracy: 0.7891 - val_loss: 0.8797\n",
      "Epoch 20/1000\n",
      "\u001b[1m499/523\u001b[0m \u001b[32m━━━━━━━━━━━━━━━━━━━\u001b[0m\u001b[37m━\u001b[0m \u001b[1m0s\u001b[0m 1ms/step - accuracy: 0.5589 - loss: 1.1846\n",
      "Epoch 20: saving model to pose_detector_with_random.keras\n",
      "\u001b[1m523/523\u001b[0m \u001b[32m━━━━━━━━━━━━━━━━━━━━\u001b[0m\u001b[37m\u001b[0m \u001b[1m1s\u001b[0m 2ms/step - accuracy: 0.5587 - loss: 1.1848 - val_accuracy: 0.7787 - val_loss: 0.8761\n",
      "Epoch 21/1000\n",
      "\u001b[1m501/523\u001b[0m \u001b[32m━━━━━━━━━━━━━━━━━━━\u001b[0m\u001b[37m━\u001b[0m \u001b[1m0s\u001b[0m 1ms/step - accuracy: 0.5574 - loss: 1.1852\n",
      "Epoch 21: saving model to pose_detector_with_random.keras\n",
      "\u001b[1m523/523\u001b[0m \u001b[32m━━━━━━━━━━━━━━━━━━━━\u001b[0m\u001b[37m\u001b[0m \u001b[1m1s\u001b[0m 2ms/step - accuracy: 0.5574 - loss: 1.1851 - val_accuracy: 0.7808 - val_loss: 0.8894\n",
      "Epoch 22/1000\n",
      "\u001b[1m510/523\u001b[0m \u001b[32m━━━━━━━━━━━━━━━━━━━\u001b[0m\u001b[37m━\u001b[0m \u001b[1m0s\u001b[0m 1ms/step - accuracy: 0.5568 - loss: 1.1792\n",
      "Epoch 22: saving model to pose_detector_with_random.keras\n",
      "\u001b[1m523/523\u001b[0m \u001b[32m━━━━━━━━━━━━━━━━━━━━\u001b[0m\u001b[37m\u001b[0m \u001b[1m1s\u001b[0m 2ms/step - accuracy: 0.5569 - loss: 1.1791 - val_accuracy: 0.7867 - val_loss: 0.8764\n",
      "Epoch 23/1000\n",
      "\u001b[1m512/523\u001b[0m \u001b[32m━━━━━━━━━━━━━━━━━━━\u001b[0m\u001b[37m━\u001b[0m \u001b[1m0s\u001b[0m 1ms/step - accuracy: 0.5604 - loss: 1.1775\n",
      "Epoch 23: saving model to pose_detector_with_random.keras\n",
      "\u001b[1m523/523\u001b[0m \u001b[32m━━━━━━━━━━━━━━━━━━━━\u001b[0m\u001b[37m\u001b[0m \u001b[1m1s\u001b[0m 2ms/step - accuracy: 0.5604 - loss: 1.1775 - val_accuracy: 0.7788 - val_loss: 0.8930\n",
      "Epoch 24/1000\n",
      "\u001b[1m521/523\u001b[0m \u001b[32m━━━━━━━━━━━━━━━━━━━\u001b[0m\u001b[37m━\u001b[0m \u001b[1m0s\u001b[0m 1ms/step - accuracy: 0.5667 - loss: 1.1668\n",
      "Epoch 24: saving model to pose_detector_with_random.keras\n",
      "\u001b[1m523/523\u001b[0m \u001b[32m━━━━━━━━━━━━━━━━━━━━\u001b[0m\u001b[37m\u001b[0m \u001b[1m1s\u001b[0m 2ms/step - accuracy: 0.5667 - loss: 1.1668 - val_accuracy: 0.7811 - val_loss: 0.8554\n",
      "Epoch 25/1000\n",
      "\u001b[1m488/523\u001b[0m \u001b[32m━━━━━━━━━━━━━━━━━━\u001b[0m\u001b[37m━━\u001b[0m \u001b[1m0s\u001b[0m 1ms/step - accuracy: 0.5669 - loss: 1.1629\n",
      "Epoch 25: saving model to pose_detector_with_random.keras\n",
      "\u001b[1m523/523\u001b[0m \u001b[32m━━━━━━━━━━━━━━━━━━━━\u001b[0m\u001b[37m\u001b[0m \u001b[1m1s\u001b[0m 2ms/step - accuracy: 0.5668 - loss: 1.1631 - val_accuracy: 0.7914 - val_loss: 0.8465\n",
      "Epoch 26/1000\n",
      "\u001b[1m489/523\u001b[0m \u001b[32m━━━━━━━━━━━━━━━━━━\u001b[0m\u001b[37m━━\u001b[0m \u001b[1m0s\u001b[0m 1ms/step - accuracy: 0.5693 - loss: 1.1533\n",
      "Epoch 26: saving model to pose_detector_with_random.keras\n",
      "\u001b[1m523/523\u001b[0m \u001b[32m━━━━━━━━━━━━━━━━━━━━\u001b[0m\u001b[37m\u001b[0m \u001b[1m1s\u001b[0m 2ms/step - accuracy: 0.5692 - loss: 1.1534 - val_accuracy: 0.7514 - val_loss: 0.8607\n",
      "Epoch 27/1000\n",
      "\u001b[1m490/523\u001b[0m \u001b[32m━━━━━━━━━━━━━━━━━━\u001b[0m\u001b[37m━━\u001b[0m \u001b[1m0s\u001b[0m 1ms/step - accuracy: 0.5760 - loss: 1.1432\n",
      "Epoch 27: saving model to pose_detector_with_random.keras\n",
      "\u001b[1m523/523\u001b[0m \u001b[32m━━━━━━━━━━━━━━━━━━━━\u001b[0m\u001b[37m\u001b[0m \u001b[1m1s\u001b[0m 2ms/step - accuracy: 0.5759 - loss: 1.1431 - val_accuracy: 0.7777 - val_loss: 0.8515\n",
      "Epoch 28/1000\n",
      "\u001b[1m489/523\u001b[0m \u001b[32m━━━━━━━━━━━━━━━━━━\u001b[0m\u001b[37m━━\u001b[0m \u001b[1m0s\u001b[0m 1ms/step - accuracy: 0.5733 - loss: 1.1451\n",
      "Epoch 28: saving model to pose_detector_with_random.keras\n",
      "\u001b[1m523/523\u001b[0m \u001b[32m━━━━━━━━━━━━━━━━━━━━\u001b[0m\u001b[37m\u001b[0m \u001b[1m1s\u001b[0m 2ms/step - accuracy: 0.5734 - loss: 1.1450 - val_accuracy: 0.7863 - val_loss: 0.8281\n",
      "Epoch 29/1000\n",
      "\u001b[1m516/523\u001b[0m \u001b[32m━━━━━━━━━━━━━━━━━━━\u001b[0m\u001b[37m━\u001b[0m \u001b[1m0s\u001b[0m 1ms/step - accuracy: 0.5779 - loss: 1.1348\n",
      "Epoch 29: saving model to pose_detector_with_random.keras\n",
      "\u001b[1m523/523\u001b[0m \u001b[32m━━━━━━━━━━━━━━━━━━━━\u001b[0m\u001b[37m\u001b[0m \u001b[1m1s\u001b[0m 2ms/step - accuracy: 0.5779 - loss: 1.1348 - val_accuracy: 0.7559 - val_loss: 0.8648\n",
      "Epoch 30/1000\n",
      "\u001b[1m492/523\u001b[0m \u001b[32m━━━━━━━━━━━━━━━━━━\u001b[0m\u001b[37m━━\u001b[0m \u001b[1m0s\u001b[0m 1ms/step - accuracy: 0.5789 - loss: 1.1408\n",
      "Epoch 30: saving model to pose_detector_with_random.keras\n",
      "\u001b[1m523/523\u001b[0m \u001b[32m━━━━━━━━━━━━━━━━━━━━\u001b[0m\u001b[37m\u001b[0m \u001b[1m1s\u001b[0m 2ms/step - accuracy: 0.5789 - loss: 1.1404 - val_accuracy: 0.7860 - val_loss: 0.8294\n",
      "Epoch 31/1000\n",
      "\u001b[1m505/523\u001b[0m \u001b[32m━━━━━━━━━━━━━━━━━━━\u001b[0m\u001b[37m━\u001b[0m \u001b[1m0s\u001b[0m 1ms/step - accuracy: 0.5802 - loss: 1.1265\n",
      "Epoch 31: saving model to pose_detector_with_random.keras\n",
      "\u001b[1m523/523\u001b[0m \u001b[32m━━━━━━━━━━━━━━━━━━━━\u001b[0m\u001b[37m\u001b[0m \u001b[1m1s\u001b[0m 2ms/step - accuracy: 0.5803 - loss: 1.1264 - val_accuracy: 0.7667 - val_loss: 0.8484\n",
      "Epoch 32/1000\n",
      "\u001b[1m497/523\u001b[0m \u001b[32m━━━━━━━━━━━━━━━━━━━\u001b[0m\u001b[37m━\u001b[0m \u001b[1m0s\u001b[0m 1ms/step - accuracy: 0.5833 - loss: 1.1273\n",
      "Epoch 32: saving model to pose_detector_with_random.keras\n",
      "\u001b[1m523/523\u001b[0m \u001b[32m━━━━━━━━━━━━━━━━━━━━\u001b[0m\u001b[37m\u001b[0m \u001b[1m1s\u001b[0m 2ms/step - accuracy: 0.5833 - loss: 1.1269 - val_accuracy: 0.7761 - val_loss: 0.8368\n",
      "Epoch 33/1000\n",
      "\u001b[1m497/523\u001b[0m \u001b[32m━━━━━━━━━━━━━━━━━━━\u001b[0m\u001b[37m━\u001b[0m \u001b[1m0s\u001b[0m 1ms/step - accuracy: 0.5862 - loss: 1.1272\n",
      "Epoch 33: saving model to pose_detector_with_random.keras\n",
      "\u001b[1m523/523\u001b[0m \u001b[32m━━━━━━━━━━━━━━━━━━━━\u001b[0m\u001b[37m\u001b[0m \u001b[1m1s\u001b[0m 2ms/step - accuracy: 0.5862 - loss: 1.1269 - val_accuracy: 0.7314 - val_loss: 0.8681\n",
      "Epoch 34/1000\n",
      "\u001b[1m510/523\u001b[0m \u001b[32m━━━━━━━━━━━━━━━━━━━\u001b[0m\u001b[37m━\u001b[0m \u001b[1m0s\u001b[0m 1ms/step - accuracy: 0.5861 - loss: 1.1165\n",
      "Epoch 34: saving model to pose_detector_with_random.keras\n",
      "\u001b[1m523/523\u001b[0m \u001b[32m━━━━━━━━━━━━━━━━━━━━\u001b[0m\u001b[37m\u001b[0m \u001b[1m1s\u001b[0m 2ms/step - accuracy: 0.5861 - loss: 1.1165 - val_accuracy: 0.7512 - val_loss: 0.8570\n",
      "Epoch 35/1000\n",
      "\u001b[1m507/523\u001b[0m \u001b[32m━━━━━━━━━━━━━━━━━━━\u001b[0m\u001b[37m━\u001b[0m \u001b[1m0s\u001b[0m 1ms/step - accuracy: 0.5841 - loss: 1.1232\n",
      "Epoch 35: saving model to pose_detector_with_random.keras\n",
      "\u001b[1m523/523\u001b[0m \u001b[32m━━━━━━━━━━━━━━━━━━━━\u001b[0m\u001b[37m\u001b[0m \u001b[1m1s\u001b[0m 2ms/step - accuracy: 0.5842 - loss: 1.1229 - val_accuracy: 0.7542 - val_loss: 0.8470\n",
      "Epoch 36/1000\n",
      "\u001b[1m508/523\u001b[0m \u001b[32m━━━━━━━━━━━━━━━━━━━\u001b[0m\u001b[37m━\u001b[0m \u001b[1m0s\u001b[0m 1ms/step - accuracy: 0.5883 - loss: 1.1147\n",
      "Epoch 36: saving model to pose_detector_with_random.keras\n",
      "\u001b[1m523/523\u001b[0m \u001b[32m━━━━━━━━━━━━━━━━━━━━\u001b[0m\u001b[37m\u001b[0m \u001b[1m1s\u001b[0m 2ms/step - accuracy: 0.5883 - loss: 1.1146 - val_accuracy: 0.7779 - val_loss: 0.8248\n",
      "Epoch 37/1000\n",
      "\u001b[1m504/523\u001b[0m \u001b[32m━━━━━━━━━━━━━━━━━━━\u001b[0m\u001b[37m━\u001b[0m \u001b[1m0s\u001b[0m 1ms/step - accuracy: 0.5925 - loss: 1.1084\n",
      "Epoch 37: saving model to pose_detector_with_random.keras\n",
      "\u001b[1m523/523\u001b[0m \u001b[32m━━━━━━━━━━━━━━━━━━━━\u001b[0m\u001b[37m\u001b[0m \u001b[1m1s\u001b[0m 2ms/step - accuracy: 0.5925 - loss: 1.1084 - val_accuracy: 0.7299 - val_loss: 0.8516\n",
      "Epoch 38/1000\n",
      "\u001b[1m487/523\u001b[0m \u001b[32m━━━━━━━━━━━━━━━━━━\u001b[0m\u001b[37m━━\u001b[0m \u001b[1m0s\u001b[0m 1ms/step - accuracy: 0.5888 - loss: 1.1092\n",
      "Epoch 38: saving model to pose_detector_with_random.keras\n",
      "\u001b[1m523/523\u001b[0m \u001b[32m━━━━━━━━━━━━━━━━━━━━\u001b[0m\u001b[37m\u001b[0m \u001b[1m1s\u001b[0m 2ms/step - accuracy: 0.5889 - loss: 1.1089 - val_accuracy: 0.7064 - val_loss: 0.8805\n",
      "Epoch 39/1000\n",
      "\u001b[1m486/523\u001b[0m \u001b[32m━━━━━━━━━━━━━━━━━━\u001b[0m\u001b[37m━━\u001b[0m \u001b[1m0s\u001b[0m 1ms/step - accuracy: 0.5886 - loss: 1.1058\n",
      "Epoch 39: saving model to pose_detector_with_random.keras\n",
      "\u001b[1m523/523\u001b[0m \u001b[32m━━━━━━━━━━━━━━━━━━━━\u001b[0m\u001b[37m\u001b[0m \u001b[1m1s\u001b[0m 2ms/step - accuracy: 0.5889 - loss: 1.1054 - val_accuracy: 0.7667 - val_loss: 0.8456\n",
      "Epoch 40/1000\n",
      "\u001b[1m522/523\u001b[0m \u001b[32m━━━━━━━━━━━━━━━━━━━\u001b[0m\u001b[37m━\u001b[0m \u001b[1m0s\u001b[0m 1ms/step - accuracy: 0.5933 - loss: 1.0994\n",
      "Epoch 40: saving model to pose_detector_with_random.keras\n",
      "\u001b[1m523/523\u001b[0m \u001b[32m━━━━━━━━━━━━━━━━━━━━\u001b[0m\u001b[37m\u001b[0m \u001b[1m1s\u001b[0m 2ms/step - accuracy: 0.5933 - loss: 1.0994 - val_accuracy: 0.7209 - val_loss: 0.8493\n",
      "Epoch 41/1000\n",
      "\u001b[1m500/523\u001b[0m \u001b[32m━━━━━━━━━━━━━━━━━━━\u001b[0m\u001b[37m━\u001b[0m \u001b[1m0s\u001b[0m 1ms/step - accuracy: 0.5962 - loss: 1.0865\n",
      "Epoch 41: saving model to pose_detector_with_random.keras\n",
      "\u001b[1m523/523\u001b[0m \u001b[32m━━━━━━━━━━━━━━━━━━━━\u001b[0m\u001b[37m\u001b[0m \u001b[1m1s\u001b[0m 2ms/step - accuracy: 0.5961 - loss: 1.0869 - val_accuracy: 0.6999 - val_loss: 0.8700\n",
      "Epoch 42/1000\n",
      "\u001b[1m484/523\u001b[0m \u001b[32m━━━━━━━━━━━━━━━━━━\u001b[0m\u001b[37m━━\u001b[0m \u001b[1m0s\u001b[0m 1ms/step - accuracy: 0.5893 - loss: 1.1062\n",
      "Epoch 42: saving model to pose_detector_with_random.keras\n",
      "\u001b[1m523/523\u001b[0m \u001b[32m━━━━━━━━━━━━━━━━━━━━\u001b[0m\u001b[37m\u001b[0m \u001b[1m1s\u001b[0m 2ms/step - accuracy: 0.5897 - loss: 1.1057 - val_accuracy: 0.7113 - val_loss: 0.8560\n",
      "Epoch 43/1000\n",
      "\u001b[1m497/523\u001b[0m \u001b[32m━━━━━━━━━━━━━━━━━━━\u001b[0m\u001b[37m━\u001b[0m \u001b[1m0s\u001b[0m 1ms/step - accuracy: 0.5955 - loss: 1.0941\n",
      "Epoch 43: saving model to pose_detector_with_random.keras\n",
      "\u001b[1m523/523\u001b[0m \u001b[32m━━━━━━━━━━━━━━━━━━━━\u001b[0m\u001b[37m\u001b[0m \u001b[1m1s\u001b[0m 2ms/step - accuracy: 0.5955 - loss: 1.0941 - val_accuracy: 0.7482 - val_loss: 0.8358\n",
      "Epoch 44/1000\n",
      "\u001b[1m488/523\u001b[0m \u001b[32m━━━━━━━━━━━━━━━━━━\u001b[0m\u001b[37m━━\u001b[0m \u001b[1m0s\u001b[0m 1ms/step - accuracy: 0.5975 - loss: 1.0883\n",
      "Epoch 44: saving model to pose_detector_with_random.keras\n",
      "\u001b[1m523/523\u001b[0m \u001b[32m━━━━━━━━━━━━━━━━━━━━\u001b[0m\u001b[37m\u001b[0m \u001b[1m1s\u001b[0m 2ms/step - accuracy: 0.5974 - loss: 1.0883 - val_accuracy: 0.7474 - val_loss: 0.8586\n",
      "Epoch 45/1000\n",
      "\u001b[1m521/523\u001b[0m \u001b[32m━━━━━━━━━━━━━━━━━━━\u001b[0m\u001b[37m━\u001b[0m \u001b[1m0s\u001b[0m 1ms/step - accuracy: 0.5957 - loss: 1.0939\n",
      "Epoch 45: saving model to pose_detector_with_random.keras\n",
      "\u001b[1m523/523\u001b[0m \u001b[32m━━━━━━━━━━━━━━━━━━━━\u001b[0m\u001b[37m\u001b[0m \u001b[1m1s\u001b[0m 2ms/step - accuracy: 0.5957 - loss: 1.0939 - val_accuracy: 0.7715 - val_loss: 0.8208\n",
      "Epoch 46/1000\n",
      "\u001b[1m501/523\u001b[0m \u001b[32m━━━━━━━━━━━━━━━━━━━\u001b[0m\u001b[37m━\u001b[0m \u001b[1m0s\u001b[0m 1ms/step - accuracy: 0.5988 - loss: 1.0845\n",
      "Epoch 46: saving model to pose_detector_with_random.keras\n",
      "\u001b[1m523/523\u001b[0m \u001b[32m━━━━━━━━━━━━━━━━━━━━\u001b[0m\u001b[37m\u001b[0m \u001b[1m1s\u001b[0m 2ms/step - accuracy: 0.5987 - loss: 1.0845 - val_accuracy: 0.7135 - val_loss: 0.8773\n",
      "Epoch 47/1000\n",
      "\u001b[1m490/523\u001b[0m \u001b[32m━━━━━━━━━━━━━━━━━━\u001b[0m\u001b[37m━━\u001b[0m \u001b[1m0s\u001b[0m 1ms/step - accuracy: 0.6007 - loss: 1.0815\n",
      "Epoch 47: saving model to pose_detector_with_random.keras\n",
      "\u001b[1m523/523\u001b[0m \u001b[32m━━━━━━━━━━━━━━━━━━━━\u001b[0m\u001b[37m\u001b[0m \u001b[1m1s\u001b[0m 2ms/step - accuracy: 0.6007 - loss: 1.0814 - val_accuracy: 0.7219 - val_loss: 0.8691\n",
      "Epoch 48/1000\n",
      "\u001b[1m490/523\u001b[0m \u001b[32m━━━━━━━━━━━━━━━━━━\u001b[0m\u001b[37m━━\u001b[0m \u001b[1m0s\u001b[0m 1ms/step - accuracy: 0.5980 - loss: 1.0854\n",
      "Epoch 48: saving model to pose_detector_with_random.keras\n",
      "\u001b[1m523/523\u001b[0m \u001b[32m━━━━━━━━━━━━━━━━━━━━\u001b[0m\u001b[37m\u001b[0m \u001b[1m1s\u001b[0m 2ms/step - accuracy: 0.5981 - loss: 1.0851 - val_accuracy: 0.7411 - val_loss: 0.8503\n",
      "Epoch 49/1000\n",
      "\u001b[1m505/523\u001b[0m \u001b[32m━━━━━━━━━━━━━━━━━━━\u001b[0m\u001b[37m━\u001b[0m \u001b[1m0s\u001b[0m 1ms/step - accuracy: 0.5987 - loss: 1.0800\n",
      "Epoch 49: saving model to pose_detector_with_random.keras\n",
      "\u001b[1m523/523\u001b[0m \u001b[32m━━━━━━━━━━━━━━━━━━━━\u001b[0m\u001b[37m\u001b[0m \u001b[1m1s\u001b[0m 2ms/step - accuracy: 0.5988 - loss: 1.0800 - val_accuracy: 0.7737 - val_loss: 0.8187\n",
      "Epoch 50/1000\n",
      "\u001b[1m486/523\u001b[0m \u001b[32m━━━━━━━━━━━━━━━━━━\u001b[0m\u001b[37m━━\u001b[0m \u001b[1m0s\u001b[0m 1ms/step - accuracy: 0.5993 - loss: 1.0798\n",
      "Epoch 50: saving model to pose_detector_with_random.keras\n",
      "\u001b[1m523/523\u001b[0m \u001b[32m━━━━━━━━━━━━━━━━━━━━\u001b[0m\u001b[37m\u001b[0m \u001b[1m1s\u001b[0m 2ms/step - accuracy: 0.5993 - loss: 1.0799 - val_accuracy: 0.7400 - val_loss: 0.8401\n",
      "Epoch 51/1000\n",
      "\u001b[1m497/523\u001b[0m \u001b[32m━━━━━━━━━━━━━━━━━━━\u001b[0m\u001b[37m━\u001b[0m \u001b[1m0s\u001b[0m 1ms/step - accuracy: 0.6052 - loss: 1.0681\n",
      "Epoch 51: saving model to pose_detector_with_random.keras\n",
      "\u001b[1m523/523\u001b[0m \u001b[32m━━━━━━━━━━━━━━━━━━━━\u001b[0m\u001b[37m\u001b[0m \u001b[1m1s\u001b[0m 2ms/step - accuracy: 0.6051 - loss: 1.0685 - val_accuracy: 0.7394 - val_loss: 0.8496\n",
      "Epoch 52/1000\n",
      "\u001b[1m502/523\u001b[0m \u001b[32m━━━━━━━━━━━━━━━━━━━\u001b[0m\u001b[37m━\u001b[0m \u001b[1m0s\u001b[0m 1ms/step - accuracy: 0.6036 - loss: 1.0740\n",
      "Epoch 52: saving model to pose_detector_with_random.keras\n",
      "\u001b[1m523/523\u001b[0m \u001b[32m━━━━━━━━━━━━━━━━━━━━\u001b[0m\u001b[37m\u001b[0m \u001b[1m1s\u001b[0m 2ms/step - accuracy: 0.6037 - loss: 1.0739 - val_accuracy: 0.7294 - val_loss: 0.8396\n",
      "Epoch 53/1000\n",
      "\u001b[1m491/523\u001b[0m \u001b[32m━━━━━━━━━━━━━━━━━━\u001b[0m\u001b[37m━━\u001b[0m \u001b[1m0s\u001b[0m 1ms/step - accuracy: 0.5990 - loss: 1.0833\n",
      "Epoch 53: saving model to pose_detector_with_random.keras\n",
      "\u001b[1m523/523\u001b[0m \u001b[32m━━━━━━━━━━━━━━━━━━━━\u001b[0m\u001b[37m\u001b[0m \u001b[1m1s\u001b[0m 2ms/step - accuracy: 0.5990 - loss: 1.0831 - val_accuracy: 0.7100 - val_loss: 0.8610\n",
      "Epoch 54/1000\n",
      "\u001b[1m487/523\u001b[0m \u001b[32m━━━━━━━━━━━━━━━━━━\u001b[0m\u001b[37m━━\u001b[0m \u001b[1m0s\u001b[0m 1ms/step - accuracy: 0.5982 - loss: 1.0836\n",
      "Epoch 54: saving model to pose_detector_with_random.keras\n",
      "\u001b[1m523/523\u001b[0m \u001b[32m━━━━━━━━━━━━━━━━━━━━\u001b[0m\u001b[37m\u001b[0m \u001b[1m1s\u001b[0m 2ms/step - accuracy: 0.5985 - loss: 1.0831 - val_accuracy: 0.7334 - val_loss: 0.8476\n",
      "Epoch 55/1000\n",
      "\u001b[1m487/523\u001b[0m \u001b[32m━━━━━━━━━━━━━━━━━━\u001b[0m\u001b[37m━━\u001b[0m \u001b[1m0s\u001b[0m 1ms/step - accuracy: 0.6030 - loss: 1.0744\n",
      "Epoch 55: saving model to pose_detector_with_random.keras\n",
      "\u001b[1m523/523\u001b[0m \u001b[32m━━━━━━━━━━━━━━━━━━━━\u001b[0m\u001b[37m\u001b[0m \u001b[1m1s\u001b[0m 2ms/step - accuracy: 0.6030 - loss: 1.0744 - val_accuracy: 0.7258 - val_loss: 0.8483\n",
      "Epoch 56/1000\n",
      "\u001b[1m492/523\u001b[0m \u001b[32m━━━━━━━━━━━━━━━━━━\u001b[0m\u001b[37m━━\u001b[0m \u001b[1m0s\u001b[0m 1ms/step - accuracy: 0.6031 - loss: 1.0708\n",
      "Epoch 56: saving model to pose_detector_with_random.keras\n",
      "\u001b[1m523/523\u001b[0m \u001b[32m━━━━━━━━━━━━━━━━━━━━\u001b[0m\u001b[37m\u001b[0m \u001b[1m1s\u001b[0m 2ms/step - accuracy: 0.6031 - loss: 1.0707 - val_accuracy: 0.7187 - val_loss: 0.8407\n",
      "Epoch 57/1000\n",
      "\u001b[1m519/523\u001b[0m \u001b[32m━━━━━━━━━━━━━━━━━━━\u001b[0m\u001b[37m━\u001b[0m \u001b[1m0s\u001b[0m 1ms/step - accuracy: 0.6023 - loss: 1.0678\n",
      "Epoch 57: saving model to pose_detector_with_random.keras\n",
      "\u001b[1m523/523\u001b[0m \u001b[32m━━━━━━━━━━━━━━━━━━━━\u001b[0m\u001b[37m\u001b[0m \u001b[1m1s\u001b[0m 2ms/step - accuracy: 0.6024 - loss: 1.0678 - val_accuracy: 0.7639 - val_loss: 0.8111\n",
      "Epoch 58/1000\n",
      "\u001b[1m509/523\u001b[0m \u001b[32m━━━━━━━━━━━━━━━━━━━\u001b[0m\u001b[37m━\u001b[0m \u001b[1m0s\u001b[0m 1ms/step - accuracy: 0.6022 - loss: 1.0725\n",
      "Epoch 58: saving model to pose_detector_with_random.keras\n",
      "\u001b[1m523/523\u001b[0m \u001b[32m━━━━━━━━━━━━━━━━━━━━\u001b[0m\u001b[37m\u001b[0m \u001b[1m1s\u001b[0m 2ms/step - accuracy: 0.6023 - loss: 1.0725 - val_accuracy: 0.6791 - val_loss: 0.8957\n",
      "Epoch 59/1000\n",
      "\u001b[1m492/523\u001b[0m \u001b[32m━━━━━━━━━━━━━━━━━━\u001b[0m\u001b[37m━━\u001b[0m \u001b[1m0s\u001b[0m 1ms/step - accuracy: 0.6023 - loss: 1.0669\n",
      "Epoch 59: saving model to pose_detector_with_random.keras\n",
      "\u001b[1m523/523\u001b[0m \u001b[32m━━━━━━━━━━━━━━━━━━━━\u001b[0m\u001b[37m\u001b[0m \u001b[1m1s\u001b[0m 2ms/step - accuracy: 0.6023 - loss: 1.0672 - val_accuracy: 0.7559 - val_loss: 0.8339\n",
      "Epoch 60/1000\n",
      "\u001b[1m506/523\u001b[0m \u001b[32m━━━━━━━━━━━━━━━━━━━\u001b[0m\u001b[37m━\u001b[0m \u001b[1m0s\u001b[0m 1ms/step - accuracy: 0.6003 - loss: 1.0703\n",
      "Epoch 60: saving model to pose_detector_with_random.keras\n",
      "\u001b[1m523/523\u001b[0m \u001b[32m━━━━━━━━━━━━━━━━━━━━\u001b[0m\u001b[37m\u001b[0m \u001b[1m1s\u001b[0m 2ms/step - accuracy: 0.6003 - loss: 1.0704 - val_accuracy: 0.7173 - val_loss: 0.8693\n",
      "Epoch 61/1000\n",
      "\u001b[1m503/523\u001b[0m \u001b[32m━━━━━━━━━━━━━━━━━━━\u001b[0m\u001b[37m━\u001b[0m \u001b[1m0s\u001b[0m 1ms/step - accuracy: 0.6110 - loss: 1.0624\n",
      "Epoch 61: saving model to pose_detector_with_random.keras\n",
      "\u001b[1m523/523\u001b[0m \u001b[32m━━━━━━━━━━━━━━━━━━━━\u001b[0m\u001b[37m\u001b[0m \u001b[1m1s\u001b[0m 2ms/step - accuracy: 0.6109 - loss: 1.0626 - val_accuracy: 0.6999 - val_loss: 0.8477\n",
      "Epoch 62/1000\n",
      "\u001b[1m513/523\u001b[0m \u001b[32m━━━━━━━━━━━━━━━━━━━\u001b[0m\u001b[37m━\u001b[0m \u001b[1m0s\u001b[0m 1ms/step - accuracy: 0.6044 - loss: 1.0662\n",
      "Epoch 62: saving model to pose_detector_with_random.keras\n",
      "\u001b[1m523/523\u001b[0m \u001b[32m━━━━━━━━━━━━━━━━━━━━\u001b[0m\u001b[37m\u001b[0m \u001b[1m1s\u001b[0m 2ms/step - accuracy: 0.6044 - loss: 1.0661 - val_accuracy: 0.7177 - val_loss: 0.8390\n",
      "Epoch 63/1000\n",
      "\u001b[1m513/523\u001b[0m \u001b[32m━━━━━━━━━━━━━━━━━━━\u001b[0m\u001b[37m━\u001b[0m \u001b[1m0s\u001b[0m 1ms/step - accuracy: 0.6078 - loss: 1.0597\n",
      "Epoch 63: saving model to pose_detector_with_random.keras\n",
      "\u001b[1m523/523\u001b[0m \u001b[32m━━━━━━━━━━━━━━━━━━━━\u001b[0m\u001b[37m\u001b[0m \u001b[1m1s\u001b[0m 2ms/step - accuracy: 0.6078 - loss: 1.0598 - val_accuracy: 0.7112 - val_loss: 0.8365\n",
      "Epoch 64/1000\n",
      "\u001b[1m502/523\u001b[0m \u001b[32m━━━━━━━━━━━━━━━━━━━\u001b[0m\u001b[37m━\u001b[0m \u001b[1m0s\u001b[0m 1ms/step - accuracy: 0.6055 - loss: 1.0622\n",
      "Epoch 64: saving model to pose_detector_with_random.keras\n",
      "\u001b[1m523/523\u001b[0m \u001b[32m━━━━━━━━━━━━━━━━━━━━\u001b[0m\u001b[37m\u001b[0m \u001b[1m1s\u001b[0m 2ms/step - accuracy: 0.6055 - loss: 1.0621 - val_accuracy: 0.7556 - val_loss: 0.8298\n",
      "Epoch 65/1000\n",
      "\u001b[1m502/523\u001b[0m \u001b[32m━━━━━━━━━━━━━━━━━━━\u001b[0m\u001b[37m━\u001b[0m \u001b[1m0s\u001b[0m 1ms/step - accuracy: 0.6090 - loss: 1.0600\n",
      "Epoch 65: saving model to pose_detector_with_random.keras\n",
      "\u001b[1m523/523\u001b[0m \u001b[32m━━━━━━━━━━━━━━━━━━━━\u001b[0m\u001b[37m\u001b[0m \u001b[1m1s\u001b[0m 2ms/step - accuracy: 0.6090 - loss: 1.0601 - val_accuracy: 0.7062 - val_loss: 0.8603\n",
      "Epoch 66/1000\n",
      "\u001b[1m503/523\u001b[0m \u001b[32m━━━━━━━━━━━━━━━━━━━\u001b[0m\u001b[37m━\u001b[0m \u001b[1m0s\u001b[0m 1ms/step - accuracy: 0.6119 - loss: 1.0461\n",
      "Epoch 66: saving model to pose_detector_with_random.keras\n",
      "\u001b[1m523/523\u001b[0m \u001b[32m━━━━━━━━━━━━━━━━━━━━\u001b[0m\u001b[37m\u001b[0m \u001b[1m1s\u001b[0m 2ms/step - accuracy: 0.6118 - loss: 1.0466 - val_accuracy: 0.7475 - val_loss: 0.8447\n",
      "Epoch 67/1000\n",
      "\u001b[1m498/523\u001b[0m \u001b[32m━━━━━━━━━━━━━━━━━━━\u001b[0m\u001b[37m━\u001b[0m \u001b[1m0s\u001b[0m 1ms/step - accuracy: 0.6056 - loss: 1.0618\n",
      "Epoch 67: saving model to pose_detector_with_random.keras\n",
      "\u001b[1m523/523\u001b[0m \u001b[32m━━━━━━━━━━━━━━━━━━━━\u001b[0m\u001b[37m\u001b[0m \u001b[1m1s\u001b[0m 2ms/step - accuracy: 0.6058 - loss: 1.0616 - val_accuracy: 0.7167 - val_loss: 0.8416\n",
      "Epoch 68/1000\n",
      "\u001b[1m488/523\u001b[0m \u001b[32m━━━━━━━━━━━━━━━━━━\u001b[0m\u001b[37m━━\u001b[0m \u001b[1m0s\u001b[0m 1ms/step - accuracy: 0.6069 - loss: 1.0605\n",
      "Epoch 68: saving model to pose_detector_with_random.keras\n",
      "\u001b[1m523/523\u001b[0m \u001b[32m━━━━━━━━━━━━━━━━━━━━\u001b[0m\u001b[37m\u001b[0m \u001b[1m1s\u001b[0m 2ms/step - accuracy: 0.6071 - loss: 1.0603 - val_accuracy: 0.6972 - val_loss: 0.8381\n",
      "Epoch 69/1000\n",
      "\u001b[1m503/523\u001b[0m \u001b[32m━━━━━━━━━━━━━━━━━━━\u001b[0m\u001b[37m━\u001b[0m \u001b[1m0s\u001b[0m 1ms/step - accuracy: 0.6075 - loss: 1.0660\n",
      "Epoch 69: saving model to pose_detector_with_random.keras\n",
      "\u001b[1m523/523\u001b[0m \u001b[32m━━━━━━━━━━━━━━━━━━━━\u001b[0m\u001b[37m\u001b[0m \u001b[1m1s\u001b[0m 2ms/step - accuracy: 0.6075 - loss: 1.0656 - val_accuracy: 0.7146 - val_loss: 0.8491\n",
      "Epoch 70/1000\n",
      "\u001b[1m523/523\u001b[0m \u001b[32m━━━━━━━━━━━━━━━━━━━━\u001b[0m\u001b[37m\u001b[0m \u001b[1m0s\u001b[0m 1ms/step - accuracy: 0.6119 - loss: 1.0538\n",
      "Epoch 70: saving model to pose_detector_with_random.keras\n",
      "\u001b[1m523/523\u001b[0m \u001b[32m━━━━━━━━━━━━━━━━━━━━\u001b[0m\u001b[37m\u001b[0m \u001b[1m1s\u001b[0m 2ms/step - accuracy: 0.6119 - loss: 1.0538 - val_accuracy: 0.6482 - val_loss: 0.8972\n",
      "Epoch 71/1000\n",
      "\u001b[1m487/523\u001b[0m \u001b[32m━━━━━━━━━━━━━━━━━━\u001b[0m\u001b[37m━━\u001b[0m \u001b[1m0s\u001b[0m 1ms/step - accuracy: 0.6063 - loss: 1.0641\n",
      "Epoch 71: saving model to pose_detector_with_random.keras\n",
      "\u001b[1m523/523\u001b[0m \u001b[32m━━━━━━━━━━━━━━━━━━━━\u001b[0m\u001b[37m\u001b[0m \u001b[1m1s\u001b[0m 2ms/step - accuracy: 0.6062 - loss: 1.0640 - val_accuracy: 0.7403 - val_loss: 0.8316\n",
      "Epoch 72/1000\n",
      "\u001b[1m492/523\u001b[0m \u001b[32m━━━━━━━━━━━━━━━━━━\u001b[0m\u001b[37m━━\u001b[0m \u001b[1m0s\u001b[0m 1ms/step - accuracy: 0.6093 - loss: 1.0616\n",
      "Epoch 72: saving model to pose_detector_with_random.keras\n",
      "\u001b[1m523/523\u001b[0m \u001b[32m━━━━━━━━━━━━━━━━━━━━\u001b[0m\u001b[37m\u001b[0m \u001b[1m1s\u001b[0m 2ms/step - accuracy: 0.6093 - loss: 1.0615 - val_accuracy: 0.7007 - val_loss: 0.8647\n",
      "Epoch 73/1000\n",
      "\u001b[1m494/523\u001b[0m \u001b[32m━━━━━━━━━━━━━━━━━━\u001b[0m\u001b[37m━━\u001b[0m \u001b[1m0s\u001b[0m 1ms/step - accuracy: 0.6079 - loss: 1.0600\n",
      "Epoch 73: saving model to pose_detector_with_random.keras\n",
      "\u001b[1m523/523\u001b[0m \u001b[32m━━━━━━━━━━━━━━━━━━━━\u001b[0m\u001b[37m\u001b[0m \u001b[1m1s\u001b[0m 2ms/step - accuracy: 0.6081 - loss: 1.0598 - val_accuracy: 0.6847 - val_loss: 0.8451\n",
      "Epoch 74/1000\n",
      "\u001b[1m497/523\u001b[0m \u001b[32m━━━━━━━━━━━━━━━━━━━\u001b[0m\u001b[37m━\u001b[0m \u001b[1m0s\u001b[0m 1ms/step - accuracy: 0.6104 - loss: 1.0502\n",
      "Epoch 74: saving model to pose_detector_with_random.keras\n",
      "\u001b[1m523/523\u001b[0m \u001b[32m━━━━━━━━━━━━━━━━━━━━\u001b[0m\u001b[37m\u001b[0m \u001b[1m1s\u001b[0m 2ms/step - accuracy: 0.6104 - loss: 1.0504 - val_accuracy: 0.7323 - val_loss: 0.8599\n",
      "Epoch 75/1000\n",
      "\u001b[1m491/523\u001b[0m \u001b[32m━━━━━━━━━━━━━━━━━━\u001b[0m\u001b[37m━━\u001b[0m \u001b[1m0s\u001b[0m 1ms/step - accuracy: 0.6074 - loss: 1.0581\n",
      "Epoch 75: saving model to pose_detector_with_random.keras\n",
      "\u001b[1m523/523\u001b[0m \u001b[32m━━━━━━━━━━━━━━━━━━━━\u001b[0m\u001b[37m\u001b[0m \u001b[1m1s\u001b[0m 2ms/step - accuracy: 0.6076 - loss: 1.0579 - val_accuracy: 0.6746 - val_loss: 0.8522\n",
      "Epoch 76/1000\n",
      "\u001b[1m520/523\u001b[0m \u001b[32m━━━━━━━━━━━━━━━━━━━\u001b[0m\u001b[37m━\u001b[0m \u001b[1m0s\u001b[0m 1ms/step - accuracy: 0.6126 - loss: 1.0451\n",
      "Epoch 76: saving model to pose_detector_with_random.keras\n",
      "\u001b[1m523/523\u001b[0m \u001b[32m━━━━━━━━━━━━━━━━━━━━\u001b[0m\u001b[37m\u001b[0m \u001b[1m1s\u001b[0m 2ms/step - accuracy: 0.6126 - loss: 1.0452 - val_accuracy: 0.6708 - val_loss: 0.8976\n",
      "Epoch 77/1000\n",
      "\u001b[1m502/523\u001b[0m \u001b[32m━━━━━━━━━━━━━━━━━━━\u001b[0m\u001b[37m━\u001b[0m \u001b[1m0s\u001b[0m 1ms/step - accuracy: 0.6108 - loss: 1.0513\n",
      "Epoch 77: saving model to pose_detector_with_random.keras\n",
      "\u001b[1m523/523\u001b[0m \u001b[32m━━━━━━━━━━━━━━━━━━━━\u001b[0m\u001b[37m\u001b[0m \u001b[1m1s\u001b[0m 2ms/step - accuracy: 0.6108 - loss: 1.0513 - val_accuracy: 0.7311 - val_loss: 0.8391\n",
      "Epoch 77: early stopping\n"
     ]
    },
    {
     "data": {
      "text/plain": [
       "<keras.src.callbacks.history.History at 0x7f415ff59ff0>"
      ]
     },
     "execution_count": 34,
     "metadata": {},
     "output_type": "execute_result"
    }
   ],
   "source": [
    "model.fit(\n",
    "    X_train,\n",
    "    y_train,\n",
    "    epochs=1000,\n",
    "    batch_size=128,\n",
    "    validation_data=(X_test, y_test),\n",
    "    callbacks=[cp_callback, es_callback]\n",
    ")"
   ]
  },
  {
   "cell_type": "code",
   "execution_count": 35,
   "id": "bee66f9c54fd061a",
   "metadata": {
    "ExecuteTime": {
     "end_time": "2025-01-12T08:35:58.997940Z",
     "start_time": "2025-01-12T08:35:58.638453Z"
    }
   },
   "outputs": [
    {
     "name": "stdout",
     "output_type": "stream",
     "text": [
      "\u001b[1m131/131\u001b[0m \u001b[32m━━━━━━━━━━━━━━━━━━━━\u001b[0m\u001b[37m\u001b[0m \u001b[1m0s\u001b[0m 1ms/step - accuracy: 0.7345 - loss: 0.8360\n"
     ]
    }
   ],
   "source": [
    "# Model evaluation\n",
    "val_loss, val_acc = model.evaluate(X_test, y_test, batch_size=128)"
   ]
  },
  {
   "cell_type": "code",
   "execution_count": 36,
   "id": "c65e310e018d0999",
   "metadata": {
    "ExecuteTime": {
     "end_time": "2025-01-12T08:35:59.081354Z",
     "start_time": "2025-01-12T08:35:59.009408Z"
    }
   },
   "outputs": [],
   "source": [
    "# Loading the saved model\n",
    "model = tf.keras.models.load_model(model_save_path)"
   ]
  },
  {
   "cell_type": "code",
   "execution_count": 37,
   "id": "68cb8d57dd3b99da",
   "metadata": {
    "ExecuteTime": {
     "end_time": "2025-01-12T08:35:59.174474Z",
     "start_time": "2025-01-12T08:35:59.090979Z"
    }
   },
   "outputs": [
    {
     "name": "stdout",
     "output_type": "stream",
     "text": [
      "\u001b[1m1/1\u001b[0m \u001b[32m━━━━━━━━━━━━━━━━━━━━\u001b[0m\u001b[37m\u001b[0m \u001b[1m0s\u001b[0m 42ms/step\n",
      "[1.7099488e-01 7.0174855e-01 4.1761674e-02 2.2001740e-09 2.7045500e-04\n",
      " 1.8257821e-03 8.3398744e-02]\n",
      "1\n"
     ]
    }
   ],
   "source": [
    "# Inference test\n",
    "predict_result = model.predict(np.array([X_test[0]]))\n",
    "print(np.squeeze(predict_result))\n",
    "print(np.argmax(np.squeeze(predict_result)))"
   ]
  },
  {
   "cell_type": "markdown",
   "id": "4cc6a7d86e0bda9a",
   "metadata": {},
   "source": [
    "# Save Model to TFfile"
   ]
  },
  {
   "cell_type": "code",
   "execution_count": 38,
   "id": "dc4c80922090aa2e",
   "metadata": {
    "ExecuteTime": {
     "end_time": "2025-01-12T08:35:59.337284Z",
     "start_time": "2025-01-12T08:35:59.192797Z"
    }
   },
   "outputs": [
    {
     "name": "stdout",
     "output_type": "stream",
     "text": [
      "INFO:tensorflow:Assets written to: pose_detector_with_random/assets\n"
     ]
    },
    {
     "name": "stderr",
     "output_type": "stream",
     "text": [
      "INFO:tensorflow:Assets written to: pose_detector_with_random/assets\n"
     ]
    },
    {
     "name": "stdout",
     "output_type": "stream",
     "text": [
      "Saved artifact at 'pose_detector_with_random'. The following endpoints are available:\n",
      "\n",
      "* Endpoint 'serve'\n",
      "  args_0 (POSITIONAL_ONLY): TensorSpec(shape=(None, 9), dtype=tf.float32, name='input_layer_1')\n",
      "Output Type:\n",
      "  TensorSpec(shape=(None, 7), dtype=tf.float32, name=None)\n",
      "Captures:\n",
      "  139918759695408: TensorSpec(shape=(), dtype=tf.resource, name=None)\n",
      "  139918759567328: TensorSpec(shape=(), dtype=tf.resource, name=None)\n",
      "  139918759699632: TensorSpec(shape=(), dtype=tf.resource, name=None)\n",
      "  139921026761120: TensorSpec(shape=(), dtype=tf.resource, name=None)\n",
      "  139921026769744: TensorSpec(shape=(), dtype=tf.resource, name=None)\n",
      "  139921026771504: TensorSpec(shape=(), dtype=tf.resource, name=None)\n"
     ]
    }
   ],
   "source": [
    "model.export(model_save_name)"
   ]
  },
  {
   "cell_type": "code",
   "execution_count": 39,
   "id": "e80270ee32ef7ecf",
   "metadata": {
    "ExecuteTime": {
     "end_time": "2025-01-12T08:35:59.691298Z",
     "start_time": "2025-01-12T08:35:59.381195Z"
    }
   },
   "outputs": [
    {
     "name": "stderr",
     "output_type": "stream",
     "text": [
      "W0000 00:00:1739093476.062729   32199 tf_tfl_flatbuffer_helpers.cc:365] Ignored output_format.\n",
      "W0000 00:00:1739093476.062754   32199 tf_tfl_flatbuffer_helpers.cc:368] Ignored drop_control_dependency.\n",
      "2025-02-09 17:31:16.062963: I tensorflow/cc/saved_model/reader.cc:83] Reading SavedModel from: pose_detector_with_random\n",
      "2025-02-09 17:31:16.063658: I tensorflow/cc/saved_model/reader.cc:52] Reading meta graph with tags { serve }\n",
      "2025-02-09 17:31:16.063671: I tensorflow/cc/saved_model/reader.cc:147] Reading SavedModel debug info (if present) from: pose_detector_with_random\n",
      "2025-02-09 17:31:16.067440: I tensorflow/cc/saved_model/loader.cc:236] Restoring SavedModel bundle.\n",
      "2025-02-09 17:31:16.087298: I tensorflow/cc/saved_model/loader.cc:220] Running initialization op on SavedModel bundle at path: pose_detector_with_random\n",
      "2025-02-09 17:31:16.094029: I tensorflow/cc/saved_model/loader.cc:466] SavedModel load for tags { serve }; Status: success: OK. Took 31070 microseconds.\n"
     ]
    }
   ],
   "source": [
    "converter = tf.lite.TFLiteConverter.from_saved_model(model_save_name)\n",
    "tflite_model = converter.convert()"
   ]
  },
  {
   "cell_type": "code",
   "execution_count": null,
   "id": "cd4e6367018f3b0a",
   "metadata": {},
   "outputs": [],
   "source": []
  },
  {
   "cell_type": "code",
   "execution_count": 40,
   "id": "9c02c461eae437d0",
   "metadata": {
    "ExecuteTime": {
     "end_time": "2025-01-12T08:35:59.703539Z",
     "start_time": "2025-01-12T08:35:59.700968Z"
    }
   },
   "outputs": [],
   "source": [
    "with open(model_tflite_name, 'wb') as f:\n",
    "    f.write(tflite_model)"
   ]
  },
  {
   "cell_type": "markdown",
   "id": "c246179bb37dcf1f",
   "metadata": {},
   "source": [
    "# Confussion Matrix"
   ]
  },
  {
   "cell_type": "code",
   "execution_count": 47,
   "id": "8d4700bbdcfe605e",
   "metadata": {
    "ExecuteTime": {
     "end_time": "2025-01-12T08:36:00.892260Z",
     "start_time": "2025-01-12T08:35:59.747853Z"
    }
   },
   "outputs": [
    {
     "name": "stdout",
     "output_type": "stream",
     "text": [
      "\u001b[1m523/523\u001b[0m \u001b[32m━━━━━━━━━━━━━━━━━━━━\u001b[0m\u001b[37m\u001b[0m \u001b[1m0s\u001b[0m 822us/step\n"
     ]
    },
    {
     "data": {
      "image/png": "[encoded data removed]",
      "text/plain": [
       "<Figure size 700x600 with 2 Axes>"
      ]
     },
     "metadata": {},
     "output_type": "display_data"
    },
    {
     "name": "stdout",
     "output_type": "stream",
     "text": [
      "Classification Report\n",
      "              precision    recall  f1-score   support\n",
      "\n",
      "           0       0.60      0.96      0.74      2172\n",
      "           1       0.84      0.64      0.73      2227\n",
      "           2       0.63      0.52      0.57      2242\n",
      "           3       0.91      0.75      0.82      2204\n",
      "           4       0.69      0.94      0.79      2247\n",
      "           5       0.95      0.62      0.75      2243\n",
      "           6       0.72      0.71      0.71      3372\n",
      "\n",
      "    accuracy                           0.73     16707\n",
      "   macro avg       0.76      0.73      0.73     16707\n",
      "weighted avg       0.76      0.73      0.73     16707\n",
      "\n"
     ]
    }
   ],
   "source": [
    "import pandas as pd\n",
    "import seaborn as sns\n",
    "import matplotlib.pyplot as plt\n",
    "from sklearn.metrics import confusion_matrix, classification_report\n",
    "\n",
    "def print_confusion_matrix(y_true, y_pred, report=True):\n",
    "    labels = sorted(list(set(y_true)))\n",
    "    label_name = ['fist', 'index', 'middle', 'palm', 'two_fingger_close', 'v_gest', 'random']\n",
    "    cmx_data = confusion_matrix(y_true, y_pred, labels=labels)\n",
    "\n",
    "    df_cmx = pd.DataFrame(cmx_data, index=label_name, columns=label_name)\n",
    "\n",
    "    fig, ax = plt.subplots(figsize=(7, 6))\n",
    "    sns.heatmap(df_cmx, annot=True, fmt='g' ,square=False)\n",
    "    ax.set_ylim(len(set(y_true)), 0)\n",
    "    plt.show()\n",
    "\n",
    "    if report:\n",
    "        print('Classification Report')\n",
    "        print(classification_report(y_test, y_pred))\n",
    "\n",
    "Y_pred = model.predict(X_test)\n",
    "y_pred = np.argmax(Y_pred, axis=1)\n",
    "\n",
    "print_confusion_matrix(y_test, y_pred)"
   ]
  },
  {
   "cell_type": "code",
   "execution_count": null,
   "id": "5e8ea29f",
   "metadata": {},
   "outputs": [],
   "source": []
  }
 ],
 "metadata": {
  "kernelspec": {
   "display_name": "hand-mouse",
   "language": "python",
   "name": "python3"
  },
  "language_info": {
   "codemirror_mode": {
    "name": "ipython",
    "version": 3
   },
   "file_extension": ".py",
   "mimetype": "text/x-python",
   "name": "python",
   "nbconvert_exporter": "python",
   "pygments_lexer": "ipython3",
   "version": "3.10.11"
  }
 },
 "nbformat": 4,
 "nbformat_minor": 5
}
