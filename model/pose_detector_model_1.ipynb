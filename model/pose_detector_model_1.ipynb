{
 "cells": [
  {
   "cell_type": "code",
   "id": "initial_id",
   "metadata": {
    "collapsed": true,
    "ExecuteTime": {
     "end_time": "2025-01-12T08:34:58.056369Z",
     "start_time": "2025-01-12T08:34:58.052944Z"
    }
   },
   "source": [
    "import numpy as np\n",
    "import tensorflow as tf\n",
    "from sklearn.model_selection import train_test_split\n",
    "\n",
    "RANDOM_SEED = 42"
   ],
   "outputs": [],
   "execution_count": 20
  },
  {
   "metadata": {
    "ExecuteTime": {
     "end_time": "2025-01-12T08:34:59.794067Z",
     "start_time": "2025-01-12T08:34:59.791061Z"
    }
   },
   "cell_type": "code",
   "source": [
    "dataset = 'dataset.csv'\n",
    "model_save_path = 'pose_detector.keras'\n",
    "model_save_name = 'pose_detector'\n",
    "model_tflite_name = 'pose_detector.tflite'"
   ],
   "id": "81ecd7773e8b1b1c",
   "outputs": [],
   "execution_count": 21
  },
  {
   "metadata": {
    "ExecuteTime": {
     "end_time": "2025-01-12T08:35:02.330514Z",
     "start_time": "2025-01-12T08:35:02.327777Z"
    }
   },
   "cell_type": "code",
   "source": "NUM_CLASSES = 6",
   "id": "e69571db85feea87",
   "outputs": [],
   "execution_count": 23
  },
  {
   "metadata": {
    "ExecuteTime": {
     "end_time": "2025-01-12T08:35:02.744749Z",
     "start_time": "2025-01-12T08:35:02.676325Z"
    }
   },
   "cell_type": "code",
   "source": "X_dataset = np.loadtxt(dataset, delimiter=',', dtype='float32', usecols=list(range(2, 10 + 1)))",
   "id": "ba2e60d8aaea8676",
   "outputs": [],
   "execution_count": 24
  },
  {
   "metadata": {
    "ExecuteTime": {
     "end_time": "2025-01-12T08:35:03.126370Z",
     "start_time": "2025-01-12T08:35:03.103107Z"
    }
   },
   "cell_type": "code",
   "source": "y_dataset = np.loadtxt(dataset, delimiter=',', dtype='int32', usecols=(0))",
   "id": "db3200ee0876a45b",
   "outputs": [],
   "execution_count": 25
  },
  {
   "metadata": {
    "ExecuteTime": {
     "end_time": "2025-01-12T08:35:03.442912Z",
     "start_time": "2025-01-12T08:35:03.440037Z"
    }
   },
   "cell_type": "code",
   "source": "# y_dataset = y_dataset - 1",
   "id": "3a82246ef97fae35",
   "outputs": [],
   "execution_count": 26
  },
  {
   "metadata": {
    "ExecuteTime": {
     "end_time": "2025-01-12T08:35:03.691362Z",
     "start_time": "2025-01-12T08:35:03.667698Z"
    }
   },
   "cell_type": "code",
   "source": "X_train, X_test, y_train, y_test = train_test_split(X_dataset, y_dataset, train_size=0.75, random_state=RANDOM_SEED)",
   "id": "c59381c52ebe6d0b",
   "outputs": [],
   "execution_count": 27
  },
  {
   "metadata": {},
   "cell_type": "markdown",
   "source": "# Model building",
   "id": "1478cdb5565259bc"
  },
  {
   "metadata": {
    "ExecuteTime": {
     "end_time": "2025-01-12T08:35:04.274506Z",
     "start_time": "2025-01-12T08:35:04.244417Z"
    }
   },
   "cell_type": "code",
   "source": [
    "model = tf.keras.models.Sequential([\n",
    "    tf.keras.layers.Input((9, )),\n",
    "    tf.keras.layers.Dropout(0.2),\n",
    "    tf.keras.layers.Dense(20, activation='relu'),\n",
    "    tf.keras.layers.Dropout(0.4),\n",
    "    tf.keras.layers.Dense(10, activation='relu'),\n",
    "    tf.keras.layers.Dense(NUM_CLASSES, activation='softmax')\n",
    "])"
   ],
   "id": "8611be63bb0dd298",
   "outputs": [],
   "execution_count": 28
  },
  {
   "metadata": {
    "ExecuteTime": {
     "end_time": "2025-01-12T08:35:04.412866Z",
     "start_time": "2025-01-12T08:35:04.399175Z"
    }
   },
   "cell_type": "code",
   "source": "model.summary()  # tf.keras.utils.plot_model(model, show_shapes=True)",
   "id": "5e296d1fdc34bc63",
   "outputs": [
    {
     "data": {
      "text/plain": [
       "\u001B[1mModel: \"sequential_1\"\u001B[0m\n"
      ],
      "text/html": [
       "<pre style=\"white-space:pre;overflow-x:auto;line-height:normal;font-family:Menlo,'DejaVu Sans Mono',consolas,'Courier New',monospace\"><span style=\"font-weight: bold\">Model: \"sequential_1\"</span>\n",
       "</pre>\n"
      ]
     },
     "metadata": {},
     "output_type": "display_data"
    },
    {
     "data": {
      "text/plain": [
       "┏━━━━━━━━━━━━━━━━━━━━━━━━━━━━━━━━━┳━━━━━━━━━━━━━━━━━━━━━━━━┳━━━━━━━━━━━━━━━┓\n",
       "┃\u001B[1m \u001B[0m\u001B[1mLayer (type)                   \u001B[0m\u001B[1m \u001B[0m┃\u001B[1m \u001B[0m\u001B[1mOutput Shape          \u001B[0m\u001B[1m \u001B[0m┃\u001B[1m \u001B[0m\u001B[1m      Param #\u001B[0m\u001B[1m \u001B[0m┃\n",
       "┡━━━━━━━━━━━━━━━━━━━━━━━━━━━━━━━━━╇━━━━━━━━━━━━━━━━━━━━━━━━╇━━━━━━━━━━━━━━━┩\n",
       "│ dropout_2 (\u001B[38;5;33mDropout\u001B[0m)             │ (\u001B[38;5;45mNone\u001B[0m, \u001B[38;5;34m9\u001B[0m)              │             \u001B[38;5;34m0\u001B[0m │\n",
       "├─────────────────────────────────┼────────────────────────┼───────────────┤\n",
       "│ dense_3 (\u001B[38;5;33mDense\u001B[0m)                 │ (\u001B[38;5;45mNone\u001B[0m, \u001B[38;5;34m20\u001B[0m)             │           \u001B[38;5;34m200\u001B[0m │\n",
       "├─────────────────────────────────┼────────────────────────┼───────────────┤\n",
       "│ dropout_3 (\u001B[38;5;33mDropout\u001B[0m)             │ (\u001B[38;5;45mNone\u001B[0m, \u001B[38;5;34m20\u001B[0m)             │             \u001B[38;5;34m0\u001B[0m │\n",
       "├─────────────────────────────────┼────────────────────────┼───────────────┤\n",
       "│ dense_4 (\u001B[38;5;33mDense\u001B[0m)                 │ (\u001B[38;5;45mNone\u001B[0m, \u001B[38;5;34m10\u001B[0m)             │           \u001B[38;5;34m210\u001B[0m │\n",
       "├─────────────────────────────────┼────────────────────────┼───────────────┤\n",
       "│ dense_5 (\u001B[38;5;33mDense\u001B[0m)                 │ (\u001B[38;5;45mNone\u001B[0m, \u001B[38;5;34m6\u001B[0m)              │            \u001B[38;5;34m66\u001B[0m │\n",
       "└─────────────────────────────────┴────────────────────────┴───────────────┘\n"
      ],
      "text/html": [
       "<pre style=\"white-space:pre;overflow-x:auto;line-height:normal;font-family:Menlo,'DejaVu Sans Mono',consolas,'Courier New',monospace\">┏━━━━━━━━━━━━━━━━━━━━━━━━━━━━━━━━━┳━━━━━━━━━━━━━━━━━━━━━━━━┳━━━━━━━━━━━━━━━┓\n",
       "┃<span style=\"font-weight: bold\"> Layer (type)                    </span>┃<span style=\"font-weight: bold\"> Output Shape           </span>┃<span style=\"font-weight: bold\">       Param # </span>┃\n",
       "┡━━━━━━━━━━━━━━━━━━━━━━━━━━━━━━━━━╇━━━━━━━━━━━━━━━━━━━━━━━━╇━━━━━━━━━━━━━━━┩\n",
       "│ dropout_2 (<span style=\"color: #0087ff; text-decoration-color: #0087ff\">Dropout</span>)             │ (<span style=\"color: #00d7ff; text-decoration-color: #00d7ff\">None</span>, <span style=\"color: #00af00; text-decoration-color: #00af00\">9</span>)              │             <span style=\"color: #00af00; text-decoration-color: #00af00\">0</span> │\n",
       "├─────────────────────────────────┼────────────────────────┼───────────────┤\n",
       "│ dense_3 (<span style=\"color: #0087ff; text-decoration-color: #0087ff\">Dense</span>)                 │ (<span style=\"color: #00d7ff; text-decoration-color: #00d7ff\">None</span>, <span style=\"color: #00af00; text-decoration-color: #00af00\">20</span>)             │           <span style=\"color: #00af00; text-decoration-color: #00af00\">200</span> │\n",
       "├─────────────────────────────────┼────────────────────────┼───────────────┤\n",
       "│ dropout_3 (<span style=\"color: #0087ff; text-decoration-color: #0087ff\">Dropout</span>)             │ (<span style=\"color: #00d7ff; text-decoration-color: #00d7ff\">None</span>, <span style=\"color: #00af00; text-decoration-color: #00af00\">20</span>)             │             <span style=\"color: #00af00; text-decoration-color: #00af00\">0</span> │\n",
       "├─────────────────────────────────┼────────────────────────┼───────────────┤\n",
       "│ dense_4 (<span style=\"color: #0087ff; text-decoration-color: #0087ff\">Dense</span>)                 │ (<span style=\"color: #00d7ff; text-decoration-color: #00d7ff\">None</span>, <span style=\"color: #00af00; text-decoration-color: #00af00\">10</span>)             │           <span style=\"color: #00af00; text-decoration-color: #00af00\">210</span> │\n",
       "├─────────────────────────────────┼────────────────────────┼───────────────┤\n",
       "│ dense_5 (<span style=\"color: #0087ff; text-decoration-color: #0087ff\">Dense</span>)                 │ (<span style=\"color: #00d7ff; text-decoration-color: #00d7ff\">None</span>, <span style=\"color: #00af00; text-decoration-color: #00af00\">6</span>)              │            <span style=\"color: #00af00; text-decoration-color: #00af00\">66</span> │\n",
       "└─────────────────────────────────┴────────────────────────┴───────────────┘\n",
       "</pre>\n"
      ]
     },
     "metadata": {},
     "output_type": "display_data"
    },
    {
     "data": {
      "text/plain": [
       "\u001B[1m Total params: \u001B[0m\u001B[38;5;34m476\u001B[0m (1.86 KB)\n"
      ],
      "text/html": [
       "<pre style=\"white-space:pre;overflow-x:auto;line-height:normal;font-family:Menlo,'DejaVu Sans Mono',consolas,'Courier New',monospace\"><span style=\"font-weight: bold\"> Total params: </span><span style=\"color: #00af00; text-decoration-color: #00af00\">476</span> (1.86 KB)\n",
       "</pre>\n"
      ]
     },
     "metadata": {},
     "output_type": "display_data"
    },
    {
     "data": {
      "text/plain": [
       "\u001B[1m Trainable params: \u001B[0m\u001B[38;5;34m476\u001B[0m (1.86 KB)\n"
      ],
      "text/html": [
       "<pre style=\"white-space:pre;overflow-x:auto;line-height:normal;font-family:Menlo,'DejaVu Sans Mono',consolas,'Courier New',monospace\"><span style=\"font-weight: bold\"> Trainable params: </span><span style=\"color: #00af00; text-decoration-color: #00af00\">476</span> (1.86 KB)\n",
       "</pre>\n"
      ]
     },
     "metadata": {},
     "output_type": "display_data"
    },
    {
     "data": {
      "text/plain": [
       "\u001B[1m Non-trainable params: \u001B[0m\u001B[38;5;34m0\u001B[0m (0.00 B)\n"
      ],
      "text/html": [
       "<pre style=\"white-space:pre;overflow-x:auto;line-height:normal;font-family:Menlo,'DejaVu Sans Mono',consolas,'Courier New',monospace\"><span style=\"font-weight: bold\"> Non-trainable params: </span><span style=\"color: #00af00; text-decoration-color: #00af00\">0</span> (0.00 B)\n",
       "</pre>\n"
      ]
     },
     "metadata": {},
     "output_type": "display_data"
    }
   ],
   "execution_count": 29
  },
  {
   "metadata": {
    "ExecuteTime": {
     "end_time": "2025-01-12T08:35:04.582533Z",
     "start_time": "2025-01-12T08:35:04.578952Z"
    }
   },
   "cell_type": "code",
   "source": [
    "# Model checkpoint callback\n",
    "# path_model = os.path.dirname(model_save_path)\n",
    "cp_callback = tf.keras.callbacks.ModelCheckpoint(\n",
    "    filepath=model_save_path, verbose=1, save_weights_only=False\n",
    ")\n",
    "# Callback for early stopping\n",
    "es_callback = tf.keras.callbacks.EarlyStopping(patience=20, verbose=1)"
   ],
   "id": "fd303061c176e14",
   "outputs": [],
   "execution_count": 30
  },
  {
   "metadata": {
    "ExecuteTime": {
     "end_time": "2025-01-12T08:35:04.784606Z",
     "start_time": "2025-01-12T08:35:04.776590Z"
    }
   },
   "cell_type": "code",
   "source": [
    "# Model compilation\n",
    "model.compile(\n",
    "    optimizer='adam',\n",
    "    loss='sparse_categorical_crossentropy',\n",
    "    metrics=['accuracy']\n",
    ")"
   ],
   "id": "186ec0ffe55e4c27",
   "outputs": [],
   "execution_count": 31
  },
  {
   "metadata": {},
   "cell_type": "markdown",
   "source": "# Model training",
   "id": "39518e52dc7ed76f"
  },
  {
   "metadata": {
    "ExecuteTime": {
     "end_time": "2025-01-12T08:35:58.617921Z",
     "start_time": "2025-01-12T08:35:05.179608Z"
    }
   },
   "cell_type": "code",
   "source": [
    "model.fit(\n",
    "    X_train,\n",
    "    y_train,\n",
    "    epochs=1000,\n",
    "    batch_size=128,\n",
    "    validation_data=(X_test, y_test),\n",
    "    callbacks=[cp_callback, es_callback]\n",
    ")"
   ],
   "id": "bac1c343f72caac2",
   "outputs": [
    {
     "name": "stdout",
     "output_type": "stream",
     "text": [
      "Epoch 1/1000\n",
      "\u001B[1m865/879\u001B[0m \u001B[32m━━━━━━━━━━━━━━━━━━━\u001B[0m\u001B[37m━\u001B[0m \u001B[1m0s\u001B[0m 1ms/step - accuracy: 0.2664 - loss: 3.6196\n",
      "Epoch 1: saving model to pose_detector.keras\n",
      "\u001B[1m879/879\u001B[0m \u001B[32m━━━━━━━━━━━━━━━━━━━━\u001B[0m\u001B[37m\u001B[0m \u001B[1m2s\u001B[0m 2ms/step - accuracy: 0.2668 - loss: 3.5960 - val_accuracy: 0.3345 - val_loss: 1.4389\n",
      "Epoch 2/1000\n",
      "\u001B[1m857/879\u001B[0m \u001B[32m━━━━━━━━━━━━━━━━━━━\u001B[0m\u001B[37m━\u001B[0m \u001B[1m0s\u001B[0m 1ms/step - accuracy: 0.3324 - loss: 1.5022\n",
      "Epoch 2: saving model to pose_detector.keras\n",
      "\u001B[1m879/879\u001B[0m \u001B[32m━━━━━━━━━━━━━━━━━━━━\u001B[0m\u001B[37m\u001B[0m \u001B[1m1s\u001B[0m 2ms/step - accuracy: 0.3331 - loss: 1.5011 - val_accuracy: 0.4694 - val_loss: 1.2292\n",
      "Epoch 3/1000\n",
      "\u001B[1m873/879\u001B[0m \u001B[32m━━━━━━━━━━━━━━━━━━━\u001B[0m\u001B[37m━\u001B[0m \u001B[1m0s\u001B[0m 1ms/step - accuracy: 0.4139 - loss: 1.3511\n",
      "Epoch 3: saving model to pose_detector.keras\n",
      "\u001B[1m879/879\u001B[0m \u001B[32m━━━━━━━━━━━━━━━━━━━━\u001B[0m\u001B[37m\u001B[0m \u001B[1m2s\u001B[0m 2ms/step - accuracy: 0.4140 - loss: 1.3509 - val_accuracy: 0.5865 - val_loss: 1.0889\n",
      "Epoch 4/1000\n",
      "\u001B[1m856/879\u001B[0m \u001B[32m━━━━━━━━━━━━━━━━━━━\u001B[0m\u001B[37m━\u001B[0m \u001B[1m0s\u001B[0m 1ms/step - accuracy: 0.5237 - loss: 1.1940\n",
      "Epoch 4: saving model to pose_detector.keras\n",
      "\u001B[1m879/879\u001B[0m \u001B[32m━━━━━━━━━━━━━━━━━━━━\u001B[0m\u001B[37m\u001B[0m \u001B[1m2s\u001B[0m 2ms/step - accuracy: 0.5246 - loss: 1.1927 - val_accuracy: 0.8037 - val_loss: 0.7762\n",
      "Epoch 5/1000\n",
      "\u001B[1m849/879\u001B[0m \u001B[32m━━━━━━━━━━━━━━━━━━━\u001B[0m\u001B[37m━\u001B[0m \u001B[1m0s\u001B[0m 1ms/step - accuracy: 0.6058 - loss: 1.0540\n",
      "Epoch 5: saving model to pose_detector.keras\n",
      "\u001B[1m879/879\u001B[0m \u001B[32m━━━━━━━━━━━━━━━━━━━━\u001B[0m\u001B[37m\u001B[0m \u001B[1m2s\u001B[0m 2ms/step - accuracy: 0.6059 - loss: 1.0536 - val_accuracy: 0.8164 - val_loss: 0.7165\n",
      "Epoch 6/1000\n",
      "\u001B[1m849/879\u001B[0m \u001B[32m━━━━━━━━━━━━━━━━━━━\u001B[0m\u001B[37m━\u001B[0m \u001B[1m0s\u001B[0m 1ms/step - accuracy: 0.6240 - loss: 1.0123\n",
      "Epoch 6: saving model to pose_detector.keras\n",
      "\u001B[1m879/879\u001B[0m \u001B[32m━━━━━━━━━━━━━━━━━━━━\u001B[0m\u001B[37m\u001B[0m \u001B[1m2s\u001B[0m 2ms/step - accuracy: 0.6241 - loss: 1.0121 - val_accuracy: 0.8212 - val_loss: 0.6773\n",
      "Epoch 7/1000\n",
      "\u001B[1m843/879\u001B[0m \u001B[32m━━━━━━━━━━━━━━━━━━━\u001B[0m\u001B[37m━\u001B[0m \u001B[1m0s\u001B[0m 1ms/step - accuracy: 0.6289 - loss: 0.9873\n",
      "Epoch 7: saving model to pose_detector.keras\n",
      "\u001B[1m879/879\u001B[0m \u001B[32m━━━━━━━━━━━━━━━━━━━━\u001B[0m\u001B[37m\u001B[0m \u001B[1m2s\u001B[0m 2ms/step - accuracy: 0.6291 - loss: 0.9871 - val_accuracy: 0.8247 - val_loss: 0.6472\n",
      "Epoch 8/1000\n",
      "\u001B[1m875/879\u001B[0m \u001B[32m━━━━━━━━━━━━━━━━━━━\u001B[0m\u001B[37m━\u001B[0m \u001B[1m0s\u001B[0m 1ms/step - accuracy: 0.6343 - loss: 0.9729\n",
      "Epoch 8: saving model to pose_detector.keras\n",
      "\u001B[1m879/879\u001B[0m \u001B[32m━━━━━━━━━━━━━━━━━━━━\u001B[0m\u001B[37m\u001B[0m \u001B[1m1s\u001B[0m 2ms/step - accuracy: 0.6343 - loss: 0.9729 - val_accuracy: 0.8298 - val_loss: 0.6584\n",
      "Epoch 9/1000\n",
      "\u001B[1m879/879\u001B[0m \u001B[32m━━━━━━━━━━━━━━━━━━━━\u001B[0m\u001B[37m\u001B[0m \u001B[1m0s\u001B[0m 1ms/step - accuracy: 0.6374 - loss: 0.9636\n",
      "Epoch 9: saving model to pose_detector.keras\n",
      "\u001B[1m879/879\u001B[0m \u001B[32m━━━━━━━━━━━━━━━━━━━━\u001B[0m\u001B[37m\u001B[0m \u001B[1m2s\u001B[0m 2ms/step - accuracy: 0.6374 - loss: 0.9636 - val_accuracy: 0.8280 - val_loss: 0.6538\n",
      "Epoch 10/1000\n",
      "\u001B[1m865/879\u001B[0m \u001B[32m━━━━━━━━━━━━━━━━━━━\u001B[0m\u001B[37m━\u001B[0m \u001B[1m0s\u001B[0m 2ms/step - accuracy: 0.6430 - loss: 0.9511\n",
      "Epoch 10: saving model to pose_detector.keras\n",
      "\u001B[1m879/879\u001B[0m \u001B[32m━━━━━━━━━━━━━━━━━━━━\u001B[0m\u001B[37m\u001B[0m \u001B[1m2s\u001B[0m 2ms/step - accuracy: 0.6431 - loss: 0.9510 - val_accuracy: 0.8335 - val_loss: 0.6514\n",
      "Epoch 11/1000\n",
      "\u001B[1m869/879\u001B[0m \u001B[32m━━━━━━━━━━━━━━━━━━━\u001B[0m\u001B[37m━\u001B[0m \u001B[1m0s\u001B[0m 1ms/step - accuracy: 0.6516 - loss: 0.9344\n",
      "Epoch 11: saving model to pose_detector.keras\n",
      "\u001B[1m879/879\u001B[0m \u001B[32m━━━━━━━━━━━━━━━━━━━━\u001B[0m\u001B[37m\u001B[0m \u001B[1m2s\u001B[0m 2ms/step - accuracy: 0.6517 - loss: 0.9344 - val_accuracy: 0.8406 - val_loss: 0.6189\n",
      "Epoch 12/1000\n",
      "\u001B[1m866/879\u001B[0m \u001B[32m━━━━━━━━━━━━━━━━━━━\u001B[0m\u001B[37m━\u001B[0m \u001B[1m0s\u001B[0m 1ms/step - accuracy: 0.6579 - loss: 0.9238\n",
      "Epoch 12: saving model to pose_detector.keras\n",
      "\u001B[1m879/879\u001B[0m \u001B[32m━━━━━━━━━━━━━━━━━━━━\u001B[0m\u001B[37m\u001B[0m \u001B[1m2s\u001B[0m 2ms/step - accuracy: 0.6579 - loss: 0.9238 - val_accuracy: 0.8420 - val_loss: 0.6173\n",
      "Epoch 13/1000\n",
      "\u001B[1m872/879\u001B[0m \u001B[32m━━━━━━━━━━━━━━━━━━━\u001B[0m\u001B[37m━\u001B[0m \u001B[1m0s\u001B[0m 1ms/step - accuracy: 0.6587 - loss: 0.9183\n",
      "Epoch 13: saving model to pose_detector.keras\n",
      "\u001B[1m879/879\u001B[0m \u001B[32m━━━━━━━━━━━━━━━━━━━━\u001B[0m\u001B[37m\u001B[0m \u001B[1m2s\u001B[0m 2ms/step - accuracy: 0.6587 - loss: 0.9183 - val_accuracy: 0.8414 - val_loss: 0.6023\n",
      "Epoch 14/1000\n",
      "\u001B[1m862/879\u001B[0m \u001B[32m━━━━━━━━━━━━━━━━━━━\u001B[0m\u001B[37m━\u001B[0m \u001B[1m0s\u001B[0m 1ms/step - accuracy: 0.6611 - loss: 0.9164\n",
      "Epoch 14: saving model to pose_detector.keras\n",
      "\u001B[1m879/879\u001B[0m \u001B[32m━━━━━━━━━━━━━━━━━━━━\u001B[0m\u001B[37m\u001B[0m \u001B[1m2s\u001B[0m 2ms/step - accuracy: 0.6612 - loss: 0.9162 - val_accuracy: 0.8409 - val_loss: 0.6308\n",
      "Epoch 15/1000\n",
      "\u001B[1m876/879\u001B[0m \u001B[32m━━━━━━━━━━━━━━━━━━━\u001B[0m\u001B[37m━\u001B[0m \u001B[1m0s\u001B[0m 1ms/step - accuracy: 0.6636 - loss: 0.9018\n",
      "Epoch 15: saving model to pose_detector.keras\n",
      "\u001B[1m879/879\u001B[0m \u001B[32m━━━━━━━━━━━━━━━━━━━━\u001B[0m\u001B[37m\u001B[0m \u001B[1m2s\u001B[0m 2ms/step - accuracy: 0.6636 - loss: 0.9018 - val_accuracy: 0.8456 - val_loss: 0.6590\n",
      "Epoch 16/1000\n",
      "\u001B[1m853/879\u001B[0m \u001B[32m━━━━━━━━━━━━━━━━━━━\u001B[0m\u001B[37m━\u001B[0m \u001B[1m0s\u001B[0m 1ms/step - accuracy: 0.6698 - loss: 0.8958\n",
      "Epoch 16: saving model to pose_detector.keras\n",
      "\u001B[1m879/879\u001B[0m \u001B[32m━━━━━━━━━━━━━━━━━━━━\u001B[0m\u001B[37m\u001B[0m \u001B[1m2s\u001B[0m 2ms/step - accuracy: 0.6698 - loss: 0.8957 - val_accuracy: 0.8491 - val_loss: 0.6760\n",
      "Epoch 17/1000\n",
      "\u001B[1m853/879\u001B[0m \u001B[32m━━━━━━━━━━━━━━━━━━━\u001B[0m\u001B[37m━\u001B[0m \u001B[1m0s\u001B[0m 1ms/step - accuracy: 0.6693 - loss: 0.8875\n",
      "Epoch 17: saving model to pose_detector.keras\n",
      "\u001B[1m879/879\u001B[0m \u001B[32m━━━━━━━━━━━━━━━━━━━━\u001B[0m\u001B[37m\u001B[0m \u001B[1m2s\u001B[0m 2ms/step - accuracy: 0.6694 - loss: 0.8874 - val_accuracy: 0.8462 - val_loss: 0.6609\n",
      "Epoch 18/1000\n",
      "\u001B[1m853/879\u001B[0m \u001B[32m━━━━━━━━━━━━━━━━━━━\u001B[0m\u001B[37m━\u001B[0m \u001B[1m0s\u001B[0m 1ms/step - accuracy: 0.6715 - loss: 0.8798\n",
      "Epoch 18: saving model to pose_detector.keras\n",
      "\u001B[1m879/879\u001B[0m \u001B[32m━━━━━━━━━━━━━━━━━━━━\u001B[0m\u001B[37m\u001B[0m \u001B[1m2s\u001B[0m 2ms/step - accuracy: 0.6715 - loss: 0.8799 - val_accuracy: 0.8462 - val_loss: 0.6645\n",
      "Epoch 19/1000\n",
      "\u001B[1m846/879\u001B[0m \u001B[32m━━━━━━━━━━━━━━━━━━━\u001B[0m\u001B[37m━\u001B[0m \u001B[1m0s\u001B[0m 1ms/step - accuracy: 0.6743 - loss: 0.8742\n",
      "Epoch 19: saving model to pose_detector.keras\n",
      "\u001B[1m879/879\u001B[0m \u001B[32m━━━━━━━━━━━━━━━━━━━━\u001B[0m\u001B[37m\u001B[0m \u001B[1m2s\u001B[0m 2ms/step - accuracy: 0.6742 - loss: 0.8744 - val_accuracy: 0.8440 - val_loss: 0.6851\n",
      "Epoch 20/1000\n",
      "\u001B[1m857/879\u001B[0m \u001B[32m━━━━━━━━━━━━━━━━━━━\u001B[0m\u001B[37m━\u001B[0m \u001B[1m0s\u001B[0m 1ms/step - accuracy: 0.6718 - loss: 0.8755\n",
      "Epoch 20: saving model to pose_detector.keras\n",
      "\u001B[1m879/879\u001B[0m \u001B[32m━━━━━━━━━━━━━━━━━━━━\u001B[0m\u001B[37m\u001B[0m \u001B[1m2s\u001B[0m 2ms/step - accuracy: 0.6719 - loss: 0.8755 - val_accuracy: 0.8556 - val_loss: 0.6417\n",
      "Epoch 21/1000\n",
      "\u001B[1m859/879\u001B[0m \u001B[32m━━━━━━━━━━━━━━━━━━━\u001B[0m\u001B[37m━\u001B[0m \u001B[1m0s\u001B[0m 1ms/step - accuracy: 0.6753 - loss: 0.8685\n",
      "Epoch 21: saving model to pose_detector.keras\n",
      "\u001B[1m879/879\u001B[0m \u001B[32m━━━━━━━━━━━━━━━━━━━━\u001B[0m\u001B[37m\u001B[0m \u001B[1m2s\u001B[0m 2ms/step - accuracy: 0.6753 - loss: 0.8686 - val_accuracy: 0.8480 - val_loss: 0.6488\n",
      "Epoch 22/1000\n",
      "\u001B[1m849/879\u001B[0m \u001B[32m━━━━━━━━━━━━━━━━━━━\u001B[0m\u001B[37m━\u001B[0m \u001B[1m0s\u001B[0m 1ms/step - accuracy: 0.6777 - loss: 0.8718\n",
      "Epoch 22: saving model to pose_detector.keras\n",
      "\u001B[1m879/879\u001B[0m \u001B[32m━━━━━━━━━━━━━━━━━━━━\u001B[0m\u001B[37m\u001B[0m \u001B[1m2s\u001B[0m 2ms/step - accuracy: 0.6777 - loss: 0.8716 - val_accuracy: 0.8423 - val_loss: 0.6623\n",
      "Epoch 23/1000\n",
      "\u001B[1m846/879\u001B[0m \u001B[32m━━━━━━━━━━━━━━━━━━━\u001B[0m\u001B[37m━\u001B[0m \u001B[1m0s\u001B[0m 1ms/step - accuracy: 0.6801 - loss: 0.8610\n",
      "Epoch 23: saving model to pose_detector.keras\n",
      "\u001B[1m879/879\u001B[0m \u001B[32m━━━━━━━━━━━━━━━━━━━━\u001B[0m\u001B[37m\u001B[0m \u001B[1m2s\u001B[0m 2ms/step - accuracy: 0.6801 - loss: 0.8609 - val_accuracy: 0.8491 - val_loss: 0.6339\n",
      "Epoch 24/1000\n",
      "\u001B[1m861/879\u001B[0m \u001B[32m━━━━━━━━━━━━━━━━━━━\u001B[0m\u001B[37m━\u001B[0m \u001B[1m0s\u001B[0m 1ms/step - accuracy: 0.6836 - loss: 0.8575\n",
      "Epoch 24: saving model to pose_detector.keras\n",
      "\u001B[1m879/879\u001B[0m \u001B[32m━━━━━━━━━━━━━━━━━━━━\u001B[0m\u001B[37m\u001B[0m \u001B[1m2s\u001B[0m 2ms/step - accuracy: 0.6835 - loss: 0.8575 - val_accuracy: 0.8421 - val_loss: 0.6453\n",
      "Epoch 25/1000\n",
      "\u001B[1m864/879\u001B[0m \u001B[32m━━━━━━━━━━━━━━━━━━━\u001B[0m\u001B[37m━\u001B[0m \u001B[1m0s\u001B[0m 1ms/step - accuracy: 0.6822 - loss: 0.8528\n",
      "Epoch 25: saving model to pose_detector.keras\n",
      "\u001B[1m879/879\u001B[0m \u001B[32m━━━━━━━━━━━━━━━━━━━━\u001B[0m\u001B[37m\u001B[0m \u001B[1m2s\u001B[0m 2ms/step - accuracy: 0.6822 - loss: 0.8528 - val_accuracy: 0.8445 - val_loss: 0.6482\n",
      "Epoch 26/1000\n",
      "\u001B[1m870/879\u001B[0m \u001B[32m━━━━━━━━━━━━━━━━━━━\u001B[0m\u001B[37m━\u001B[0m \u001B[1m0s\u001B[0m 1ms/step - accuracy: 0.6854 - loss: 0.8467\n",
      "Epoch 26: saving model to pose_detector.keras\n",
      "\u001B[1m879/879\u001B[0m \u001B[32m━━━━━━━━━━━━━━━━━━━━\u001B[0m\u001B[37m\u001B[0m \u001B[1m2s\u001B[0m 2ms/step - accuracy: 0.6854 - loss: 0.8467 - val_accuracy: 0.8456 - val_loss: 0.6322\n",
      "Epoch 27/1000\n",
      "\u001B[1m869/879\u001B[0m \u001B[32m━━━━━━━━━━━━━━━━━━━\u001B[0m\u001B[37m━\u001B[0m \u001B[1m0s\u001B[0m 1ms/step - accuracy: 0.6855 - loss: 0.8452\n",
      "Epoch 27: saving model to pose_detector.keras\n",
      "\u001B[1m879/879\u001B[0m \u001B[32m━━━━━━━━━━━━━━━━━━━━\u001B[0m\u001B[37m\u001B[0m \u001B[1m2s\u001B[0m 2ms/step - accuracy: 0.6855 - loss: 0.8452 - val_accuracy: 0.8394 - val_loss: 0.6368\n",
      "Epoch 28/1000\n",
      "\u001B[1m848/879\u001B[0m \u001B[32m━━━━━━━━━━━━━━━━━━━\u001B[0m\u001B[37m━\u001B[0m \u001B[1m0s\u001B[0m 1ms/step - accuracy: 0.6896 - loss: 0.8429\n",
      "Epoch 28: saving model to pose_detector.keras\n",
      "\u001B[1m879/879\u001B[0m \u001B[32m━━━━━━━━━━━━━━━━━━━━\u001B[0m\u001B[37m\u001B[0m \u001B[1m2s\u001B[0m 2ms/step - accuracy: 0.6896 - loss: 0.8429 - val_accuracy: 0.8320 - val_loss: 0.6474\n",
      "Epoch 29/1000\n",
      "\u001B[1m866/879\u001B[0m \u001B[32m━━━━━━━━━━━━━━━━━━━\u001B[0m\u001B[37m━\u001B[0m \u001B[1m0s\u001B[0m 1ms/step - accuracy: 0.6891 - loss: 0.8392\n",
      "Epoch 29: saving model to pose_detector.keras\n",
      "\u001B[1m879/879\u001B[0m \u001B[32m━━━━━━━━━━━━━━━━━━━━\u001B[0m\u001B[37m\u001B[0m \u001B[1m2s\u001B[0m 2ms/step - accuracy: 0.6891 - loss: 0.8392 - val_accuracy: 0.8413 - val_loss: 0.6314\n",
      "Epoch 30/1000\n",
      "\u001B[1m871/879\u001B[0m \u001B[32m━━━━━━━━━━━━━━━━━━━\u001B[0m\u001B[37m━\u001B[0m \u001B[1m0s\u001B[0m 1ms/step - accuracy: 0.6880 - loss: 0.8358\n",
      "Epoch 30: saving model to pose_detector.keras\n",
      "\u001B[1m879/879\u001B[0m \u001B[32m━━━━━━━━━━━━━━━━━━━━\u001B[0m\u001B[37m\u001B[0m \u001B[1m2s\u001B[0m 2ms/step - accuracy: 0.6880 - loss: 0.8358 - val_accuracy: 0.8492 - val_loss: 0.6073\n",
      "Epoch 31/1000\n",
      "\u001B[1m855/879\u001B[0m \u001B[32m━━━━━━━━━━━━━━━━━━━\u001B[0m\u001B[37m━\u001B[0m \u001B[1m0s\u001B[0m 1ms/step - accuracy: 0.6925 - loss: 0.8336\n",
      "Epoch 31: saving model to pose_detector.keras\n",
      "\u001B[1m879/879\u001B[0m \u001B[32m━━━━━━━━━━━━━━━━━━━━\u001B[0m\u001B[37m\u001B[0m \u001B[1m2s\u001B[0m 2ms/step - accuracy: 0.6925 - loss: 0.8336 - val_accuracy: 0.8320 - val_loss: 0.6435\n",
      "Epoch 32/1000\n",
      "\u001B[1m869/879\u001B[0m \u001B[32m━━━━━━━━━━━━━━━━━━━\u001B[0m\u001B[37m━\u001B[0m \u001B[1m0s\u001B[0m 1ms/step - accuracy: 0.6900 - loss: 0.8345\n",
      "Epoch 32: saving model to pose_detector.keras\n",
      "\u001B[1m879/879\u001B[0m \u001B[32m━━━━━━━━━━━━━━━━━━━━\u001B[0m\u001B[37m\u001B[0m \u001B[1m2s\u001B[0m 2ms/step - accuracy: 0.6900 - loss: 0.8345 - val_accuracy: 0.8164 - val_loss: 0.6394\n",
      "Epoch 33/1000\n",
      "\u001B[1m861/879\u001B[0m \u001B[32m━━━━━━━━━━━━━━━━━━━\u001B[0m\u001B[37m━\u001B[0m \u001B[1m0s\u001B[0m 1ms/step - accuracy: 0.6931 - loss: 0.8277\n",
      "Epoch 33: saving model to pose_detector.keras\n",
      "\u001B[1m879/879\u001B[0m \u001B[32m━━━━━━━━━━━━━━━━━━━━\u001B[0m\u001B[37m\u001B[0m \u001B[1m2s\u001B[0m 2ms/step - accuracy: 0.6931 - loss: 0.8276 - val_accuracy: 0.8393 - val_loss: 0.6161\n",
      "Epoch 33: early stopping\n"
     ]
    },
    {
     "data": {
      "text/plain": [
       "<keras.src.callbacks.history.History at 0x7f5b8461ce20>"
      ]
     },
     "execution_count": 32,
     "metadata": {},
     "output_type": "execute_result"
    }
   ],
   "execution_count": 32
  },
  {
   "metadata": {
    "ExecuteTime": {
     "end_time": "2025-01-12T08:35:58.997940Z",
     "start_time": "2025-01-12T08:35:58.638453Z"
    }
   },
   "cell_type": "code",
   "source": [
    "# Model evaluation\n",
    "val_loss, val_acc = model.evaluate(X_test, y_test, batch_size=128)"
   ],
   "id": "bee66f9c54fd061a",
   "outputs": [
    {
     "name": "stdout",
     "output_type": "stream",
     "text": [
      "\u001B[1m293/293\u001B[0m \u001B[32m━━━━━━━━━━━━━━━━━━━━\u001B[0m\u001B[37m\u001B[0m \u001B[1m0s\u001B[0m 1ms/step - accuracy: 0.8375 - loss: 0.6182  \n"
     ]
    }
   ],
   "execution_count": 33
  },
  {
   "metadata": {
    "ExecuteTime": {
     "end_time": "2025-01-12T08:35:59.081354Z",
     "start_time": "2025-01-12T08:35:59.009408Z"
    }
   },
   "cell_type": "code",
   "source": [
    "# Loading the saved model\n",
    "model = tf.keras.models.load_model(model_save_path)"
   ],
   "id": "c65e310e018d0999",
   "outputs": [],
   "execution_count": 34
  },
  {
   "metadata": {
    "ExecuteTime": {
     "end_time": "2025-01-12T08:35:59.174474Z",
     "start_time": "2025-01-12T08:35:59.090979Z"
    }
   },
   "cell_type": "code",
   "source": [
    "# Inference test\n",
    "predict_result = model.predict(np.array([X_test[0]]))\n",
    "print(np.squeeze(predict_result))\n",
    "print(np.argmax(np.squeeze(predict_result)))"
   ],
   "id": "68cb8d57dd3b99da",
   "outputs": [
    {
     "name": "stdout",
     "output_type": "stream",
     "text": [
      "\u001B[1m1/1\u001B[0m \u001B[32m━━━━━━━━━━━━━━━━━━━━\u001B[0m\u001B[37m\u001B[0m \u001B[1m0s\u001B[0m 48ms/step\n",
      "[1.76177561e-01 6.94321811e-01 1.01823814e-01 1.75039783e-09\n",
      " 3.38230369e-04 2.73385774e-02]\n",
      "1\n"
     ]
    }
   ],
   "execution_count": 35
  },
  {
   "metadata": {},
   "cell_type": "markdown",
   "source": "# Save Model to TFfile",
   "id": "4cc6a7d86e0bda9a"
  },
  {
   "metadata": {
    "ExecuteTime": {
     "end_time": "2025-01-12T08:35:59.337284Z",
     "start_time": "2025-01-12T08:35:59.192797Z"
    }
   },
   "cell_type": "code",
   "source": "model.export(model_save_name)",
   "id": "dc4c80922090aa2e",
   "outputs": [
    {
     "name": "stdout",
     "output_type": "stream",
     "text": [
      "INFO:tensorflow:Assets written to: pose_detector/assets\n"
     ]
    },
    {
     "name": "stderr",
     "output_type": "stream",
     "text": [
      "INFO:tensorflow:Assets written to: pose_detector/assets\n"
     ]
    },
    {
     "name": "stdout",
     "output_type": "stream",
     "text": [
      "Saved artifact at 'pose_detector'. The following endpoints are available:\n",
      "\n",
      "* Endpoint 'serve'\n",
      "  args_0 (POSITIONAL_ONLY): TensorSpec(shape=(None, 9), dtype=tf.float32, name='input_layer_1')\n",
      "Output Type:\n",
      "  TensorSpec(shape=(None, 6), dtype=tf.float32, name=None)\n",
      "Captures:\n",
      "  140031037869568: TensorSpec(shape=(), dtype=tf.resource, name=None)\n",
      "  140032042666112: TensorSpec(shape=(), dtype=tf.resource, name=None)\n",
      "  140031037980736: TensorSpec(shape=(), dtype=tf.resource, name=None)\n",
      "  140031037982320: TensorSpec(shape=(), dtype=tf.resource, name=None)\n",
      "  140031037984784: TensorSpec(shape=(), dtype=tf.resource, name=None)\n",
      "  140031039820496: TensorSpec(shape=(), dtype=tf.resource, name=None)\n"
     ]
    }
   ],
   "execution_count": 36
  },
  {
   "metadata": {
    "ExecuteTime": {
     "end_time": "2025-01-12T08:35:59.691298Z",
     "start_time": "2025-01-12T08:35:59.381195Z"
    }
   },
   "cell_type": "code",
   "source": [
    "converter = tf.lite.TFLiteConverter.from_saved_model(model_save_name)\n",
    "tflite_model = converter.convert()"
   ],
   "id": "e80270ee32ef7ecf",
   "outputs": [
    {
     "name": "stderr",
     "output_type": "stream",
     "text": [
      "W0000 00:00:1736670959.609693   63142 tf_tfl_flatbuffer_helpers.cc:365] Ignored output_format.\n",
      "W0000 00:00:1736670959.609719   63142 tf_tfl_flatbuffer_helpers.cc:368] Ignored drop_control_dependency.\n",
      "2025-01-12 16:35:59.609930: I tensorflow/cc/saved_model/reader.cc:83] Reading SavedModel from: pose_detector\n",
      "2025-01-12 16:35:59.610598: I tensorflow/cc/saved_model/reader.cc:52] Reading meta graph with tags { serve }\n",
      "2025-01-12 16:35:59.610610: I tensorflow/cc/saved_model/reader.cc:147] Reading SavedModel debug info (if present) from: pose_detector\n",
      "2025-01-12 16:35:59.614324: I tensorflow/cc/saved_model/loader.cc:236] Restoring SavedModel bundle.\n",
      "2025-01-12 16:35:59.634303: I tensorflow/cc/saved_model/loader.cc:220] Running initialization op on SavedModel bundle at path: pose_detector\n",
      "2025-01-12 16:35:59.641107: I tensorflow/cc/saved_model/loader.cc:466] SavedModel load for tags { serve }; Status: success: OK. Took 31181 microseconds.\n"
     ]
    }
   ],
   "execution_count": 37
  },
  {
   "metadata": {
    "ExecuteTime": {
     "end_time": "2025-01-12T08:35:59.703539Z",
     "start_time": "2025-01-12T08:35:59.700968Z"
    }
   },
   "cell_type": "code",
   "source": [
    "with open(model_tflite_name, 'wb') as f:\n",
    "    f.write(tflite_model)"
   ],
   "id": "9c02c461eae437d0",
   "outputs": [],
   "execution_count": 38
  },
  {
   "metadata": {},
   "cell_type": "markdown",
   "source": "# Confussion Matrix",
   "id": "c246179bb37dcf1f"
  },
  {
   "metadata": {
    "ExecuteTime": {
     "end_time": "2025-01-12T08:36:00.892260Z",
     "start_time": "2025-01-12T08:35:59.747853Z"
    }
   },
   "cell_type": "code",
   "source": [
    "import pandas as pd\n",
    "import seaborn as sns\n",
    "import matplotlib.pyplot as plt\n",
    "from sklearn.metrics import confusion_matrix, classification_report\n",
    "\n",
    "def print_confusion_matrix(y_true, y_pred, report=True):\n",
    "    labels = sorted(list(set(y_true)))\n",
    "    cmx_data = confusion_matrix(y_true, y_pred, labels=labels)\n",
    "    \n",
    "    df_cmx = pd.DataFrame(cmx_data, index=labels, columns=labels)\n",
    " \n",
    "    fig, ax = plt.subplots(figsize=(7, 6))\n",
    "    sns.heatmap(df_cmx, annot=True, fmt='g' ,square=False)\n",
    "    ax.set_ylim(len(set(y_true)), 0)\n",
    "    plt.show()\n",
    "    \n",
    "    if report:\n",
    "        print('Classification Report')\n",
    "        print(classification_report(y_test, y_pred))\n",
    "\n",
    "Y_pred = model.predict(X_test)\n",
    "y_pred = np.argmax(Y_pred, axis=1)\n",
    "\n",
    "print_confusion_matrix(y_test, y_pred)"
   ],
   "id": "8d4700bbdcfe605e",
   "outputs": [
    {
     "name": "stdout",
     "output_type": "stream",
     "text": [
      "\u001B[1m1171/1171\u001B[0m \u001B[32m━━━━━━━━━━━━━━━━━━━━\u001B[0m\u001B[37m\u001B[0m \u001B[1m1s\u001B[0m 522us/step\n"
     ]
    },
    {
     "data": {
      "text/plain": [
       "<Figure size 700x600 with 2 Axes>"
      ],
      "image/png": "[encoded data removed]"
     },
     "metadata": {},
     "output_type": "display_data"
    },
    {
     "name": "stdout",
     "output_type": "stream",
     "text": [
      "Classification Report\n",
      "              precision    recall  f1-score   support\n",
      "\n",
      "           0       0.82      0.90      0.86      6043\n",
      "           1       0.80      0.86      0.83      6317\n",
      "           2       0.83      0.56      0.67      6216\n",
      "           3       1.00      0.94      0.97      6292\n",
      "           4       0.75      0.94      0.84      6343\n",
      "           5       0.87      0.82      0.85      6253\n",
      "\n",
      "    accuracy                           0.84     37464\n",
      "   macro avg       0.85      0.84      0.84     37464\n",
      "weighted avg       0.85      0.84      0.84     37464\n",
      "\n"
     ]
    }
   ],
   "execution_count": 39
  },
  {
   "metadata": {},
   "cell_type": "code",
   "outputs": [],
   "execution_count": null,
   "source": "",
   "id": "cd4e6367018f3b0a"
  }
 ],
 "metadata": {
  "kernelspec": {
   "display_name": "Python 3",
   "language": "python",
   "name": "python3"
  },
  "language_info": {
   "codemirror_mode": {
    "name": "ipython",
    "version": 2
   },
   "file_extension": ".py",
   "mimetype": "text/x-python",
   "name": "python",
   "nbconvert_exporter": "python",
   "pygments_lexer": "ipython2",
   "version": "2.7.6"
  }
 },
 "nbformat": 4,
 "nbformat_minor": 5
}
