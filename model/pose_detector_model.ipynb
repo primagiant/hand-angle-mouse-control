{
 "cells": [
  {
   "cell_type": "code",
   "execution_count": 38,
   "id": "initial_id",
   "metadata": {
    "ExecuteTime": {
     "end_time": "2025-01-12T08:34:58.056369Z",
     "start_time": "2025-01-12T08:34:58.052944Z"
    },
    "collapsed": true
   },
   "outputs": [],
   "source": [
    "import numpy as np\n",
    "import tensorflow as tf\n",
    "from sklearn.model_selection import train_test_split\n",
    "\n",
    "RANDOM_SEED = 42"
   ]
  },
  {
   "cell_type": "code",
   "execution_count": 39,
   "id": "81ecd7773e8b1b1c",
   "metadata": {
    "ExecuteTime": {
     "end_time": "2025-01-12T08:34:59.794067Z",
     "start_time": "2025-01-12T08:34:59.791061Z"
    }
   },
   "outputs": [],
   "source": [
    "dataset = 'dataset.csv'\n",
    "model_save_path = 'pose_detector.keras'\n",
    "model_save_name = 'pose_detector'\n",
    "model_tflite_name = 'pose_detector.tflite'"
   ]
  },
  {
   "cell_type": "code",
   "execution_count": 40,
   "id": "e69571db85feea87",
   "metadata": {
    "ExecuteTime": {
     "end_time": "2025-01-12T08:35:02.330514Z",
     "start_time": "2025-01-12T08:35:02.327777Z"
    }
   },
   "outputs": [],
   "source": [
    "NUM_CLASSES = 6"
   ]
  },
  {
   "cell_type": "code",
   "execution_count": 41,
   "id": "ba2e60d8aaea8676",
   "metadata": {
    "ExecuteTime": {
     "end_time": "2025-01-12T08:35:02.744749Z",
     "start_time": "2025-01-12T08:35:02.676325Z"
    }
   },
   "outputs": [],
   "source": [
    "X_dataset = np.loadtxt(dataset, delimiter=',', dtype='float32', usecols=list(range(2, 10 + 1)))"
   ]
  },
  {
   "cell_type": "code",
   "execution_count": 42,
   "id": "db3200ee0876a45b",
   "metadata": {
    "ExecuteTime": {
     "end_time": "2025-01-12T08:35:03.126370Z",
     "start_time": "2025-01-12T08:35:03.103107Z"
    }
   },
   "outputs": [],
   "source": [
    "y_dataset = np.loadtxt(dataset, delimiter=',', dtype='int32', usecols=(0))"
   ]
  },
  {
   "cell_type": "code",
   "execution_count": 43,
   "id": "3a82246ef97fae35",
   "metadata": {
    "ExecuteTime": {
     "end_time": "2025-01-12T08:35:03.442912Z",
     "start_time": "2025-01-12T08:35:03.440037Z"
    }
   },
   "outputs": [],
   "source": [
    "# y_dataset = y_dataset - 1"
   ]
  },
  {
   "cell_type": "code",
   "execution_count": 44,
   "id": "c59381c52ebe6d0b",
   "metadata": {
    "ExecuteTime": {
     "end_time": "2025-01-12T08:35:03.691362Z",
     "start_time": "2025-01-12T08:35:03.667698Z"
    }
   },
   "outputs": [],
   "source": [
    "X_train, X_test, y_train, y_test = train_test_split(X_dataset, y_dataset, train_size=0.80, random_state=RANDOM_SEED)"
   ]
  },
  {
   "cell_type": "markdown",
   "id": "1478cdb5565259bc",
   "metadata": {},
   "source": [
    "# Model building"
   ]
  },
  {
   "cell_type": "code",
   "execution_count": 45,
   "id": "8611be63bb0dd298",
   "metadata": {
    "ExecuteTime": {
     "end_time": "2025-01-12T08:35:04.274506Z",
     "start_time": "2025-01-12T08:35:04.244417Z"
    }
   },
   "outputs": [],
   "source": [
    "model = tf.keras.models.Sequential([\n",
    "    tf.keras.layers.Input((9, )),\n",
    "    tf.keras.layers.Dropout(0.2),\n",
    "    tf.keras.layers.Dense(20, activation='relu'),\n",
    "    tf.keras.layers.Dropout(0.4),\n",
    "    tf.keras.layers.Dense(10, activation='relu'),\n",
    "    tf.keras.layers.Dense(NUM_CLASSES, activation='softmax')\n",
    "])"
   ]
  },
  {
   "cell_type": "code",
   "execution_count": 46,
   "id": "5e296d1fdc34bc63",
   "metadata": {
    "ExecuteTime": {
     "end_time": "2025-01-12T08:35:04.412866Z",
     "start_time": "2025-01-12T08:35:04.399175Z"
    }
   },
   "outputs": [
    {
     "data": {
      "text/html": [
       "<pre style=\"white-space:pre;overflow-x:auto;line-height:normal;font-family:Menlo,'DejaVu Sans Mono',consolas,'Courier New',monospace\"><span style=\"font-weight: bold\">Model: \"sequential_2\"</span>\n",
       "</pre>\n"
      ],
      "text/plain": [
       "\u001b[1mModel: \"sequential_2\"\u001b[0m\n"
      ]
     },
     "metadata": {},
     "output_type": "display_data"
    },
    {
     "data": {
      "text/html": [
       "<pre style=\"white-space:pre;overflow-x:auto;line-height:normal;font-family:Menlo,'DejaVu Sans Mono',consolas,'Courier New',monospace\">┏━━━━━━━━━━━━━━━━━━━━━━━━━━━━━━━━━┳━━━━━━━━━━━━━━━━━━━━━━━━┳━━━━━━━━━━━━━━━┓\n",
       "┃<span style=\"font-weight: bold\"> Layer (type)                    </span>┃<span style=\"font-weight: bold\"> Output Shape           </span>┃<span style=\"font-weight: bold\">       Param # </span>┃\n",
       "┡━━━━━━━━━━━━━━━━━━━━━━━━━━━━━━━━━╇━━━━━━━━━━━━━━━━━━━━━━━━╇━━━━━━━━━━━━━━━┩\n",
       "│ dropout_4 (<span style=\"color: #0087ff; text-decoration-color: #0087ff\">Dropout</span>)             │ (<span style=\"color: #00d7ff; text-decoration-color: #00d7ff\">None</span>, <span style=\"color: #00af00; text-decoration-color: #00af00\">9</span>)              │             <span style=\"color: #00af00; text-decoration-color: #00af00\">0</span> │\n",
       "├─────────────────────────────────┼────────────────────────┼───────────────┤\n",
       "│ dense_6 (<span style=\"color: #0087ff; text-decoration-color: #0087ff\">Dense</span>)                 │ (<span style=\"color: #00d7ff; text-decoration-color: #00d7ff\">None</span>, <span style=\"color: #00af00; text-decoration-color: #00af00\">20</span>)             │           <span style=\"color: #00af00; text-decoration-color: #00af00\">200</span> │\n",
       "├─────────────────────────────────┼────────────────────────┼───────────────┤\n",
       "│ dropout_5 (<span style=\"color: #0087ff; text-decoration-color: #0087ff\">Dropout</span>)             │ (<span style=\"color: #00d7ff; text-decoration-color: #00d7ff\">None</span>, <span style=\"color: #00af00; text-decoration-color: #00af00\">20</span>)             │             <span style=\"color: #00af00; text-decoration-color: #00af00\">0</span> │\n",
       "├─────────────────────────────────┼────────────────────────┼───────────────┤\n",
       "│ dense_7 (<span style=\"color: #0087ff; text-decoration-color: #0087ff\">Dense</span>)                 │ (<span style=\"color: #00d7ff; text-decoration-color: #00d7ff\">None</span>, <span style=\"color: #00af00; text-decoration-color: #00af00\">10</span>)             │           <span style=\"color: #00af00; text-decoration-color: #00af00\">210</span> │\n",
       "├─────────────────────────────────┼────────────────────────┼───────────────┤\n",
       "│ dense_8 (<span style=\"color: #0087ff; text-decoration-color: #0087ff\">Dense</span>)                 │ (<span style=\"color: #00d7ff; text-decoration-color: #00d7ff\">None</span>, <span style=\"color: #00af00; text-decoration-color: #00af00\">6</span>)              │            <span style=\"color: #00af00; text-decoration-color: #00af00\">66</span> │\n",
       "└─────────────────────────────────┴────────────────────────┴───────────────┘\n",
       "</pre>\n"
      ],
      "text/plain": [
       "┏━━━━━━━━━━━━━━━━━━━━━━━━━━━━━━━━━┳━━━━━━━━━━━━━━━━━━━━━━━━┳━━━━━━━━━━━━━━━┓\n",
       "┃\u001b[1m \u001b[0m\u001b[1mLayer (type)                   \u001b[0m\u001b[1m \u001b[0m┃\u001b[1m \u001b[0m\u001b[1mOutput Shape          \u001b[0m\u001b[1m \u001b[0m┃\u001b[1m \u001b[0m\u001b[1m      Param #\u001b[0m\u001b[1m \u001b[0m┃\n",
       "┡━━━━━━━━━━━━━━━━━━━━━━━━━━━━━━━━━╇━━━━━━━━━━━━━━━━━━━━━━━━╇━━━━━━━━━━━━━━━┩\n",
       "│ dropout_4 (\u001b[38;5;33mDropout\u001b[0m)             │ (\u001b[38;5;45mNone\u001b[0m, \u001b[38;5;34m9\u001b[0m)              │             \u001b[38;5;34m0\u001b[0m │\n",
       "├─────────────────────────────────┼────────────────────────┼───────────────┤\n",
       "│ dense_6 (\u001b[38;5;33mDense\u001b[0m)                 │ (\u001b[38;5;45mNone\u001b[0m, \u001b[38;5;34m20\u001b[0m)             │           \u001b[38;5;34m200\u001b[0m │\n",
       "├─────────────────────────────────┼────────────────────────┼───────────────┤\n",
       "│ dropout_5 (\u001b[38;5;33mDropout\u001b[0m)             │ (\u001b[38;5;45mNone\u001b[0m, \u001b[38;5;34m20\u001b[0m)             │             \u001b[38;5;34m0\u001b[0m │\n",
       "├─────────────────────────────────┼────────────────────────┼───────────────┤\n",
       "│ dense_7 (\u001b[38;5;33mDense\u001b[0m)                 │ (\u001b[38;5;45mNone\u001b[0m, \u001b[38;5;34m10\u001b[0m)             │           \u001b[38;5;34m210\u001b[0m │\n",
       "├─────────────────────────────────┼────────────────────────┼───────────────┤\n",
       "│ dense_8 (\u001b[38;5;33mDense\u001b[0m)                 │ (\u001b[38;5;45mNone\u001b[0m, \u001b[38;5;34m6\u001b[0m)              │            \u001b[38;5;34m66\u001b[0m │\n",
       "└─────────────────────────────────┴────────────────────────┴───────────────┘\n"
      ]
     },
     "metadata": {},
     "output_type": "display_data"
    },
    {
     "data": {
      "text/html": [
       "<pre style=\"white-space:pre;overflow-x:auto;line-height:normal;font-family:Menlo,'DejaVu Sans Mono',consolas,'Courier New',monospace\"><span style=\"font-weight: bold\"> Total params: </span><span style=\"color: #00af00; text-decoration-color: #00af00\">476</span> (1.86 KB)\n",
       "</pre>\n"
      ],
      "text/plain": [
       "\u001b[1m Total params: \u001b[0m\u001b[38;5;34m476\u001b[0m (1.86 KB)\n"
      ]
     },
     "metadata": {},
     "output_type": "display_data"
    },
    {
     "data": {
      "text/html": [
       "<pre style=\"white-space:pre;overflow-x:auto;line-height:normal;font-family:Menlo,'DejaVu Sans Mono',consolas,'Courier New',monospace\"><span style=\"font-weight: bold\"> Trainable params: </span><span style=\"color: #00af00; text-decoration-color: #00af00\">476</span> (1.86 KB)\n",
       "</pre>\n"
      ],
      "text/plain": [
       "\u001b[1m Trainable params: \u001b[0m\u001b[38;5;34m476\u001b[0m (1.86 KB)\n"
      ]
     },
     "metadata": {},
     "output_type": "display_data"
    },
    {
     "data": {
      "text/html": [
       "<pre style=\"white-space:pre;overflow-x:auto;line-height:normal;font-family:Menlo,'DejaVu Sans Mono',consolas,'Courier New',monospace\"><span style=\"font-weight: bold\"> Non-trainable params: </span><span style=\"color: #00af00; text-decoration-color: #00af00\">0</span> (0.00 B)\n",
       "</pre>\n"
      ],
      "text/plain": [
       "\u001b[1m Non-trainable params: \u001b[0m\u001b[38;5;34m0\u001b[0m (0.00 B)\n"
      ]
     },
     "metadata": {},
     "output_type": "display_data"
    }
   ],
   "source": [
    "model.summary()  # tf.keras.utils.plot_model(model, show_shapes=True)"
   ]
  },
  {
   "cell_type": "code",
   "execution_count": 47,
   "id": "fd303061c176e14",
   "metadata": {
    "ExecuteTime": {
     "end_time": "2025-01-12T08:35:04.582533Z",
     "start_time": "2025-01-12T08:35:04.578952Z"
    }
   },
   "outputs": [],
   "source": [
    "# Model checkpoint callback\n",
    "# path_model = os.path.dirname(model_save_path)\n",
    "cp_callback = tf.keras.callbacks.ModelCheckpoint(\n",
    "    filepath=model_save_path, verbose=1, save_weights_only=False\n",
    ")\n",
    "# Callback for early stopping\n",
    "es_callback = tf.keras.callbacks.EarlyStopping(patience=100, verbose=1)"
   ]
  },
  {
   "cell_type": "code",
   "execution_count": 48,
   "id": "186ec0ffe55e4c27",
   "metadata": {
    "ExecuteTime": {
     "end_time": "2025-01-12T08:35:04.784606Z",
     "start_time": "2025-01-12T08:35:04.776590Z"
    }
   },
   "outputs": [],
   "source": [
    "# Model compilation\n",
    "model.compile(\n",
    "    optimizer='adam',\n",
    "    loss='sparse_categorical_crossentropy',\n",
    "    metrics=['accuracy']\n",
    ")"
   ]
  },
  {
   "cell_type": "markdown",
   "id": "39518e52dc7ed76f",
   "metadata": {},
   "source": [
    "# Model training"
   ]
  },
  {
   "cell_type": "code",
   "execution_count": 49,
   "id": "bac1c343f72caac2",
   "metadata": {
    "ExecuteTime": {
     "end_time": "2025-01-12T08:35:58.617921Z",
     "start_time": "2025-01-12T08:35:05.179608Z"
    }
   },
   "outputs": [
    {
     "name": "stdout",
     "output_type": "stream",
     "text": [
      "Epoch 1/1000\n",
      "\u001b[1m917/937\u001b[0m \u001b[32m━━━━━━━━━━━━━━━━━━━\u001b[0m\u001b[37m━\u001b[0m \u001b[1m0s\u001b[0m 1ms/step - accuracy: 0.2921 - loss: 3.4096\n",
      "Epoch 1: saving model to pose_detector.keras\n",
      "\u001b[1m937/937\u001b[0m \u001b[32m━━━━━━━━━━━━━━━━━━━━\u001b[0m\u001b[37m\u001b[0m \u001b[1m2s\u001b[0m 2ms/step - accuracy: 0.2937 - loss: 3.3796 - val_accuracy: 0.6783 - val_loss: 1.0812\n",
      "Epoch 2/1000\n",
      "\u001b[1m921/937\u001b[0m \u001b[32m━━━━━━━━━━━━━━━━━━━\u001b[0m\u001b[37m━\u001b[0m \u001b[1m0s\u001b[0m 1ms/step - accuracy: 0.5029 - loss: 1.2797\n",
      "Epoch 2: saving model to pose_detector.keras\n",
      "\u001b[1m937/937\u001b[0m \u001b[32m━━━━━━━━━━━━━━━━━━━━\u001b[0m\u001b[37m\u001b[0m \u001b[1m2s\u001b[0m 2ms/step - accuracy: 0.5033 - loss: 1.2788 - val_accuracy: 0.7926 - val_loss: 0.8598\n",
      "Epoch 3/1000\n",
      "\u001b[1m933/937\u001b[0m \u001b[32m━━━━━━━━━━━━━━━━━━━\u001b[0m\u001b[37m━\u001b[0m \u001b[1m0s\u001b[0m 1ms/step - accuracy: 0.5598 - loss: 1.1325\n",
      "Epoch 3: saving model to pose_detector.keras\n",
      "\u001b[1m937/937\u001b[0m \u001b[32m━━━━━━━━━━━━━━━━━━━━\u001b[0m\u001b[37m\u001b[0m \u001b[1m2s\u001b[0m 2ms/step - accuracy: 0.5599 - loss: 1.1324 - val_accuracy: 0.7895 - val_loss: 0.8247\n",
      "Epoch 4/1000\n",
      "\u001b[1m931/937\u001b[0m \u001b[32m━━━━━━━━━━━━━━━━━━━\u001b[0m\u001b[37m━\u001b[0m \u001b[1m0s\u001b[0m 1ms/step - accuracy: 0.5855 - loss: 1.0725\n",
      "Epoch 4: saving model to pose_detector.keras\n",
      "\u001b[1m937/937\u001b[0m \u001b[32m━━━━━━━━━━━━━━━━━━━━\u001b[0m\u001b[37m\u001b[0m \u001b[1m2s\u001b[0m 2ms/step - accuracy: 0.5855 - loss: 1.0724 - val_accuracy: 0.7934 - val_loss: 0.7628\n",
      "Epoch 5/1000\n",
      "\u001b[1m903/937\u001b[0m \u001b[32m━━━━━━━━━━━━━━━━━━━\u001b[0m\u001b[37m━\u001b[0m \u001b[1m0s\u001b[0m 1ms/step - accuracy: 0.6083 - loss: 1.0241\n",
      "Epoch 5: saving model to pose_detector.keras\n",
      "\u001b[1m937/937\u001b[0m \u001b[32m━━━━━━━━━━━━━━━━━━━━\u001b[0m\u001b[37m\u001b[0m \u001b[1m2s\u001b[0m 2ms/step - accuracy: 0.6084 - loss: 1.0240 - val_accuracy: 0.8092 - val_loss: 0.7436\n",
      "Epoch 6/1000\n",
      "\u001b[1m932/937\u001b[0m \u001b[32m━━━━━━━━━━━━━━━━━━━\u001b[0m\u001b[37m━\u001b[0m \u001b[1m0s\u001b[0m 1ms/step - accuracy: 0.6241 - loss: 0.9989\n",
      "Epoch 6: saving model to pose_detector.keras\n",
      "\u001b[1m937/937\u001b[0m \u001b[32m━━━━━━━━━━━━━━━━━━━━\u001b[0m\u001b[37m\u001b[0m \u001b[1m2s\u001b[0m 2ms/step - accuracy: 0.6242 - loss: 0.9988 - val_accuracy: 0.8224 - val_loss: 0.7149\n",
      "Epoch 7/1000\n",
      "\u001b[1m921/937\u001b[0m \u001b[32m━━━━━━━━━━━━━━━━━━━\u001b[0m\u001b[37m━\u001b[0m \u001b[1m0s\u001b[0m 1ms/step - accuracy: 0.6345 - loss: 0.9687\n",
      "Epoch 7: saving model to pose_detector.keras\n",
      "\u001b[1m937/937\u001b[0m \u001b[32m━━━━━━━━━━━━━━━━━━━━\u001b[0m\u001b[37m\u001b[0m \u001b[1m2s\u001b[0m 2ms/step - accuracy: 0.6346 - loss: 0.9685 - val_accuracy: 0.8250 - val_loss: 0.7332\n",
      "Epoch 8/1000\n",
      "\u001b[1m909/937\u001b[0m \u001b[32m━━━━━━━━━━━━━━━━━━━\u001b[0m\u001b[37m━\u001b[0m \u001b[1m0s\u001b[0m 1ms/step - accuracy: 0.6429 - loss: 0.9429\n",
      "Epoch 8: saving model to pose_detector.keras\n",
      "\u001b[1m937/937\u001b[0m \u001b[32m━━━━━━━━━━━━━━━━━━━━\u001b[0m\u001b[37m\u001b[0m \u001b[1m2s\u001b[0m 2ms/step - accuracy: 0.6430 - loss: 0.9427 - val_accuracy: 0.8325 - val_loss: 0.7042\n",
      "Epoch 9/1000\n",
      "\u001b[1m908/937\u001b[0m \u001b[32m━━━━━━━━━━━━━━━━━━━\u001b[0m\u001b[37m━\u001b[0m \u001b[1m0s\u001b[0m 1ms/step - accuracy: 0.6489 - loss: 0.9286\n",
      "Epoch 9: saving model to pose_detector.keras\n",
      "\u001b[1m937/937\u001b[0m \u001b[32m━━━━━━━━━━━━━━━━━━━━\u001b[0m\u001b[37m\u001b[0m \u001b[1m2s\u001b[0m 2ms/step - accuracy: 0.6490 - loss: 0.9286 - val_accuracy: 0.8233 - val_loss: 0.7152\n",
      "Epoch 10/1000\n",
      "\u001b[1m909/937\u001b[0m \u001b[32m━━━━━━━━━━━━━━━━━━━\u001b[0m\u001b[37m━\u001b[0m \u001b[1m0s\u001b[0m 1ms/step - accuracy: 0.6537 - loss: 0.9159\n",
      "Epoch 10: saving model to pose_detector.keras\n",
      "\u001b[1m937/937\u001b[0m \u001b[32m━━━━━━━━━━━━━━━━━━━━\u001b[0m\u001b[37m\u001b[0m \u001b[1m2s\u001b[0m 2ms/step - accuracy: 0.6538 - loss: 0.9156 - val_accuracy: 0.8296 - val_loss: 0.7296\n",
      "Epoch 11/1000\n",
      "\u001b[1m932/937\u001b[0m \u001b[32m━━━━━━━━━━━━━━━━━━━\u001b[0m\u001b[37m━\u001b[0m \u001b[1m0s\u001b[0m 1ms/step - accuracy: 0.6634 - loss: 0.8990\n",
      "Epoch 11: saving model to pose_detector.keras\n",
      "\u001b[1m937/937\u001b[0m \u001b[32m━━━━━━━━━━━━━━━━━━━━\u001b[0m\u001b[37m\u001b[0m \u001b[1m2s\u001b[0m 2ms/step - accuracy: 0.6634 - loss: 0.8990 - val_accuracy: 0.8127 - val_loss: 0.7225\n",
      "Epoch 12/1000\n",
      "\u001b[1m920/937\u001b[0m \u001b[32m━━━━━━━━━━━━━━━━━━━\u001b[0m\u001b[37m━\u001b[0m \u001b[1m0s\u001b[0m 1ms/step - accuracy: 0.6693 - loss: 0.8821\n",
      "Epoch 12: saving model to pose_detector.keras\n",
      "\u001b[1m937/937\u001b[0m \u001b[32m━━━━━━━━━━━━━━━━━━━━\u001b[0m\u001b[37m\u001b[0m \u001b[1m2s\u001b[0m 2ms/step - accuracy: 0.6693 - loss: 0.8821 - val_accuracy: 0.8047 - val_loss: 0.7206\n",
      "Epoch 13/1000\n",
      "\u001b[1m922/937\u001b[0m \u001b[32m━━━━━━━━━━━━━━━━━━━\u001b[0m\u001b[37m━\u001b[0m \u001b[1m0s\u001b[0m 1ms/step - accuracy: 0.6747 - loss: 0.8722\n",
      "Epoch 13: saving model to pose_detector.keras\n",
      "\u001b[1m937/937\u001b[0m \u001b[32m━━━━━━━━━━━━━━━━━━━━\u001b[0m\u001b[37m\u001b[0m \u001b[1m2s\u001b[0m 2ms/step - accuracy: 0.6746 - loss: 0.8722 - val_accuracy: 0.8120 - val_loss: 0.7424\n",
      "Epoch 14/1000\n",
      "\u001b[1m904/937\u001b[0m \u001b[32m━━━━━━━━━━━━━━━━━━━\u001b[0m\u001b[37m━\u001b[0m \u001b[1m0s\u001b[0m 1ms/step - accuracy: 0.6788 - loss: 0.8583\n",
      "Epoch 14: saving model to pose_detector.keras\n",
      "\u001b[1m937/937\u001b[0m \u001b[32m━━━━━━━━━━━━━━━━━━━━\u001b[0m\u001b[37m\u001b[0m \u001b[1m2s\u001b[0m 2ms/step - accuracy: 0.6789 - loss: 0.8583 - val_accuracy: 0.8162 - val_loss: 0.6934\n",
      "Epoch 15/1000\n",
      "\u001b[1m910/937\u001b[0m \u001b[32m━━━━━━━━━━━━━━━━━━━\u001b[0m\u001b[37m━\u001b[0m \u001b[1m0s\u001b[0m 1ms/step - accuracy: 0.6781 - loss: 0.8530\n",
      "Epoch 15: saving model to pose_detector.keras\n",
      "\u001b[1m937/937\u001b[0m \u001b[32m━━━━━━━━━━━━━━━━━━━━\u001b[0m\u001b[37m\u001b[0m \u001b[1m2s\u001b[0m 2ms/step - accuracy: 0.6781 - loss: 0.8530 - val_accuracy: 0.7832 - val_loss: 0.7459\n",
      "Epoch 16/1000\n",
      "\u001b[1m919/937\u001b[0m \u001b[32m━━━━━━━━━━━━━━━━━━━\u001b[0m\u001b[37m━\u001b[0m \u001b[1m0s\u001b[0m 1ms/step - accuracy: 0.6822 - loss: 0.8491\n",
      "Epoch 16: saving model to pose_detector.keras\n",
      "\u001b[1m937/937\u001b[0m \u001b[32m━━━━━━━━━━━━━━━━━━━━\u001b[0m\u001b[37m\u001b[0m \u001b[1m2s\u001b[0m 2ms/step - accuracy: 0.6822 - loss: 0.8490 - val_accuracy: 0.8032 - val_loss: 0.6964\n",
      "Epoch 17/1000\n",
      "\u001b[1m911/937\u001b[0m \u001b[32m━━━━━━━━━━━━━━━━━━━\u001b[0m\u001b[37m━\u001b[0m \u001b[1m0s\u001b[0m 1ms/step - accuracy: 0.6837 - loss: 0.8463\n",
      "Epoch 17: saving model to pose_detector.keras\n",
      "\u001b[1m937/937\u001b[0m \u001b[32m━━━━━━━━━━━━━━━━━━━━\u001b[0m\u001b[37m\u001b[0m \u001b[1m2s\u001b[0m 2ms/step - accuracy: 0.6837 - loss: 0.8463 - val_accuracy: 0.7910 - val_loss: 0.7216\n",
      "Epoch 18/1000\n",
      "\u001b[1m919/937\u001b[0m \u001b[32m━━━━━━━━━━━━━━━━━━━\u001b[0m\u001b[37m━\u001b[0m \u001b[1m0s\u001b[0m 1ms/step - accuracy: 0.6870 - loss: 0.8389\n",
      "Epoch 18: saving model to pose_detector.keras\n",
      "\u001b[1m937/937\u001b[0m \u001b[32m━━━━━━━━━━━━━━━━━━━━\u001b[0m\u001b[37m\u001b[0m \u001b[1m2s\u001b[0m 2ms/step - accuracy: 0.6870 - loss: 0.8390 - val_accuracy: 0.7850 - val_loss: 0.7877\n",
      "Epoch 19/1000\n",
      "\u001b[1m916/937\u001b[0m \u001b[32m━━━━━━━━━━━━━━━━━━━\u001b[0m\u001b[37m━\u001b[0m \u001b[1m0s\u001b[0m 1ms/step - accuracy: 0.6858 - loss: 0.8330\n",
      "Epoch 19: saving model to pose_detector.keras\n",
      "\u001b[1m937/937\u001b[0m \u001b[32m━━━━━━━━━━━━━━━━━━━━\u001b[0m\u001b[37m\u001b[0m \u001b[1m2s\u001b[0m 2ms/step - accuracy: 0.6858 - loss: 0.8331 - val_accuracy: 0.8078 - val_loss: 0.7013\n",
      "Epoch 20/1000\n",
      "\u001b[1m937/937\u001b[0m \u001b[32m━━━━━━━━━━━━━━━━━━━━\u001b[0m\u001b[37m\u001b[0m \u001b[1m0s\u001b[0m 1ms/step - accuracy: 0.6872 - loss: 0.8320\n",
      "Epoch 20: saving model to pose_detector.keras\n",
      "\u001b[1m937/937\u001b[0m \u001b[32m━━━━━━━━━━━━━━━━━━━━\u001b[0m\u001b[37m\u001b[0m \u001b[1m2s\u001b[0m 2ms/step - accuracy: 0.6872 - loss: 0.8320 - val_accuracy: 0.8116 - val_loss: 0.6966\n",
      "Epoch 21/1000\n",
      "\u001b[1m928/937\u001b[0m \u001b[32m━━━━━━━━━━━━━━━━━━━\u001b[0m\u001b[37m━\u001b[0m \u001b[1m0s\u001b[0m 1ms/step - accuracy: 0.6922 - loss: 0.8234\n",
      "Epoch 21: saving model to pose_detector.keras\n",
      "\u001b[1m937/937\u001b[0m \u001b[32m━━━━━━━━━━━━━━━━━━━━\u001b[0m\u001b[37m\u001b[0m \u001b[1m2s\u001b[0m 2ms/step - accuracy: 0.6922 - loss: 0.8235 - val_accuracy: 0.8092 - val_loss: 0.6914\n",
      "Epoch 22/1000\n",
      "\u001b[1m927/937\u001b[0m \u001b[32m━━━━━━━━━━━━━━━━━━━\u001b[0m\u001b[37m━\u001b[0m \u001b[1m0s\u001b[0m 1ms/step - accuracy: 0.6900 - loss: 0.8295\n",
      "Epoch 22: saving model to pose_detector.keras\n",
      "\u001b[1m937/937\u001b[0m \u001b[32m━━━━━━━━━━━━━━━━━━━━\u001b[0m\u001b[37m\u001b[0m \u001b[1m2s\u001b[0m 2ms/step - accuracy: 0.6900 - loss: 0.8294 - val_accuracy: 0.7836 - val_loss: 0.7077\n",
      "Epoch 23/1000\n",
      "\u001b[1m936/937\u001b[0m \u001b[32m━━━━━━━━━━━━━━━━━━━\u001b[0m\u001b[37m━\u001b[0m \u001b[1m0s\u001b[0m 1ms/step - accuracy: 0.6914 - loss: 0.8246\n",
      "Epoch 23: saving model to pose_detector.keras\n",
      "\u001b[1m937/937\u001b[0m \u001b[32m━━━━━━━━━━━━━━━━━━━━\u001b[0m\u001b[37m\u001b[0m \u001b[1m2s\u001b[0m 2ms/step - accuracy: 0.6914 - loss: 0.8246 - val_accuracy: 0.7928 - val_loss: 0.7163\n",
      "Epoch 24/1000\n",
      "\u001b[1m920/937\u001b[0m \u001b[32m━━━━━━━━━━━━━━━━━━━\u001b[0m\u001b[37m━\u001b[0m \u001b[1m0s\u001b[0m 1ms/step - accuracy: 0.6883 - loss: 0.8263\n",
      "Epoch 24: saving model to pose_detector.keras\n",
      "\u001b[1m937/937\u001b[0m \u001b[32m━━━━━━━━━━━━━━━━━━━━\u001b[0m\u001b[37m\u001b[0m \u001b[1m2s\u001b[0m 2ms/step - accuracy: 0.6883 - loss: 0.8263 - val_accuracy: 0.7895 - val_loss: 0.7372\n",
      "Epoch 25/1000\n",
      "\u001b[1m903/937\u001b[0m \u001b[32m━━━━━━━━━━━━━━━━━━━\u001b[0m\u001b[37m━\u001b[0m \u001b[1m0s\u001b[0m 1ms/step - accuracy: 0.6917 - loss: 0.8183\n",
      "Epoch 25: saving model to pose_detector.keras\n",
      "\u001b[1m937/937\u001b[0m \u001b[32m━━━━━━━━━━━━━━━━━━━━\u001b[0m\u001b[37m\u001b[0m \u001b[1m2s\u001b[0m 2ms/step - accuracy: 0.6917 - loss: 0.8182 - val_accuracy: 0.7904 - val_loss: 0.6905\n",
      "Epoch 26/1000\n",
      "\u001b[1m917/937\u001b[0m \u001b[32m━━━━━━━━━━━━━━━━━━━\u001b[0m\u001b[37m━\u001b[0m \u001b[1m0s\u001b[0m 1ms/step - accuracy: 0.6934 - loss: 0.8191\n",
      "Epoch 26: saving model to pose_detector.keras\n",
      "\u001b[1m937/937\u001b[0m \u001b[32m━━━━━━━━━━━━━━━━━━━━\u001b[0m\u001b[37m\u001b[0m \u001b[1m2s\u001b[0m 2ms/step - accuracy: 0.6934 - loss: 0.8191 - val_accuracy: 0.7978 - val_loss: 0.6834\n",
      "Epoch 27/1000\n",
      "\u001b[1m925/937\u001b[0m \u001b[32m━━━━━━━━━━━━━━━━━━━\u001b[0m\u001b[37m━\u001b[0m \u001b[1m0s\u001b[0m 1ms/step - accuracy: 0.6904 - loss: 0.8195\n",
      "Epoch 27: saving model to pose_detector.keras\n",
      "\u001b[1m937/937\u001b[0m \u001b[32m━━━━━━━━━━━━━━━━━━━━\u001b[0m\u001b[37m\u001b[0m \u001b[1m2s\u001b[0m 2ms/step - accuracy: 0.6905 - loss: 0.8195 - val_accuracy: 0.7666 - val_loss: 0.7531\n",
      "Epoch 28/1000\n",
      "\u001b[1m911/937\u001b[0m \u001b[32m━━━━━━━━━━━━━━━━━━━\u001b[0m\u001b[37m━\u001b[0m \u001b[1m0s\u001b[0m 1ms/step - accuracy: 0.6936 - loss: 0.8138\n",
      "Epoch 28: saving model to pose_detector.keras\n",
      "\u001b[1m937/937\u001b[0m \u001b[32m━━━━━━━━━━━━━━━━━━━━\u001b[0m\u001b[37m\u001b[0m \u001b[1m2s\u001b[0m 2ms/step - accuracy: 0.6936 - loss: 0.8139 - val_accuracy: 0.7536 - val_loss: 0.7841\n",
      "Epoch 29/1000\n",
      "\u001b[1m920/937\u001b[0m \u001b[32m━━━━━━━━━━━━━━━━━━━\u001b[0m\u001b[37m━\u001b[0m \u001b[1m0s\u001b[0m 1ms/step - accuracy: 0.6939 - loss: 0.8151\n",
      "Epoch 29: saving model to pose_detector.keras\n",
      "\u001b[1m937/937\u001b[0m \u001b[32m━━━━━━━━━━━━━━━━━━━━\u001b[0m\u001b[37m\u001b[0m \u001b[1m2s\u001b[0m 2ms/step - accuracy: 0.6939 - loss: 0.8151 - val_accuracy: 0.7803 - val_loss: 0.6972\n",
      "Epoch 30/1000\n",
      "\u001b[1m924/937\u001b[0m \u001b[32m━━━━━━━━━━━━━━━━━━━\u001b[0m\u001b[37m━\u001b[0m \u001b[1m0s\u001b[0m 1ms/step - accuracy: 0.6931 - loss: 0.8152\n",
      "Epoch 30: saving model to pose_detector.keras\n",
      "\u001b[1m937/937\u001b[0m \u001b[32m━━━━━━━━━━━━━━━━━━━━\u001b[0m\u001b[37m\u001b[0m \u001b[1m2s\u001b[0m 2ms/step - accuracy: 0.6931 - loss: 0.8152 - val_accuracy: 0.7837 - val_loss: 0.7392\n",
      "Epoch 31/1000\n",
      "\u001b[1m914/937\u001b[0m \u001b[32m━━━━━━━━━━━━━━━━━━━\u001b[0m\u001b[37m━\u001b[0m \u001b[1m0s\u001b[0m 1ms/step - accuracy: 0.6937 - loss: 0.8165\n",
      "Epoch 31: saving model to pose_detector.keras\n",
      "\u001b[1m937/937\u001b[0m \u001b[32m━━━━━━━━━━━━━━━━━━━━\u001b[0m\u001b[37m\u001b[0m \u001b[1m2s\u001b[0m 2ms/step - accuracy: 0.6936 - loss: 0.8166 - val_accuracy: 0.7817 - val_loss: 0.7553\n",
      "Epoch 32/1000\n",
      "\u001b[1m913/937\u001b[0m \u001b[32m━━━━━━━━━━━━━━━━━━━\u001b[0m\u001b[37m━\u001b[0m \u001b[1m0s\u001b[0m 1ms/step - accuracy: 0.6933 - loss: 0.8106\n",
      "Epoch 32: saving model to pose_detector.keras\n",
      "\u001b[1m937/937\u001b[0m \u001b[32m━━━━━━━━━━━━━━━━━━━━\u001b[0m\u001b[37m\u001b[0m \u001b[1m2s\u001b[0m 2ms/step - accuracy: 0.6933 - loss: 0.8107 - val_accuracy: 0.7885 - val_loss: 0.6976\n",
      "Epoch 33/1000\n",
      "\u001b[1m911/937\u001b[0m \u001b[32m━━━━━━━━━━━━━━━━━━━\u001b[0m\u001b[37m━\u001b[0m \u001b[1m0s\u001b[0m 1ms/step - accuracy: 0.6922 - loss: 0.8110\n",
      "Epoch 33: saving model to pose_detector.keras\n",
      "\u001b[1m937/937\u001b[0m \u001b[32m━━━━━━━━━━━━━━━━━━━━\u001b[0m\u001b[37m\u001b[0m \u001b[1m2s\u001b[0m 2ms/step - accuracy: 0.6923 - loss: 0.8109 - val_accuracy: 0.7641 - val_loss: 0.7416\n",
      "Epoch 34/1000\n",
      "\u001b[1m923/937\u001b[0m \u001b[32m━━━━━━━━━━━━━━━━━━━\u001b[0m\u001b[37m━\u001b[0m \u001b[1m0s\u001b[0m 1ms/step - accuracy: 0.6950 - loss: 0.8105\n",
      "Epoch 34: saving model to pose_detector.keras\n",
      "\u001b[1m937/937\u001b[0m \u001b[32m━━━━━━━━━━━━━━━━━━━━\u001b[0m\u001b[37m\u001b[0m \u001b[1m2s\u001b[0m 2ms/step - accuracy: 0.6950 - loss: 0.8105 - val_accuracy: 0.7333 - val_loss: 0.8014\n",
      "Epoch 35/1000\n",
      "\u001b[1m913/937\u001b[0m \u001b[32m━━━━━━━━━━━━━━━━━━━\u001b[0m\u001b[37m━\u001b[0m \u001b[1m0s\u001b[0m 1ms/step - accuracy: 0.6945 - loss: 0.8117\n",
      "Epoch 35: saving model to pose_detector.keras\n",
      "\u001b[1m937/937\u001b[0m \u001b[32m━━━━━━━━━━━━━━━━━━━━\u001b[0m\u001b[37m\u001b[0m \u001b[1m2s\u001b[0m 2ms/step - accuracy: 0.6946 - loss: 0.8117 - val_accuracy: 0.7961 - val_loss: 0.6940\n",
      "Epoch 36/1000\n",
      "\u001b[1m927/937\u001b[0m \u001b[32m━━━━━━━━━━━━━━━━━━━\u001b[0m\u001b[37m━\u001b[0m \u001b[1m0s\u001b[0m 1ms/step - accuracy: 0.6956 - loss: 0.8074\n",
      "Epoch 36: saving model to pose_detector.keras\n",
      "\u001b[1m937/937\u001b[0m \u001b[32m━━━━━━━━━━━━━━━━━━━━\u001b[0m\u001b[37m\u001b[0m \u001b[1m2s\u001b[0m 2ms/step - accuracy: 0.6956 - loss: 0.8074 - val_accuracy: 0.7646 - val_loss: 0.7139\n",
      "Epoch 37/1000\n",
      "\u001b[1m914/937\u001b[0m \u001b[32m━━━━━━━━━━━━━━━━━━━\u001b[0m\u001b[37m━\u001b[0m \u001b[1m0s\u001b[0m 1ms/step - accuracy: 0.6935 - loss: 0.8078\n",
      "Epoch 37: saving model to pose_detector.keras\n",
      "\u001b[1m937/937\u001b[0m \u001b[32m━━━━━━━━━━━━━━━━━━━━\u001b[0m\u001b[37m\u001b[0m \u001b[1m2s\u001b[0m 2ms/step - accuracy: 0.6935 - loss: 0.8079 - val_accuracy: 0.7392 - val_loss: 0.7873\n",
      "Epoch 38/1000\n",
      "\u001b[1m916/937\u001b[0m \u001b[32m━━━━━━━━━━━━━━━━━━━\u001b[0m\u001b[37m━\u001b[0m \u001b[1m0s\u001b[0m 1ms/step - accuracy: 0.6942 - loss: 0.8102\n",
      "Epoch 38: saving model to pose_detector.keras\n",
      "\u001b[1m937/937\u001b[0m \u001b[32m━━━━━━━━━━━━━━━━━━━━\u001b[0m\u001b[37m\u001b[0m \u001b[1m2s\u001b[0m 2ms/step - accuracy: 0.6943 - loss: 0.8101 - val_accuracy: 0.7526 - val_loss: 0.7595\n",
      "Epoch 39/1000\n",
      "\u001b[1m928/937\u001b[0m \u001b[32m━━━━━━━━━━━━━━━━━━━\u001b[0m\u001b[37m━\u001b[0m \u001b[1m0s\u001b[0m 1ms/step - accuracy: 0.6933 - loss: 0.8082\n",
      "Epoch 39: saving model to pose_detector.keras\n",
      "\u001b[1m937/937\u001b[0m \u001b[32m━━━━━━━━━━━━━━━━━━━━\u001b[0m\u001b[37m\u001b[0m \u001b[1m2s\u001b[0m 2ms/step - accuracy: 0.6933 - loss: 0.8082 - val_accuracy: 0.7626 - val_loss: 0.7662\n",
      "Epoch 40/1000\n",
      "\u001b[1m925/937\u001b[0m \u001b[32m━━━━━━━━━━━━━━━━━━━\u001b[0m\u001b[37m━\u001b[0m \u001b[1m0s\u001b[0m 1ms/step - accuracy: 0.6951 - loss: 0.8093\n",
      "Epoch 40: saving model to pose_detector.keras\n",
      "\u001b[1m937/937\u001b[0m \u001b[32m━━━━━━━━━━━━━━━━━━━━\u001b[0m\u001b[37m\u001b[0m \u001b[1m2s\u001b[0m 2ms/step - accuracy: 0.6951 - loss: 0.8093 - val_accuracy: 0.7880 - val_loss: 0.6773\n",
      "Epoch 41/1000\n",
      "\u001b[1m927/937\u001b[0m \u001b[32m━━━━━━━━━━━━━━━━━━━\u001b[0m\u001b[37m━\u001b[0m \u001b[1m0s\u001b[0m 1ms/step - accuracy: 0.6947 - loss: 0.8038\n",
      "Epoch 41: saving model to pose_detector.keras\n",
      "\u001b[1m937/937\u001b[0m \u001b[32m━━━━━━━━━━━━━━━━━━━━\u001b[0m\u001b[37m\u001b[0m \u001b[1m2s\u001b[0m 2ms/step - accuracy: 0.6947 - loss: 0.8037 - val_accuracy: 0.7845 - val_loss: 0.7228\n",
      "Epoch 42/1000\n",
      "\u001b[1m918/937\u001b[0m \u001b[32m━━━━━━━━━━━━━━━━━━━\u001b[0m\u001b[37m━\u001b[0m \u001b[1m0s\u001b[0m 1ms/step - accuracy: 0.6957 - loss: 0.8089\n",
      "Epoch 42: saving model to pose_detector.keras\n",
      "\u001b[1m937/937\u001b[0m \u001b[32m━━━━━━━━━━━━━━━━━━━━\u001b[0m\u001b[37m\u001b[0m \u001b[1m2s\u001b[0m 2ms/step - accuracy: 0.6957 - loss: 0.8089 - val_accuracy: 0.7817 - val_loss: 0.7292\n",
      "Epoch 43/1000\n",
      "\u001b[1m901/937\u001b[0m \u001b[32m━━━━━━━━━━━━━━━━━━━\u001b[0m\u001b[37m━\u001b[0m \u001b[1m0s\u001b[0m 1ms/step - accuracy: 0.6949 - loss: 0.8027\n",
      "Epoch 43: saving model to pose_detector.keras\n",
      "\u001b[1m937/937\u001b[0m \u001b[32m━━━━━━━━━━━━━━━━━━━━\u001b[0m\u001b[37m\u001b[0m \u001b[1m2s\u001b[0m 2ms/step - accuracy: 0.6949 - loss: 0.8027 - val_accuracy: 0.8023 - val_loss: 0.6529\n",
      "Epoch 44/1000\n",
      "\u001b[1m904/937\u001b[0m \u001b[32m━━━━━━━━━━━━━━━━━━━\u001b[0m\u001b[37m━\u001b[0m \u001b[1m0s\u001b[0m 1ms/step - accuracy: 0.6957 - loss: 0.8018\n",
      "Epoch 44: saving model to pose_detector.keras\n",
      "\u001b[1m937/937\u001b[0m \u001b[32m━━━━━━━━━━━━━━━━━━━━\u001b[0m\u001b[37m\u001b[0m \u001b[1m2s\u001b[0m 2ms/step - accuracy: 0.6958 - loss: 0.8017 - val_accuracy: 0.7825 - val_loss: 0.7014\n",
      "Epoch 45/1000\n",
      "\u001b[1m912/937\u001b[0m \u001b[32m━━━━━━━━━━━━━━━━━━━\u001b[0m\u001b[37m━\u001b[0m \u001b[1m0s\u001b[0m 1ms/step - accuracy: 0.6983 - loss: 0.7946\n",
      "Epoch 45: saving model to pose_detector.keras\n",
      "\u001b[1m937/937\u001b[0m \u001b[32m━━━━━━━━━━━━━━━━━━━━\u001b[0m\u001b[37m\u001b[0m \u001b[1m2s\u001b[0m 2ms/step - accuracy: 0.6983 - loss: 0.7947 - val_accuracy: 0.7988 - val_loss: 0.6685\n",
      "Epoch 46/1000\n",
      "\u001b[1m929/937\u001b[0m \u001b[32m━━━━━━━━━━━━━━━━━━━\u001b[0m\u001b[37m━\u001b[0m \u001b[1m0s\u001b[0m 1ms/step - accuracy: 0.6957 - loss: 0.8007\n",
      "Epoch 46: saving model to pose_detector.keras\n",
      "\u001b[1m937/937\u001b[0m \u001b[32m━━━━━━━━━━━━━━━━━━━━\u001b[0m\u001b[37m\u001b[0m \u001b[1m2s\u001b[0m 2ms/step - accuracy: 0.6957 - loss: 0.8007 - val_accuracy: 0.7942 - val_loss: 0.6747\n",
      "Epoch 47/1000\n",
      "\u001b[1m914/937\u001b[0m \u001b[32m━━━━━━━━━━━━━━━━━━━\u001b[0m\u001b[37m━\u001b[0m \u001b[1m0s\u001b[0m 1ms/step - accuracy: 0.6987 - loss: 0.7903\n",
      "Epoch 47: saving model to pose_detector.keras\n",
      "\u001b[1m937/937\u001b[0m \u001b[32m━━━━━━━━━━━━━━━━━━━━\u001b[0m\u001b[37m\u001b[0m \u001b[1m2s\u001b[0m 2ms/step - accuracy: 0.6986 - loss: 0.7905 - val_accuracy: 0.7831 - val_loss: 0.6936\n",
      "Epoch 48/1000\n",
      "\u001b[1m930/937\u001b[0m \u001b[32m━━━━━━━━━━━━━━━━━━━\u001b[0m\u001b[37m━\u001b[0m \u001b[1m0s\u001b[0m 1ms/step - accuracy: 0.6958 - loss: 0.8027\n",
      "Epoch 48: saving model to pose_detector.keras\n",
      "\u001b[1m937/937\u001b[0m \u001b[32m━━━━━━━━━━━━━━━━━━━━\u001b[0m\u001b[37m\u001b[0m \u001b[1m2s\u001b[0m 2ms/step - accuracy: 0.6958 - loss: 0.8026 - val_accuracy: 0.7858 - val_loss: 0.7048\n",
      "Epoch 49/1000\n",
      "\u001b[1m935/937\u001b[0m \u001b[32m━━━━━━━━━━━━━━━━━━━\u001b[0m\u001b[37m━\u001b[0m \u001b[1m0s\u001b[0m 1ms/step - accuracy: 0.6919 - loss: 0.8001\n",
      "Epoch 49: saving model to pose_detector.keras\n",
      "\u001b[1m937/937\u001b[0m \u001b[32m━━━━━━━━━━━━━━━━━━━━\u001b[0m\u001b[37m\u001b[0m \u001b[1m2s\u001b[0m 2ms/step - accuracy: 0.6919 - loss: 0.8001 - val_accuracy: 0.7846 - val_loss: 0.7016\n",
      "Epoch 50/1000\n",
      "\u001b[1m936/937\u001b[0m \u001b[32m━━━━━━━━━━━━━━━━━━━\u001b[0m\u001b[37m━\u001b[0m \u001b[1m0s\u001b[0m 1ms/step - accuracy: 0.6957 - loss: 0.7981\n",
      "Epoch 50: saving model to pose_detector.keras\n",
      "\u001b[1m937/937\u001b[0m \u001b[32m━━━━━━━━━━━━━━━━━━━━\u001b[0m\u001b[37m\u001b[0m \u001b[1m2s\u001b[0m 2ms/step - accuracy: 0.6957 - loss: 0.7981 - val_accuracy: 0.7669 - val_loss: 0.7354\n",
      "Epoch 51/1000\n",
      "\u001b[1m905/937\u001b[0m \u001b[32m━━━━━━━━━━━━━━━━━━━\u001b[0m\u001b[37m━\u001b[0m \u001b[1m0s\u001b[0m 1ms/step - accuracy: 0.6955 - loss: 0.8014\n",
      "Epoch 51: saving model to pose_detector.keras\n",
      "\u001b[1m937/937\u001b[0m \u001b[32m━━━━━━━━━━━━━━━━━━━━\u001b[0m\u001b[37m\u001b[0m \u001b[1m2s\u001b[0m 2ms/step - accuracy: 0.6956 - loss: 0.8014 - val_accuracy: 0.7780 - val_loss: 0.6953\n",
      "Epoch 52/1000\n",
      "\u001b[1m921/937\u001b[0m \u001b[32m━━━━━━━━━━━━━━━━━━━\u001b[0m\u001b[37m━\u001b[0m \u001b[1m0s\u001b[0m 1ms/step - accuracy: 0.6977 - loss: 0.7989\n",
      "Epoch 52: saving model to pose_detector.keras\n",
      "\u001b[1m937/937\u001b[0m \u001b[32m━━━━━━━━━━━━━━━━━━━━\u001b[0m\u001b[37m\u001b[0m \u001b[1m2s\u001b[0m 2ms/step - accuracy: 0.6977 - loss: 0.7988 - val_accuracy: 0.7761 - val_loss: 0.7079\n",
      "Epoch 53/1000\n",
      "\u001b[1m902/937\u001b[0m \u001b[32m━━━━━━━━━━━━━━━━━━━\u001b[0m\u001b[37m━\u001b[0m \u001b[1m0s\u001b[0m 1ms/step - accuracy: 0.6986 - loss: 0.7961\n",
      "Epoch 53: saving model to pose_detector.keras\n",
      "\u001b[1m937/937\u001b[0m \u001b[32m━━━━━━━━━━━━━━━━━━━━\u001b[0m\u001b[37m\u001b[0m \u001b[1m2s\u001b[0m 2ms/step - accuracy: 0.6987 - loss: 0.7961 - val_accuracy: 0.7952 - val_loss: 0.6673\n",
      "Epoch 54/1000\n",
      "\u001b[1m917/937\u001b[0m \u001b[32m━━━━━━━━━━━━━━━━━━━\u001b[0m\u001b[37m━\u001b[0m \u001b[1m0s\u001b[0m 1ms/step - accuracy: 0.6995 - loss: 0.7897\n",
      "Epoch 54: saving model to pose_detector.keras\n",
      "\u001b[1m937/937\u001b[0m \u001b[32m━━━━━━━━━━━━━━━━━━━━\u001b[0m\u001b[37m\u001b[0m \u001b[1m2s\u001b[0m 2ms/step - accuracy: 0.6994 - loss: 0.7899 - val_accuracy: 0.7512 - val_loss: 0.7549\n",
      "Epoch 55/1000\n",
      "\u001b[1m937/937\u001b[0m \u001b[32m━━━━━━━━━━━━━━━━━━━━\u001b[0m\u001b[37m\u001b[0m \u001b[1m0s\u001b[0m 1ms/step - accuracy: 0.6996 - loss: 0.7937\n",
      "Epoch 55: saving model to pose_detector.keras\n",
      "\u001b[1m937/937\u001b[0m \u001b[32m━━━━━━━━━━━━━━━━━━━━\u001b[0m\u001b[37m\u001b[0m \u001b[1m2s\u001b[0m 2ms/step - accuracy: 0.6996 - loss: 0.7937 - val_accuracy: 0.7837 - val_loss: 0.6865\n",
      "Epoch 56/1000\n",
      "\u001b[1m912/937\u001b[0m \u001b[32m━━━━━━━━━━━━━━━━━━━\u001b[0m\u001b[37m━\u001b[0m \u001b[1m0s\u001b[0m 1ms/step - accuracy: 0.7008 - loss: 0.7887\n",
      "Epoch 56: saving model to pose_detector.keras\n",
      "\u001b[1m937/937\u001b[0m \u001b[32m━━━━━━━━━━━━━━━━━━━━\u001b[0m\u001b[37m\u001b[0m \u001b[1m2s\u001b[0m 2ms/step - accuracy: 0.7007 - loss: 0.7888 - val_accuracy: 0.7706 - val_loss: 0.7152\n",
      "Epoch 57/1000\n",
      "\u001b[1m905/937\u001b[0m \u001b[32m━━━━━━━━━━━━━━━━━━━\u001b[0m\u001b[37m━\u001b[0m \u001b[1m0s\u001b[0m 1ms/step - accuracy: 0.7015 - loss: 0.7942\n",
      "Epoch 57: saving model to pose_detector.keras\n",
      "\u001b[1m937/937\u001b[0m \u001b[32m━━━━━━━━━━━━━━━━━━━━\u001b[0m\u001b[37m\u001b[0m \u001b[1m2s\u001b[0m 2ms/step - accuracy: 0.7014 - loss: 0.7942 - val_accuracy: 0.7870 - val_loss: 0.6845\n",
      "Epoch 58/1000\n",
      "\u001b[1m916/937\u001b[0m \u001b[32m━━━━━━━━━━━━━━━━━━━\u001b[0m\u001b[37m━\u001b[0m \u001b[1m0s\u001b[0m 1ms/step - accuracy: 0.6974 - loss: 0.7987\n",
      "Epoch 58: saving model to pose_detector.keras\n",
      "\u001b[1m937/937\u001b[0m \u001b[32m━━━━━━━━━━━━━━━━━━━━\u001b[0m\u001b[37m\u001b[0m \u001b[1m2s\u001b[0m 2ms/step - accuracy: 0.6974 - loss: 0.7986 - val_accuracy: 0.7839 - val_loss: 0.7114\n",
      "Epoch 59/1000\n",
      "\u001b[1m922/937\u001b[0m \u001b[32m━━━━━━━━━━━━━━━━━━━\u001b[0m\u001b[37m━\u001b[0m \u001b[1m0s\u001b[0m 1ms/step - accuracy: 0.6998 - loss: 0.7950\n",
      "Epoch 59: saving model to pose_detector.keras\n",
      "\u001b[1m937/937\u001b[0m \u001b[32m━━━━━━━━━━━━━━━━━━━━\u001b[0m\u001b[37m\u001b[0m \u001b[1m2s\u001b[0m 2ms/step - accuracy: 0.6998 - loss: 0.7950 - val_accuracy: 0.7905 - val_loss: 0.6663\n",
      "Epoch 60/1000\n",
      "\u001b[1m908/937\u001b[0m \u001b[32m━━━━━━━━━━━━━━━━━━━\u001b[0m\u001b[37m━\u001b[0m \u001b[1m0s\u001b[0m 1ms/step - accuracy: 0.6988 - loss: 0.7936\n",
      "Epoch 60: saving model to pose_detector.keras\n",
      "\u001b[1m937/937\u001b[0m \u001b[32m━━━━━━━━━━━━━━━━━━━━\u001b[0m\u001b[37m\u001b[0m \u001b[1m2s\u001b[0m 2ms/step - accuracy: 0.6988 - loss: 0.7937 - val_accuracy: 0.7879 - val_loss: 0.6812\n",
      "Epoch 61/1000\n",
      "\u001b[1m902/937\u001b[0m \u001b[32m━━━━━━━━━━━━━━━━━━━\u001b[0m\u001b[37m━\u001b[0m \u001b[1m0s\u001b[0m 1ms/step - accuracy: 0.7022 - loss: 0.7858\n",
      "Epoch 61: saving model to pose_detector.keras\n",
      "\u001b[1m937/937\u001b[0m \u001b[32m━━━━━━━━━━━━━━━━━━━━\u001b[0m\u001b[37m\u001b[0m \u001b[1m2s\u001b[0m 2ms/step - accuracy: 0.7021 - loss: 0.7859 - val_accuracy: 0.7973 - val_loss: 0.6650\n",
      "Epoch 62/1000\n",
      "\u001b[1m906/937\u001b[0m \u001b[32m━━━━━━━━━━━━━━━━━━━\u001b[0m\u001b[37m━\u001b[0m \u001b[1m0s\u001b[0m 1ms/step - accuracy: 0.6997 - loss: 0.7896\n",
      "Epoch 62: saving model to pose_detector.keras\n",
      "\u001b[1m937/937\u001b[0m \u001b[32m━━━━━━━━━━━━━━━━━━━━\u001b[0m\u001b[37m\u001b[0m \u001b[1m2s\u001b[0m 2ms/step - accuracy: 0.6997 - loss: 0.7897 - val_accuracy: 0.7917 - val_loss: 0.6684\n",
      "Epoch 63/1000\n",
      "\u001b[1m913/937\u001b[0m \u001b[32m━━━━━━━━━━━━━━━━━━━\u001b[0m\u001b[37m━\u001b[0m \u001b[1m0s\u001b[0m 1ms/step - accuracy: 0.7008 - loss: 0.7910\n",
      "Epoch 63: saving model to pose_detector.keras\n",
      "\u001b[1m937/937\u001b[0m \u001b[32m━━━━━━━━━━━━━━━━━━━━\u001b[0m\u001b[37m\u001b[0m \u001b[1m2s\u001b[0m 2ms/step - accuracy: 0.7008 - loss: 0.7911 - val_accuracy: 0.7623 - val_loss: 0.7218\n",
      "Epoch 64/1000\n",
      "\u001b[1m901/937\u001b[0m \u001b[32m━━━━━━━━━━━━━━━━━━━\u001b[0m\u001b[37m━\u001b[0m \u001b[1m0s\u001b[0m 1ms/step - accuracy: 0.6995 - loss: 0.7918\n",
      "Epoch 64: saving model to pose_detector.keras\n",
      "\u001b[1m937/937\u001b[0m \u001b[32m━━━━━━━━━━━━━━━━━━━━\u001b[0m\u001b[37m\u001b[0m \u001b[1m2s\u001b[0m 2ms/step - accuracy: 0.6996 - loss: 0.7919 - val_accuracy: 0.7899 - val_loss: 0.6771\n",
      "Epoch 65/1000\n",
      "\u001b[1m935/937\u001b[0m \u001b[32m━━━━━━━━━━━━━━━━━━━\u001b[0m\u001b[37m━\u001b[0m \u001b[1m0s\u001b[0m 1ms/step - accuracy: 0.7015 - loss: 0.7874\n",
      "Epoch 65: saving model to pose_detector.keras\n",
      "\u001b[1m937/937\u001b[0m \u001b[32m━━━━━━━━━━━━━━━━━━━━\u001b[0m\u001b[37m\u001b[0m \u001b[1m2s\u001b[0m 2ms/step - accuracy: 0.7015 - loss: 0.7874 - val_accuracy: 0.7879 - val_loss: 0.6735\n",
      "Epoch 66/1000\n",
      "\u001b[1m925/937\u001b[0m \u001b[32m━━━━━━━━━━━━━━━━━━━\u001b[0m\u001b[37m━\u001b[0m \u001b[1m0s\u001b[0m 1ms/step - accuracy: 0.6996 - loss: 0.7943\n",
      "Epoch 66: saving model to pose_detector.keras\n",
      "\u001b[1m937/937\u001b[0m \u001b[32m━━━━━━━━━━━━━━━━━━━━\u001b[0m\u001b[37m\u001b[0m \u001b[1m2s\u001b[0m 2ms/step - accuracy: 0.6996 - loss: 0.7942 - val_accuracy: 0.7837 - val_loss: 0.6733\n",
      "Epoch 67/1000\n",
      "\u001b[1m922/937\u001b[0m \u001b[32m━━━━━━━━━━━━━━━━━━━\u001b[0m\u001b[37m━\u001b[0m \u001b[1m0s\u001b[0m 1ms/step - accuracy: 0.7014 - loss: 0.7900\n",
      "Epoch 67: saving model to pose_detector.keras\n",
      "\u001b[1m937/937\u001b[0m \u001b[32m━━━━━━━━━━━━━━━━━━━━\u001b[0m\u001b[37m\u001b[0m \u001b[1m2s\u001b[0m 2ms/step - accuracy: 0.7014 - loss: 0.7901 - val_accuracy: 0.7607 - val_loss: 0.7243\n",
      "Epoch 68/1000\n",
      "\u001b[1m936/937\u001b[0m \u001b[32m━━━━━━━━━━━━━━━━━━━\u001b[0m\u001b[37m━\u001b[0m \u001b[1m0s\u001b[0m 2ms/step - accuracy: 0.6988 - loss: 0.7880\n",
      "Epoch 68: saving model to pose_detector.keras\n",
      "\u001b[1m937/937\u001b[0m \u001b[32m━━━━━━━━━━━━━━━━━━━━\u001b[0m\u001b[37m\u001b[0m \u001b[1m2s\u001b[0m 2ms/step - accuracy: 0.6988 - loss: 0.7880 - val_accuracy: 0.7554 - val_loss: 0.7332\n",
      "Epoch 69/1000\n",
      "\u001b[1m936/937\u001b[0m \u001b[32m━━━━━━━━━━━━━━━━━━━\u001b[0m\u001b[37m━\u001b[0m \u001b[1m0s\u001b[0m 2ms/step - accuracy: 0.7000 - loss: 0.7868\n",
      "Epoch 69: saving model to pose_detector.keras\n",
      "\u001b[1m937/937\u001b[0m \u001b[32m━━━━━━━━━━━━━━━━━━━━\u001b[0m\u001b[37m\u001b[0m \u001b[1m2s\u001b[0m 2ms/step - accuracy: 0.7000 - loss: 0.7868 - val_accuracy: 0.7795 - val_loss: 0.7027\n",
      "Epoch 70/1000\n",
      "\u001b[1m933/937\u001b[0m \u001b[32m━━━━━━━━━━━━━━━━━━━\u001b[0m\u001b[37m━\u001b[0m \u001b[1m0s\u001b[0m 2ms/step - accuracy: 0.7009 - loss: 0.7856\n",
      "Epoch 70: saving model to pose_detector.keras\n",
      "\u001b[1m937/937\u001b[0m \u001b[32m━━━━━━━━━━━━━━━━━━━━\u001b[0m\u001b[37m\u001b[0m \u001b[1m2s\u001b[0m 2ms/step - accuracy: 0.7009 - loss: 0.7857 - val_accuracy: 0.8018 - val_loss: 0.6505\n",
      "Epoch 71/1000\n",
      "\u001b[1m937/937\u001b[0m \u001b[32m━━━━━━━━━━━━━━━━━━━━\u001b[0m\u001b[37m\u001b[0m \u001b[1m0s\u001b[0m 2ms/step - accuracy: 0.7006 - loss: 0.7931\n",
      "Epoch 71: saving model to pose_detector.keras\n",
      "\u001b[1m937/937\u001b[0m \u001b[32m━━━━━━━━━━━━━━━━━━━━\u001b[0m\u001b[37m\u001b[0m \u001b[1m2s\u001b[0m 2ms/step - accuracy: 0.7006 - loss: 0.7931 - val_accuracy: 0.8167 - val_loss: 0.6050\n",
      "Epoch 72/1000\n",
      "\u001b[1m903/937\u001b[0m \u001b[32m━━━━━━━━━━━━━━━━━━━\u001b[0m\u001b[37m━\u001b[0m \u001b[1m0s\u001b[0m 2ms/step - accuracy: 0.7011 - loss: 0.7898\n",
      "Epoch 72: saving model to pose_detector.keras\n",
      "\u001b[1m937/937\u001b[0m \u001b[32m━━━━━━━━━━━━━━━━━━━━\u001b[0m\u001b[37m\u001b[0m \u001b[1m2s\u001b[0m 2ms/step - accuracy: 0.7011 - loss: 0.7899 - val_accuracy: 0.7830 - val_loss: 0.6809\n",
      "Epoch 73/1000\n",
      "\u001b[1m932/937\u001b[0m \u001b[32m━━━━━━━━━━━━━━━━━━━\u001b[0m\u001b[37m━\u001b[0m \u001b[1m0s\u001b[0m 1ms/step - accuracy: 0.7010 - loss: 0.7852\n",
      "Epoch 73: saving model to pose_detector.keras\n",
      "\u001b[1m937/937\u001b[0m \u001b[32m━━━━━━━━━━━━━━━━━━━━\u001b[0m\u001b[37m\u001b[0m \u001b[1m2s\u001b[0m 2ms/step - accuracy: 0.7010 - loss: 0.7853 - val_accuracy: 0.7628 - val_loss: 0.7152\n",
      "Epoch 74/1000\n",
      "\u001b[1m923/937\u001b[0m \u001b[32m━━━━━━━━━━━━━━━━━━━\u001b[0m\u001b[37m━\u001b[0m \u001b[1m0s\u001b[0m 1ms/step - accuracy: 0.7010 - loss: 0.7914\n",
      "Epoch 74: saving model to pose_detector.keras\n",
      "\u001b[1m937/937\u001b[0m \u001b[32m━━━━━━━━━━━━━━━━━━━━\u001b[0m\u001b[37m\u001b[0m \u001b[1m2s\u001b[0m 2ms/step - accuracy: 0.7010 - loss: 0.7914 - val_accuracy: 0.7738 - val_loss: 0.6890\n",
      "Epoch 75/1000\n",
      "\u001b[1m937/937\u001b[0m \u001b[32m━━━━━━━━━━━━━━━━━━━━\u001b[0m\u001b[37m\u001b[0m \u001b[1m0s\u001b[0m 1ms/step - accuracy: 0.7013 - loss: 0.7871\n",
      "Epoch 75: saving model to pose_detector.keras\n",
      "\u001b[1m937/937\u001b[0m \u001b[32m━━━━━━━━━━━━━━━━━━━━\u001b[0m\u001b[37m\u001b[0m \u001b[1m2s\u001b[0m 2ms/step - accuracy: 0.7013 - loss: 0.7871 - val_accuracy: 0.7811 - val_loss: 0.6891\n",
      "Epoch 76/1000\n",
      "\u001b[1m909/937\u001b[0m \u001b[32m━━━━━━━━━━━━━━━━━━━\u001b[0m\u001b[37m━\u001b[0m \u001b[1m0s\u001b[0m 1ms/step - accuracy: 0.6996 - loss: 0.7888\n",
      "Epoch 76: saving model to pose_detector.keras\n",
      "\u001b[1m937/937\u001b[0m \u001b[32m━━━━━━━━━━━━━━━━━━━━\u001b[0m\u001b[37m\u001b[0m \u001b[1m2s\u001b[0m 2ms/step - accuracy: 0.6996 - loss: 0.7887 - val_accuracy: 0.7855 - val_loss: 0.6872\n",
      "Epoch 77/1000\n",
      "\u001b[1m923/937\u001b[0m \u001b[32m━━━━━━━━━━━━━━━━━━━\u001b[0m\u001b[37m━\u001b[0m \u001b[1m0s\u001b[0m 1ms/step - accuracy: 0.7004 - loss: 0.7893\n",
      "Epoch 77: saving model to pose_detector.keras\n",
      "\u001b[1m937/937\u001b[0m \u001b[32m━━━━━━━━━━━━━━━━━━━━\u001b[0m\u001b[37m\u001b[0m \u001b[1m2s\u001b[0m 2ms/step - accuracy: 0.7004 - loss: 0.7893 - val_accuracy: 0.7640 - val_loss: 0.6906\n",
      "Epoch 78/1000\n",
      "\u001b[1m915/937\u001b[0m \u001b[32m━━━━━━━━━━━━━━━━━━━\u001b[0m\u001b[37m━\u001b[0m \u001b[1m0s\u001b[0m 1ms/step - accuracy: 0.7004 - loss: 0.7887\n",
      "Epoch 78: saving model to pose_detector.keras\n",
      "\u001b[1m937/937\u001b[0m \u001b[32m━━━━━━━━━━━━━━━━━━━━\u001b[0m\u001b[37m\u001b[0m \u001b[1m2s\u001b[0m 2ms/step - accuracy: 0.7004 - loss: 0.7887 - val_accuracy: 0.7753 - val_loss: 0.6987\n",
      "Epoch 79/1000\n",
      "\u001b[1m912/937\u001b[0m \u001b[32m━━━━━━━━━━━━━━━━━━━\u001b[0m\u001b[37m━\u001b[0m \u001b[1m0s\u001b[0m 1ms/step - accuracy: 0.6962 - loss: 0.7911\n",
      "Epoch 79: saving model to pose_detector.keras\n",
      "\u001b[1m937/937\u001b[0m \u001b[32m━━━━━━━━━━━━━━━━━━━━\u001b[0m\u001b[37m\u001b[0m \u001b[1m2s\u001b[0m 2ms/step - accuracy: 0.6963 - loss: 0.7911 - val_accuracy: 0.7889 - val_loss: 0.6711\n",
      "Epoch 80/1000\n",
      "\u001b[1m929/937\u001b[0m \u001b[32m━━━━━━━━━━━━━━━━━━━\u001b[0m\u001b[37m━\u001b[0m \u001b[1m0s\u001b[0m 1ms/step - accuracy: 0.7022 - loss: 0.7844\n",
      "Epoch 80: saving model to pose_detector.keras\n",
      "\u001b[1m937/937\u001b[0m \u001b[32m━━━━━━━━━━━━━━━━━━━━\u001b[0m\u001b[37m\u001b[0m \u001b[1m2s\u001b[0m 2ms/step - accuracy: 0.7023 - loss: 0.7843 - val_accuracy: 0.7596 - val_loss: 0.7151\n",
      "Epoch 81/1000\n",
      "\u001b[1m937/937\u001b[0m \u001b[32m━━━━━━━━━━━━━━━━━━━━\u001b[0m\u001b[37m\u001b[0m \u001b[1m0s\u001b[0m 1ms/step - accuracy: 0.7028 - loss: 0.7819\n",
      "Epoch 81: saving model to pose_detector.keras\n",
      "\u001b[1m937/937\u001b[0m \u001b[32m━━━━━━━━━━━━━━━━━━━━\u001b[0m\u001b[37m\u001b[0m \u001b[1m2s\u001b[0m 2ms/step - accuracy: 0.7028 - loss: 0.7819 - val_accuracy: 0.7743 - val_loss: 0.6976\n",
      "Epoch 82/1000\n",
      "\u001b[1m932/937\u001b[0m \u001b[32m━━━━━━━━━━━━━━━━━━━\u001b[0m\u001b[37m━\u001b[0m \u001b[1m0s\u001b[0m 1ms/step - accuracy: 0.6984 - loss: 0.7913\n",
      "Epoch 82: saving model to pose_detector.keras\n",
      "\u001b[1m937/937\u001b[0m \u001b[32m━━━━━━━━━━━━━━━━━━━━\u001b[0m\u001b[37m\u001b[0m \u001b[1m2s\u001b[0m 2ms/step - accuracy: 0.6984 - loss: 0.7913 - val_accuracy: 0.7705 - val_loss: 0.7051\n",
      "Epoch 83/1000\n",
      "\u001b[1m908/937\u001b[0m \u001b[32m━━━━━━━━━━━━━━━━━━━\u001b[0m\u001b[37m━\u001b[0m \u001b[1m0s\u001b[0m 1ms/step - accuracy: 0.7008 - loss: 0.7852\n",
      "Epoch 83: saving model to pose_detector.keras\n",
      "\u001b[1m937/937\u001b[0m \u001b[32m━━━━━━━━━━━━━━━━━━━━\u001b[0m\u001b[37m\u001b[0m \u001b[1m2s\u001b[0m 2ms/step - accuracy: 0.7008 - loss: 0.7851 - val_accuracy: 0.7808 - val_loss: 0.6884\n",
      "Epoch 84/1000\n",
      "\u001b[1m933/937\u001b[0m \u001b[32m━━━━━━━━━━━━━━━━━━━\u001b[0m\u001b[37m━\u001b[0m \u001b[1m0s\u001b[0m 2ms/step - accuracy: 0.7037 - loss: 0.7818\n",
      "Epoch 84: saving model to pose_detector.keras\n",
      "\u001b[1m937/937\u001b[0m \u001b[32m━━━━━━━━━━━━━━━━━━━━\u001b[0m\u001b[37m\u001b[0m \u001b[1m2s\u001b[0m 2ms/step - accuracy: 0.7036 - loss: 0.7818 - val_accuracy: 0.7616 - val_loss: 0.7079\n",
      "Epoch 85/1000\n",
      "\u001b[1m917/937\u001b[0m \u001b[32m━━━━━━━━━━━━━━━━━━━\u001b[0m\u001b[37m━\u001b[0m \u001b[1m0s\u001b[0m 2ms/step - accuracy: 0.7020 - loss: 0.7803\n",
      "Epoch 85: saving model to pose_detector.keras\n",
      "\u001b[1m937/937\u001b[0m \u001b[32m━━━━━━━━━━━━━━━━━━━━\u001b[0m\u001b[37m\u001b[0m \u001b[1m2s\u001b[0m 2ms/step - accuracy: 0.7020 - loss: 0.7803 - val_accuracy: 0.7652 - val_loss: 0.7233\n",
      "Epoch 86/1000\n",
      "\u001b[1m922/937\u001b[0m \u001b[32m━━━━━━━━━━━━━━━━━━━\u001b[0m\u001b[37m━\u001b[0m \u001b[1m0s\u001b[0m 1ms/step - accuracy: 0.7045 - loss: 0.7893\n",
      "Epoch 86: saving model to pose_detector.keras\n",
      "\u001b[1m937/937\u001b[0m \u001b[32m━━━━━━━━━━━━━━━━━━━━\u001b[0m\u001b[37m\u001b[0m \u001b[1m2s\u001b[0m 2ms/step - accuracy: 0.7045 - loss: 0.7892 - val_accuracy: 0.7724 - val_loss: 0.6856\n",
      "Epoch 87/1000\n",
      "\u001b[1m918/937\u001b[0m \u001b[32m━━━━━━━━━━━━━━━━━━━\u001b[0m\u001b[37m━\u001b[0m \u001b[1m0s\u001b[0m 2ms/step - accuracy: 0.7001 - loss: 0.7928\n",
      "Epoch 87: saving model to pose_detector.keras\n",
      "\u001b[1m937/937\u001b[0m \u001b[32m━━━━━━━━━━━━━━━━━━━━\u001b[0m\u001b[37m\u001b[0m \u001b[1m2s\u001b[0m 2ms/step - accuracy: 0.7002 - loss: 0.7927 - val_accuracy: 0.7972 - val_loss: 0.6527\n",
      "Epoch 88/1000\n",
      "\u001b[1m917/937\u001b[0m \u001b[32m━━━━━━━━━━━━━━━━━━━\u001b[0m\u001b[37m━\u001b[0m \u001b[1m0s\u001b[0m 1ms/step - accuracy: 0.7029 - loss: 0.7788\n",
      "Epoch 88: saving model to pose_detector.keras\n",
      "\u001b[1m937/937\u001b[0m \u001b[32m━━━━━━━━━━━━━━━━━━━━\u001b[0m\u001b[37m\u001b[0m \u001b[1m2s\u001b[0m 2ms/step - accuracy: 0.7029 - loss: 0.7789 - val_accuracy: 0.7746 - val_loss: 0.7034\n",
      "Epoch 89/1000\n",
      "\u001b[1m906/937\u001b[0m \u001b[32m━━━━━━━━━━━━━━━━━━━\u001b[0m\u001b[37m━\u001b[0m \u001b[1m0s\u001b[0m 2ms/step - accuracy: 0.7018 - loss: 0.7796\n",
      "Epoch 89: saving model to pose_detector.keras\n",
      "\u001b[1m937/937\u001b[0m \u001b[32m━━━━━━━━━━━━━━━━━━━━\u001b[0m\u001b[37m\u001b[0m \u001b[1m2s\u001b[0m 2ms/step - accuracy: 0.7018 - loss: 0.7797 - val_accuracy: 0.7972 - val_loss: 0.6396\n",
      "Epoch 90/1000\n",
      "\u001b[1m924/937\u001b[0m \u001b[32m━━━━━━━━━━━━━━━━━━━\u001b[0m\u001b[37m━\u001b[0m \u001b[1m0s\u001b[0m 1ms/step - accuracy: 0.7024 - loss: 0.7782\n",
      "Epoch 90: saving model to pose_detector.keras\n",
      "\u001b[1m937/937\u001b[0m \u001b[32m━━━━━━━━━━━━━━━━━━━━\u001b[0m\u001b[37m\u001b[0m \u001b[1m2s\u001b[0m 2ms/step - accuracy: 0.7024 - loss: 0.7782 - val_accuracy: 0.7862 - val_loss: 0.6884\n",
      "Epoch 91/1000\n",
      "\u001b[1m907/937\u001b[0m \u001b[32m━━━━━━━━━━━━━━━━━━━\u001b[0m\u001b[37m━\u001b[0m \u001b[1m0s\u001b[0m 1ms/step - accuracy: 0.7023 - loss: 0.7826\n",
      "Epoch 91: saving model to pose_detector.keras\n",
      "\u001b[1m937/937\u001b[0m \u001b[32m━━━━━━━━━━━━━━━━━━━━\u001b[0m\u001b[37m\u001b[0m \u001b[1m2s\u001b[0m 2ms/step - accuracy: 0.7023 - loss: 0.7826 - val_accuracy: 0.7404 - val_loss: 0.7518\n",
      "Epoch 92/1000\n",
      "\u001b[1m910/937\u001b[0m \u001b[32m━━━━━━━━━━━━━━━━━━━\u001b[0m\u001b[37m━\u001b[0m \u001b[1m0s\u001b[0m 1ms/step - accuracy: 0.7027 - loss: 0.7850\n",
      "Epoch 92: saving model to pose_detector.keras\n",
      "\u001b[1m937/937\u001b[0m \u001b[32m━━━━━━━━━━━━━━━━━━━━\u001b[0m\u001b[37m\u001b[0m \u001b[1m2s\u001b[0m 2ms/step - accuracy: 0.7027 - loss: 0.7850 - val_accuracy: 0.7986 - val_loss: 0.6553\n",
      "Epoch 93/1000\n",
      "\u001b[1m905/937\u001b[0m \u001b[32m━━━━━━━━━━━━━━━━━━━\u001b[0m\u001b[37m━\u001b[0m \u001b[1m0s\u001b[0m 1ms/step - accuracy: 0.7005 - loss: 0.7869\n",
      "Epoch 93: saving model to pose_detector.keras\n",
      "\u001b[1m937/937\u001b[0m \u001b[32m━━━━━━━━━━━━━━━━━━━━\u001b[0m\u001b[37m\u001b[0m \u001b[1m2s\u001b[0m 2ms/step - accuracy: 0.7006 - loss: 0.7867 - val_accuracy: 0.7754 - val_loss: 0.7053\n",
      "Epoch 94/1000\n",
      "\u001b[1m902/937\u001b[0m \u001b[32m━━━━━━━━━━━━━━━━━━━\u001b[0m\u001b[37m━\u001b[0m \u001b[1m0s\u001b[0m 1ms/step - accuracy: 0.6998 - loss: 0.7859\n",
      "Epoch 94: saving model to pose_detector.keras\n",
      "\u001b[1m937/937\u001b[0m \u001b[32m━━━━━━━━━━━━━━━━━━━━\u001b[0m\u001b[37m\u001b[0m \u001b[1m2s\u001b[0m 2ms/step - accuracy: 0.6999 - loss: 0.7859 - val_accuracy: 0.7371 - val_loss: 0.7700\n",
      "Epoch 95/1000\n",
      "\u001b[1m928/937\u001b[0m \u001b[32m━━━━━━━━━━━━━━━━━━━\u001b[0m\u001b[37m━\u001b[0m \u001b[1m0s\u001b[0m 1ms/step - accuracy: 0.7017 - loss: 0.7884\n",
      "Epoch 95: saving model to pose_detector.keras\n",
      "\u001b[1m937/937\u001b[0m \u001b[32m━━━━━━━━━━━━━━━━━━━━\u001b[0m\u001b[37m\u001b[0m \u001b[1m2s\u001b[0m 2ms/step - accuracy: 0.7017 - loss: 0.7883 - val_accuracy: 0.7710 - val_loss: 0.7034\n",
      "Epoch 96/1000\n",
      "\u001b[1m903/937\u001b[0m \u001b[32m━━━━━━━━━━━━━━━━━━━\u001b[0m\u001b[37m━\u001b[0m \u001b[1m0s\u001b[0m 2ms/step - accuracy: 0.7015 - loss: 0.7872\n",
      "Epoch 96: saving model to pose_detector.keras\n",
      "\u001b[1m937/937\u001b[0m \u001b[32m━━━━━━━━━━━━━━━━━━━━\u001b[0m\u001b[37m\u001b[0m \u001b[1m2s\u001b[0m 2ms/step - accuracy: 0.7015 - loss: 0.7870 - val_accuracy: 0.7561 - val_loss: 0.7404\n",
      "Epoch 97/1000\n",
      "\u001b[1m932/937\u001b[0m \u001b[32m━━━━━━━━━━━━━━━━━━━\u001b[0m\u001b[37m━\u001b[0m \u001b[1m0s\u001b[0m 1ms/step - accuracy: 0.7067 - loss: 0.7800\n",
      "Epoch 97: saving model to pose_detector.keras\n",
      "\u001b[1m937/937\u001b[0m \u001b[32m━━━━━━━━━━━━━━━━━━━━\u001b[0m\u001b[37m\u001b[0m \u001b[1m2s\u001b[0m 2ms/step - accuracy: 0.7067 - loss: 0.7800 - val_accuracy: 0.7766 - val_loss: 0.6992\n",
      "Epoch 98/1000\n",
      "\u001b[1m937/937\u001b[0m \u001b[32m━━━━━━━━━━━━━━━━━━━━\u001b[0m\u001b[37m\u001b[0m \u001b[1m0s\u001b[0m 1ms/step - accuracy: 0.7015 - loss: 0.7848\n",
      "Epoch 98: saving model to pose_detector.keras\n",
      "\u001b[1m937/937\u001b[0m \u001b[32m━━━━━━━━━━━━━━━━━━━━\u001b[0m\u001b[37m\u001b[0m \u001b[1m2s\u001b[0m 2ms/step - accuracy: 0.7015 - loss: 0.7848 - val_accuracy: 0.7912 - val_loss: 0.6642\n",
      "Epoch 99/1000\n",
      "\u001b[1m912/937\u001b[0m \u001b[32m━━━━━━━━━━━━━━━━━━━\u001b[0m\u001b[37m━\u001b[0m \u001b[1m0s\u001b[0m 1ms/step - accuracy: 0.7038 - loss: 0.7807\n",
      "Epoch 99: saving model to pose_detector.keras\n",
      "\u001b[1m937/937\u001b[0m \u001b[32m━━━━━━━━━━━━━━━━━━━━\u001b[0m\u001b[37m\u001b[0m \u001b[1m2s\u001b[0m 2ms/step - accuracy: 0.7037 - loss: 0.7807 - val_accuracy: 0.7824 - val_loss: 0.6771\n",
      "Epoch 100/1000\n",
      "\u001b[1m932/937\u001b[0m \u001b[32m━━━━━━━━━━━━━━━━━━━\u001b[0m\u001b[37m━\u001b[0m \u001b[1m0s\u001b[0m 1ms/step - accuracy: 0.7052 - loss: 0.7772\n",
      "Epoch 100: saving model to pose_detector.keras\n",
      "\u001b[1m937/937\u001b[0m \u001b[32m━━━━━━━━━━━━━━━━━━━━\u001b[0m\u001b[37m\u001b[0m \u001b[1m2s\u001b[0m 2ms/step - accuracy: 0.7052 - loss: 0.7772 - val_accuracy: 0.7784 - val_loss: 0.6803\n",
      "Epoch 101/1000\n",
      "\u001b[1m928/937\u001b[0m \u001b[32m━━━━━━━━━━━━━━━━━━━\u001b[0m\u001b[37m━\u001b[0m \u001b[1m0s\u001b[0m 1ms/step - accuracy: 0.7053 - loss: 0.7775\n",
      "Epoch 101: saving model to pose_detector.keras\n",
      "\u001b[1m937/937\u001b[0m \u001b[32m━━━━━━━━━━━━━━━━━━━━\u001b[0m\u001b[37m\u001b[0m \u001b[1m2s\u001b[0m 2ms/step - accuracy: 0.7053 - loss: 0.7776 - val_accuracy: 0.7809 - val_loss: 0.7022\n",
      "Epoch 102/1000\n",
      "\u001b[1m908/937\u001b[0m \u001b[32m━━━━━━━━━━━━━━━━━━━\u001b[0m\u001b[37m━\u001b[0m \u001b[1m0s\u001b[0m 1ms/step - accuracy: 0.7042 - loss: 0.7813\n",
      "Epoch 102: saving model to pose_detector.keras\n",
      "\u001b[1m937/937\u001b[0m \u001b[32m━━━━━━━━━━━━━━━━━━━━\u001b[0m\u001b[37m\u001b[0m \u001b[1m2s\u001b[0m 2ms/step - accuracy: 0.7042 - loss: 0.7814 - val_accuracy: 0.7770 - val_loss: 0.6943\n",
      "Epoch 103/1000\n",
      "\u001b[1m912/937\u001b[0m \u001b[32m━━━━━━━━━━━━━━━━━━━\u001b[0m\u001b[37m━\u001b[0m \u001b[1m0s\u001b[0m 2ms/step - accuracy: 0.7042 - loss: 0.7824\n",
      "Epoch 103: saving model to pose_detector.keras\n",
      "\u001b[1m937/937\u001b[0m \u001b[32m━━━━━━━━━━━━━━━━━━━━\u001b[0m\u001b[37m\u001b[0m \u001b[1m2s\u001b[0m 2ms/step - accuracy: 0.7042 - loss: 0.7824 - val_accuracy: 0.7943 - val_loss: 0.6549\n",
      "Epoch 104/1000\n",
      "\u001b[1m912/937\u001b[0m \u001b[32m━━━━━━━━━━━━━━━━━━━\u001b[0m\u001b[37m━\u001b[0m \u001b[1m0s\u001b[0m 2ms/step - accuracy: 0.7028 - loss: 0.7879\n",
      "Epoch 104: saving model to pose_detector.keras\n",
      "\u001b[1m937/937\u001b[0m \u001b[32m━━━━━━━━━━━━━━━━━━━━\u001b[0m\u001b[37m\u001b[0m \u001b[1m2s\u001b[0m 2ms/step - accuracy: 0.7028 - loss: 0.7877 - val_accuracy: 0.7795 - val_loss: 0.6886\n",
      "Epoch 105/1000\n",
      "\u001b[1m920/937\u001b[0m \u001b[32m━━━━━━━━━━━━━━━━━━━\u001b[0m\u001b[37m━\u001b[0m \u001b[1m0s\u001b[0m 2ms/step - accuracy: 0.7017 - loss: 0.7842\n",
      "Epoch 105: saving model to pose_detector.keras\n",
      "\u001b[1m937/937\u001b[0m \u001b[32m━━━━━━━━━━━━━━━━━━━━\u001b[0m\u001b[37m\u001b[0m \u001b[1m2s\u001b[0m 2ms/step - accuracy: 0.7017 - loss: 0.7842 - val_accuracy: 0.7703 - val_loss: 0.7080\n",
      "Epoch 106/1000\n",
      "\u001b[1m916/937\u001b[0m \u001b[32m━━━━━━━━━━━━━━━━━━━\u001b[0m\u001b[37m━\u001b[0m \u001b[1m0s\u001b[0m 2ms/step - accuracy: 0.7008 - loss: 0.7883\n",
      "Epoch 106: saving model to pose_detector.keras\n",
      "\u001b[1m937/937\u001b[0m \u001b[32m━━━━━━━━━━━━━━━━━━━━\u001b[0m\u001b[37m\u001b[0m \u001b[1m2s\u001b[0m 2ms/step - accuracy: 0.7008 - loss: 0.7882 - val_accuracy: 0.7449 - val_loss: 0.7434\n",
      "Epoch 107/1000\n",
      "\u001b[1m914/937\u001b[0m \u001b[32m━━━━━━━━━━━━━━━━━━━\u001b[0m\u001b[37m━\u001b[0m \u001b[1m0s\u001b[0m 2ms/step - accuracy: 0.7047 - loss: 0.7809\n",
      "Epoch 107: saving model to pose_detector.keras\n",
      "\u001b[1m937/937\u001b[0m \u001b[32m━━━━━━━━━━━━━━━━━━━━\u001b[0m\u001b[37m\u001b[0m \u001b[1m2s\u001b[0m 2ms/step - accuracy: 0.7047 - loss: 0.7808 - val_accuracy: 0.7680 - val_loss: 0.7025\n",
      "Epoch 108/1000\n",
      "\u001b[1m910/937\u001b[0m \u001b[32m━━━━━━━━━━━━━━━━━━━\u001b[0m\u001b[37m━\u001b[0m \u001b[1m0s\u001b[0m 2ms/step - accuracy: 0.7032 - loss: 0.7836\n",
      "Epoch 108: saving model to pose_detector.keras\n",
      "\u001b[1m937/937\u001b[0m \u001b[32m━━━━━━━━━━━━━━━━━━━━\u001b[0m\u001b[37m\u001b[0m \u001b[1m2s\u001b[0m 2ms/step - accuracy: 0.7032 - loss: 0.7836 - val_accuracy: 0.7594 - val_loss: 0.7016\n",
      "Epoch 109/1000\n",
      "\u001b[1m909/937\u001b[0m \u001b[32m━━━━━━━━━━━━━━━━━━━\u001b[0m\u001b[37m━\u001b[0m \u001b[1m0s\u001b[0m 2ms/step - accuracy: 0.7034 - loss: 0.7854\n",
      "Epoch 109: saving model to pose_detector.keras\n",
      "\u001b[1m937/937\u001b[0m \u001b[32m━━━━━━━━━━━━━━━━━━━━\u001b[0m\u001b[37m\u001b[0m \u001b[1m2s\u001b[0m 2ms/step - accuracy: 0.7033 - loss: 0.7854 - val_accuracy: 0.7711 - val_loss: 0.7011\n",
      "Epoch 110/1000\n",
      "\u001b[1m907/937\u001b[0m \u001b[32m━━━━━━━━━━━━━━━━━━━\u001b[0m\u001b[37m━\u001b[0m \u001b[1m0s\u001b[0m 2ms/step - accuracy: 0.7057 - loss: 0.7785\n",
      "Epoch 110: saving model to pose_detector.keras\n",
      "\u001b[1m937/937\u001b[0m \u001b[32m━━━━━━━━━━━━━━━━━━━━\u001b[0m\u001b[37m\u001b[0m \u001b[1m2s\u001b[0m 2ms/step - accuracy: 0.7056 - loss: 0.7786 - val_accuracy: 0.7889 - val_loss: 0.6600\n",
      "Epoch 111/1000\n",
      "\u001b[1m908/937\u001b[0m \u001b[32m━━━━━━━━━━━━━━━━━━━\u001b[0m\u001b[37m━\u001b[0m \u001b[1m0s\u001b[0m 2ms/step - accuracy: 0.7039 - loss: 0.7789\n",
      "Epoch 111: saving model to pose_detector.keras\n",
      "\u001b[1m937/937\u001b[0m \u001b[32m━━━━━━━━━━━━━━━━━━━━\u001b[0m\u001b[37m\u001b[0m \u001b[1m2s\u001b[0m 2ms/step - accuracy: 0.7038 - loss: 0.7790 - val_accuracy: 0.7858 - val_loss: 0.6668\n",
      "Epoch 112/1000\n",
      "\u001b[1m916/937\u001b[0m \u001b[32m━━━━━━━━━━━━━━━━━━━\u001b[0m\u001b[37m━\u001b[0m \u001b[1m0s\u001b[0m 2ms/step - accuracy: 0.7021 - loss: 0.7793\n",
      "Epoch 112: saving model to pose_detector.keras\n",
      "\u001b[1m937/937\u001b[0m \u001b[32m━━━━━━━━━━━━━━━━━━━━\u001b[0m\u001b[37m\u001b[0m \u001b[1m2s\u001b[0m 2ms/step - accuracy: 0.7021 - loss: 0.7794 - val_accuracy: 0.7526 - val_loss: 0.7394\n",
      "Epoch 113/1000\n",
      "\u001b[1m921/937\u001b[0m \u001b[32m━━━━━━━━━━━━━━━━━━━\u001b[0m\u001b[37m━\u001b[0m \u001b[1m0s\u001b[0m 1ms/step - accuracy: 0.7021 - loss: 0.7823\n",
      "Epoch 113: saving model to pose_detector.keras\n",
      "\u001b[1m937/937\u001b[0m \u001b[32m━━━━━━━━━━━━━━━━━━━━\u001b[0m\u001b[37m\u001b[0m \u001b[1m2s\u001b[0m 2ms/step - accuracy: 0.7021 - loss: 0.7823 - val_accuracy: 0.7618 - val_loss: 0.7199\n",
      "Epoch 114/1000\n",
      "\u001b[1m928/937\u001b[0m \u001b[32m━━━━━━━━━━━━━━━━━━━\u001b[0m\u001b[37m━\u001b[0m \u001b[1m0s\u001b[0m 2ms/step - accuracy: 0.7030 - loss: 0.7814\n",
      "Epoch 114: saving model to pose_detector.keras\n",
      "\u001b[1m937/937\u001b[0m \u001b[32m━━━━━━━━━━━━━━━━━━━━\u001b[0m\u001b[37m\u001b[0m \u001b[1m2s\u001b[0m 2ms/step - accuracy: 0.7030 - loss: 0.7814 - val_accuracy: 0.7804 - val_loss: 0.6933\n",
      "Epoch 115/1000\n",
      "\u001b[1m928/937\u001b[0m \u001b[32m━━━━━━━━━━━━━━━━━━━\u001b[0m\u001b[37m━\u001b[0m \u001b[1m0s\u001b[0m 1ms/step - accuracy: 0.7034 - loss: 0.7808\n",
      "Epoch 115: saving model to pose_detector.keras\n",
      "\u001b[1m937/937\u001b[0m \u001b[32m━━━━━━━━━━━━━━━━━━━━\u001b[0m\u001b[37m\u001b[0m \u001b[1m2s\u001b[0m 2ms/step - accuracy: 0.7034 - loss: 0.7808 - val_accuracy: 0.7921 - val_loss: 0.6467\n",
      "Epoch 116/1000\n",
      "\u001b[1m916/937\u001b[0m \u001b[32m━━━━━━━━━━━━━━━━━━━\u001b[0m\u001b[37m━\u001b[0m \u001b[1m0s\u001b[0m 1ms/step - accuracy: 0.7009 - loss: 0.7834\n",
      "Epoch 116: saving model to pose_detector.keras\n",
      "\u001b[1m937/937\u001b[0m \u001b[32m━━━━━━━━━━━━━━━━━━━━\u001b[0m\u001b[37m\u001b[0m \u001b[1m2s\u001b[0m 2ms/step - accuracy: 0.7010 - loss: 0.7834 - val_accuracy: 0.7886 - val_loss: 0.6604\n",
      "Epoch 117/1000\n",
      "\u001b[1m932/937\u001b[0m \u001b[32m━━━━━━━━━━━━━━━━━━━\u001b[0m\u001b[37m━\u001b[0m \u001b[1m0s\u001b[0m 1ms/step - accuracy: 0.7059 - loss: 0.7811\n",
      "Epoch 117: saving model to pose_detector.keras\n",
      "\u001b[1m937/937\u001b[0m \u001b[32m━━━━━━━━━━━━━━━━━━━━\u001b[0m\u001b[37m\u001b[0m \u001b[1m2s\u001b[0m 2ms/step - accuracy: 0.7059 - loss: 0.7811 - val_accuracy: 0.7761 - val_loss: 0.6972\n",
      "Epoch 118/1000\n",
      "\u001b[1m908/937\u001b[0m \u001b[32m━━━━━━━━━━━━━━━━━━━\u001b[0m\u001b[37m━\u001b[0m \u001b[1m0s\u001b[0m 2ms/step - accuracy: 0.7041 - loss: 0.7798\n",
      "Epoch 118: saving model to pose_detector.keras\n",
      "\u001b[1m937/937\u001b[0m \u001b[32m━━━━━━━━━━━━━━━━━━━━\u001b[0m\u001b[37m\u001b[0m \u001b[1m2s\u001b[0m 2ms/step - accuracy: 0.7040 - loss: 0.7799 - val_accuracy: 0.7717 - val_loss: 0.7001\n",
      "Epoch 119/1000\n",
      "\u001b[1m928/937\u001b[0m \u001b[32m━━━━━━━━━━━━━━━━━━━\u001b[0m\u001b[37m━\u001b[0m \u001b[1m0s\u001b[0m 1ms/step - accuracy: 0.7023 - loss: 0.7820\n",
      "Epoch 119: saving model to pose_detector.keras\n",
      "\u001b[1m937/937\u001b[0m \u001b[32m━━━━━━━━━━━━━━━━━━━━\u001b[0m\u001b[37m\u001b[0m \u001b[1m2s\u001b[0m 2ms/step - accuracy: 0.7024 - loss: 0.7820 - val_accuracy: 0.7619 - val_loss: 0.6980\n",
      "Epoch 120/1000\n",
      "\u001b[1m929/937\u001b[0m \u001b[32m━━━━━━━━━━━━━━━━━━━\u001b[0m\u001b[37m━\u001b[0m \u001b[1m0s\u001b[0m 1ms/step - accuracy: 0.7036 - loss: 0.7839\n",
      "Epoch 120: saving model to pose_detector.keras\n",
      "\u001b[1m937/937\u001b[0m \u001b[32m━━━━━━━━━━━━━━━━━━━━\u001b[0m\u001b[37m\u001b[0m \u001b[1m2s\u001b[0m 2ms/step - accuracy: 0.7036 - loss: 0.7839 - val_accuracy: 0.7694 - val_loss: 0.6996\n",
      "Epoch 121/1000\n",
      "\u001b[1m914/937\u001b[0m \u001b[32m━━━━━━━━━━━━━━━━━━━\u001b[0m\u001b[37m━\u001b[0m \u001b[1m0s\u001b[0m 1ms/step - accuracy: 0.7050 - loss: 0.7757\n",
      "Epoch 121: saving model to pose_detector.keras\n",
      "\u001b[1m937/937\u001b[0m \u001b[32m━━━━━━━━━━━━━━━━━━━━\u001b[0m\u001b[37m\u001b[0m \u001b[1m2s\u001b[0m 2ms/step - accuracy: 0.7050 - loss: 0.7757 - val_accuracy: 0.7562 - val_loss: 0.7433\n",
      "Epoch 122/1000\n",
      "\u001b[1m931/937\u001b[0m \u001b[32m━━━━━━━━━━━━━━━━━━━\u001b[0m\u001b[37m━\u001b[0m \u001b[1m0s\u001b[0m 1ms/step - accuracy: 0.7049 - loss: 0.7747\n",
      "Epoch 122: saving model to pose_detector.keras\n",
      "\u001b[1m937/937\u001b[0m \u001b[32m━━━━━━━━━━━━━━━━━━━━\u001b[0m\u001b[37m\u001b[0m \u001b[1m2s\u001b[0m 2ms/step - accuracy: 0.7048 - loss: 0.7748 - val_accuracy: 0.7983 - val_loss: 0.6393\n",
      "Epoch 123/1000\n",
      "\u001b[1m927/937\u001b[0m \u001b[32m━━━━━━━━━━━━━━━━━━━\u001b[0m\u001b[37m━\u001b[0m \u001b[1m0s\u001b[0m 1ms/step - accuracy: 0.7076 - loss: 0.7726\n",
      "Epoch 123: saving model to pose_detector.keras\n",
      "\u001b[1m937/937\u001b[0m \u001b[32m━━━━━━━━━━━━━━━━━━━━\u001b[0m\u001b[37m\u001b[0m \u001b[1m2s\u001b[0m 2ms/step - accuracy: 0.7076 - loss: 0.7726 - val_accuracy: 0.7391 - val_loss: 0.7410\n",
      "Epoch 124/1000\n",
      "\u001b[1m914/937\u001b[0m \u001b[32m━━━━━━━━━━━━━━━━━━━\u001b[0m\u001b[37m━\u001b[0m \u001b[1m0s\u001b[0m 1ms/step - accuracy: 0.7064 - loss: 0.7747\n",
      "Epoch 124: saving model to pose_detector.keras\n",
      "\u001b[1m937/937\u001b[0m \u001b[32m━━━━━━━━━━━━━━━━━━━━\u001b[0m\u001b[37m\u001b[0m \u001b[1m2s\u001b[0m 2ms/step - accuracy: 0.7064 - loss: 0.7748 - val_accuracy: 0.7869 - val_loss: 0.6624\n",
      "Epoch 125/1000\n",
      "\u001b[1m906/937\u001b[0m \u001b[32m━━━━━━━━━━━━━━━━━━━\u001b[0m\u001b[37m━\u001b[0m \u001b[1m0s\u001b[0m 2ms/step - accuracy: 0.7030 - loss: 0.7823\n",
      "Epoch 125: saving model to pose_detector.keras\n",
      "\u001b[1m937/937\u001b[0m \u001b[32m━━━━━━━━━━━━━━━━━━━━\u001b[0m\u001b[37m\u001b[0m \u001b[1m2s\u001b[0m 2ms/step - accuracy: 0.7030 - loss: 0.7823 - val_accuracy: 0.7599 - val_loss: 0.7300\n",
      "Epoch 126/1000\n",
      "\u001b[1m935/937\u001b[0m \u001b[32m━━━━━━━━━━━━━━━━━━━\u001b[0m\u001b[37m━\u001b[0m \u001b[1m0s\u001b[0m 1ms/step - accuracy: 0.7032 - loss: 0.7850\n",
      "Epoch 126: saving model to pose_detector.keras\n",
      "\u001b[1m937/937\u001b[0m \u001b[32m━━━━━━━━━━━━━━━━━━━━\u001b[0m\u001b[37m\u001b[0m \u001b[1m2s\u001b[0m 2ms/step - accuracy: 0.7032 - loss: 0.7850 - val_accuracy: 0.7646 - val_loss: 0.6854\n",
      "Epoch 127/1000\n",
      "\u001b[1m903/937\u001b[0m \u001b[32m━━━━━━━━━━━━━━━━━━━\u001b[0m\u001b[37m━\u001b[0m \u001b[1m0s\u001b[0m 1ms/step - accuracy: 0.7051 - loss: 0.7793\n",
      "Epoch 127: saving model to pose_detector.keras\n",
      "\u001b[1m937/937\u001b[0m \u001b[32m━━━━━━━━━━━━━━━━━━━━\u001b[0m\u001b[37m\u001b[0m \u001b[1m2s\u001b[0m 2ms/step - accuracy: 0.7051 - loss: 0.7794 - val_accuracy: 0.7463 - val_loss: 0.7358\n",
      "Epoch 128/1000\n",
      "\u001b[1m928/937\u001b[0m \u001b[32m━━━━━━━━━━━━━━━━━━━\u001b[0m\u001b[37m━\u001b[0m \u001b[1m0s\u001b[0m 1ms/step - accuracy: 0.7060 - loss: 0.7789\n",
      "Epoch 128: saving model to pose_detector.keras\n",
      "\u001b[1m937/937\u001b[0m \u001b[32m━━━━━━━━━━━━━━━━━━━━\u001b[0m\u001b[37m\u001b[0m \u001b[1m2s\u001b[0m 2ms/step - accuracy: 0.7060 - loss: 0.7789 - val_accuracy: 0.7704 - val_loss: 0.7013\n",
      "Epoch 129/1000\n",
      "\u001b[1m926/937\u001b[0m \u001b[32m━━━━━━━━━━━━━━━━━━━\u001b[0m\u001b[37m━\u001b[0m \u001b[1m0s\u001b[0m 1ms/step - accuracy: 0.7020 - loss: 0.7847\n",
      "Epoch 129: saving model to pose_detector.keras\n",
      "\u001b[1m937/937\u001b[0m \u001b[32m━━━━━━━━━━━━━━━━━━━━\u001b[0m\u001b[37m\u001b[0m \u001b[1m2s\u001b[0m 2ms/step - accuracy: 0.7020 - loss: 0.7847 - val_accuracy: 0.7439 - val_loss: 0.7403\n",
      "Epoch 130/1000\n",
      "\u001b[1m922/937\u001b[0m \u001b[32m━━━━━━━━━━━━━━━━━━━\u001b[0m\u001b[37m━\u001b[0m \u001b[1m0s\u001b[0m 1ms/step - accuracy: 0.7032 - loss: 0.7807\n",
      "Epoch 130: saving model to pose_detector.keras\n",
      "\u001b[1m937/937\u001b[0m \u001b[32m━━━━━━━━━━━━━━━━━━━━\u001b[0m\u001b[37m\u001b[0m \u001b[1m2s\u001b[0m 2ms/step - accuracy: 0.7032 - loss: 0.7807 - val_accuracy: 0.7346 - val_loss: 0.7526\n",
      "Epoch 131/1000\n",
      "\u001b[1m920/937\u001b[0m \u001b[32m━━━━━━━━━━━━━━━━━━━\u001b[0m\u001b[37m━\u001b[0m \u001b[1m0s\u001b[0m 1ms/step - accuracy: 0.7050 - loss: 0.7803\n",
      "Epoch 131: saving model to pose_detector.keras\n",
      "\u001b[1m937/937\u001b[0m \u001b[32m━━━━━━━━━━━━━━━━━━━━\u001b[0m\u001b[37m\u001b[0m \u001b[1m2s\u001b[0m 2ms/step - accuracy: 0.7049 - loss: 0.7803 - val_accuracy: 0.7793 - val_loss: 0.6985\n",
      "Epoch 132/1000\n",
      "\u001b[1m923/937\u001b[0m \u001b[32m━━━━━━━━━━━━━━━━━━━\u001b[0m\u001b[37m━\u001b[0m \u001b[1m0s\u001b[0m 1ms/step - accuracy: 0.7036 - loss: 0.7767\n",
      "Epoch 132: saving model to pose_detector.keras\n",
      "\u001b[1m937/937\u001b[0m \u001b[32m━━━━━━━━━━━━━━━━━━━━\u001b[0m\u001b[37m\u001b[0m \u001b[1m2s\u001b[0m 2ms/step - accuracy: 0.7036 - loss: 0.7767 - val_accuracy: 0.7812 - val_loss: 0.6738\n",
      "Epoch 133/1000\n",
      "\u001b[1m926/937\u001b[0m \u001b[32m━━━━━━━━━━━━━━━━━━━\u001b[0m\u001b[37m━\u001b[0m \u001b[1m0s\u001b[0m 1ms/step - accuracy: 0.7027 - loss: 0.7791\n",
      "Epoch 133: saving model to pose_detector.keras\n",
      "\u001b[1m937/937\u001b[0m \u001b[32m━━━━━━━━━━━━━━━━━━━━\u001b[0m\u001b[37m\u001b[0m \u001b[1m2s\u001b[0m 2ms/step - accuracy: 0.7027 - loss: 0.7791 - val_accuracy: 0.7801 - val_loss: 0.6922\n",
      "Epoch 134/1000\n",
      "\u001b[1m926/937\u001b[0m \u001b[32m━━━━━━━━━━━━━━━━━━━\u001b[0m\u001b[37m━\u001b[0m \u001b[1m0s\u001b[0m 1ms/step - accuracy: 0.7022 - loss: 0.7856\n",
      "Epoch 134: saving model to pose_detector.keras\n",
      "\u001b[1m937/937\u001b[0m \u001b[32m━━━━━━━━━━━━━━━━━━━━\u001b[0m\u001b[37m\u001b[0m \u001b[1m2s\u001b[0m 2ms/step - accuracy: 0.7022 - loss: 0.7855 - val_accuracy: 0.7448 - val_loss: 0.7481\n",
      "Epoch 135/1000\n",
      "\u001b[1m905/937\u001b[0m \u001b[32m━━━━━━━━━━━━━━━━━━━\u001b[0m\u001b[37m━\u001b[0m \u001b[1m0s\u001b[0m 1ms/step - accuracy: 0.7026 - loss: 0.7818\n",
      "Epoch 135: saving model to pose_detector.keras\n",
      "\u001b[1m937/937\u001b[0m \u001b[32m━━━━━━━━━━━━━━━━━━━━\u001b[0m\u001b[37m\u001b[0m \u001b[1m2s\u001b[0m 2ms/step - accuracy: 0.7027 - loss: 0.7817 - val_accuracy: 0.7618 - val_loss: 0.7221\n",
      "Epoch 136/1000\n",
      "\u001b[1m932/937\u001b[0m \u001b[32m━━━━━━━━━━━━━━━━━━━\u001b[0m\u001b[37m━\u001b[0m \u001b[1m0s\u001b[0m 1ms/step - accuracy: 0.7039 - loss: 0.7788\n",
      "Epoch 136: saving model to pose_detector.keras\n",
      "\u001b[1m937/937\u001b[0m \u001b[32m━━━━━━━━━━━━━━━━━━━━\u001b[0m\u001b[37m\u001b[0m \u001b[1m2s\u001b[0m 2ms/step - accuracy: 0.7039 - loss: 0.7788 - val_accuracy: 0.7815 - val_loss: 0.6841\n",
      "Epoch 137/1000\n",
      "\u001b[1m918/937\u001b[0m \u001b[32m━━━━━━━━━━━━━━━━━━━\u001b[0m\u001b[37m━\u001b[0m \u001b[1m0s\u001b[0m 1ms/step - accuracy: 0.7060 - loss: 0.7768\n",
      "Epoch 137: saving model to pose_detector.keras\n",
      "\u001b[1m937/937\u001b[0m \u001b[32m━━━━━━━━━━━━━━━━━━━━\u001b[0m\u001b[37m\u001b[0m \u001b[1m2s\u001b[0m 2ms/step - accuracy: 0.7059 - loss: 0.7769 - val_accuracy: 0.7431 - val_loss: 0.7351\n",
      "Epoch 138/1000\n",
      "\u001b[1m930/937\u001b[0m \u001b[32m━━━━━━━━━━━━━━━━━━━\u001b[0m\u001b[37m━\u001b[0m \u001b[1m0s\u001b[0m 1ms/step - accuracy: 0.7032 - loss: 0.7827\n",
      "Epoch 138: saving model to pose_detector.keras\n",
      "\u001b[1m937/937\u001b[0m \u001b[32m━━━━━━━━━━━━━━━━━━━━\u001b[0m\u001b[37m\u001b[0m \u001b[1m2s\u001b[0m 2ms/step - accuracy: 0.7032 - loss: 0.7826 - val_accuracy: 0.7689 - val_loss: 0.7010\n",
      "Epoch 139/1000\n",
      "\u001b[1m925/937\u001b[0m \u001b[32m━━━━━━━━━━━━━━━━━━━\u001b[0m\u001b[37m━\u001b[0m \u001b[1m0s\u001b[0m 1ms/step - accuracy: 0.7085 - loss: 0.7778\n",
      "Epoch 139: saving model to pose_detector.keras\n",
      "\u001b[1m937/937\u001b[0m \u001b[32m━━━━━━━━━━━━━━━━━━━━\u001b[0m\u001b[37m\u001b[0m \u001b[1m2s\u001b[0m 2ms/step - accuracy: 0.7084 - loss: 0.7778 - val_accuracy: 0.7792 - val_loss: 0.6915\n",
      "Epoch 140/1000\n",
      "\u001b[1m926/937\u001b[0m \u001b[32m━━━━━━━━━━━━━━━━━━━\u001b[0m\u001b[37m━\u001b[0m \u001b[1m0s\u001b[0m 1ms/step - accuracy: 0.7047 - loss: 0.7805\n",
      "Epoch 140: saving model to pose_detector.keras\n",
      "\u001b[1m937/937\u001b[0m \u001b[32m━━━━━━━━━━━━━━━━━━━━\u001b[0m\u001b[37m\u001b[0m \u001b[1m2s\u001b[0m 2ms/step - accuracy: 0.7047 - loss: 0.7805 - val_accuracy: 0.7580 - val_loss: 0.7140\n",
      "Epoch 141/1000\n",
      "\u001b[1m937/937\u001b[0m \u001b[32m━━━━━━━━━━━━━━━━━━━━\u001b[0m\u001b[37m\u001b[0m \u001b[1m0s\u001b[0m 1ms/step - accuracy: 0.7048 - loss: 0.7805\n",
      "Epoch 141: saving model to pose_detector.keras\n",
      "\u001b[1m937/937\u001b[0m \u001b[32m━━━━━━━━━━━━━━━━━━━━\u001b[0m\u001b[37m\u001b[0m \u001b[1m2s\u001b[0m 2ms/step - accuracy: 0.7048 - loss: 0.7805 - val_accuracy: 0.7537 - val_loss: 0.7186\n",
      "Epoch 142/1000\n",
      "\u001b[1m917/937\u001b[0m \u001b[32m━━━━━━━━━━━━━━━━━━━\u001b[0m\u001b[37m━\u001b[0m \u001b[1m0s\u001b[0m 1ms/step - accuracy: 0.7039 - loss: 0.7788\n",
      "Epoch 142: saving model to pose_detector.keras\n",
      "\u001b[1m937/937\u001b[0m \u001b[32m━━━━━━━━━━━━━━━━━━━━\u001b[0m\u001b[37m\u001b[0m \u001b[1m2s\u001b[0m 2ms/step - accuracy: 0.7039 - loss: 0.7788 - val_accuracy: 0.7586 - val_loss: 0.7282\n",
      "Epoch 143/1000\n",
      "\u001b[1m904/937\u001b[0m \u001b[32m━━━━━━━━━━━━━━━━━━━\u001b[0m\u001b[37m━\u001b[0m \u001b[1m0s\u001b[0m 1ms/step - accuracy: 0.7038 - loss: 0.7831\n",
      "Epoch 143: saving model to pose_detector.keras\n",
      "\u001b[1m937/937\u001b[0m \u001b[32m━━━━━━━━━━━━━━━━━━━━\u001b[0m\u001b[37m\u001b[0m \u001b[1m2s\u001b[0m 2ms/step - accuracy: 0.7037 - loss: 0.7830 - val_accuracy: 0.7710 - val_loss: 0.6974\n",
      "Epoch 144/1000\n",
      "\u001b[1m936/937\u001b[0m \u001b[32m━━━━━━━━━━━━━━━━━━━\u001b[0m\u001b[37m━\u001b[0m \u001b[1m0s\u001b[0m 1ms/step - accuracy: 0.7036 - loss: 0.7749\n",
      "Epoch 144: saving model to pose_detector.keras\n",
      "\u001b[1m937/937\u001b[0m \u001b[32m━━━━━━━━━━━━━━━━━━━━\u001b[0m\u001b[37m\u001b[0m \u001b[1m2s\u001b[0m 2ms/step - accuracy: 0.7036 - loss: 0.7750 - val_accuracy: 0.7474 - val_loss: 0.7371\n",
      "Epoch 145/1000\n",
      "\u001b[1m929/937\u001b[0m \u001b[32m━━━━━━━━━━━━━━━━━━━\u001b[0m\u001b[37m━\u001b[0m \u001b[1m0s\u001b[0m 1ms/step - accuracy: 0.7048 - loss: 0.7759\n",
      "Epoch 145: saving model to pose_detector.keras\n",
      "\u001b[1m937/937\u001b[0m \u001b[32m━━━━━━━━━━━━━━━━━━━━\u001b[0m\u001b[37m\u001b[0m \u001b[1m2s\u001b[0m 2ms/step - accuracy: 0.7048 - loss: 0.7759 - val_accuracy: 0.7497 - val_loss: 0.7367\n",
      "Epoch 146/1000\n",
      "\u001b[1m925/937\u001b[0m \u001b[32m━━━━━━━━━━━━━━━━━━━\u001b[0m\u001b[37m━\u001b[0m \u001b[1m0s\u001b[0m 1ms/step - accuracy: 0.7071 - loss: 0.7746\n",
      "Epoch 146: saving model to pose_detector.keras\n",
      "\u001b[1m937/937\u001b[0m \u001b[32m━━━━━━━━━━━━━━━━━━━━\u001b[0m\u001b[37m\u001b[0m \u001b[1m2s\u001b[0m 2ms/step - accuracy: 0.7071 - loss: 0.7746 - val_accuracy: 0.7107 - val_loss: 0.7825\n",
      "Epoch 147/1000\n",
      "\u001b[1m927/937\u001b[0m \u001b[32m━━━━━━━━━━━━━━━━━━━\u001b[0m\u001b[37m━\u001b[0m \u001b[1m0s\u001b[0m 1ms/step - accuracy: 0.7038 - loss: 0.7806\n",
      "Epoch 147: saving model to pose_detector.keras\n",
      "\u001b[1m937/937\u001b[0m \u001b[32m━━━━━━━━━━━━━━━━━━━━\u001b[0m\u001b[37m\u001b[0m \u001b[1m2s\u001b[0m 2ms/step - accuracy: 0.7039 - loss: 0.7806 - val_accuracy: 0.7023 - val_loss: 0.7945\n",
      "Epoch 148/1000\n",
      "\u001b[1m903/937\u001b[0m \u001b[32m━━━━━━━━━━━━━━━━━━━\u001b[0m\u001b[37m━\u001b[0m \u001b[1m0s\u001b[0m 1ms/step - accuracy: 0.7021 - loss: 0.7773\n",
      "Epoch 148: saving model to pose_detector.keras\n",
      "\u001b[1m937/937\u001b[0m \u001b[32m━━━━━━━━━━━━━━━━━━━━\u001b[0m\u001b[37m\u001b[0m \u001b[1m2s\u001b[0m 2ms/step - accuracy: 0.7021 - loss: 0.7771 - val_accuracy: 0.7668 - val_loss: 0.7011\n",
      "Epoch 149/1000\n",
      "\u001b[1m909/937\u001b[0m \u001b[32m━━━━━━━━━━━━━━━━━━━\u001b[0m\u001b[37m━\u001b[0m \u001b[1m0s\u001b[0m 1ms/step - accuracy: 0.7056 - loss: 0.7757\n",
      "Epoch 149: saving model to pose_detector.keras\n",
      "\u001b[1m937/937\u001b[0m \u001b[32m━━━━━━━━━━━━━━━━━━━━\u001b[0m\u001b[37m\u001b[0m \u001b[1m2s\u001b[0m 2ms/step - accuracy: 0.7056 - loss: 0.7757 - val_accuracy: 0.7720 - val_loss: 0.6901\n",
      "Epoch 150/1000\n",
      "\u001b[1m915/937\u001b[0m \u001b[32m━━━━━━━━━━━━━━━━━━━\u001b[0m\u001b[37m━\u001b[0m \u001b[1m0s\u001b[0m 1ms/step - accuracy: 0.7033 - loss: 0.7863\n",
      "Epoch 150: saving model to pose_detector.keras\n",
      "\u001b[1m937/937\u001b[0m \u001b[32m━━━━━━━━━━━━━━━━━━━━\u001b[0m\u001b[37m\u001b[0m \u001b[1m2s\u001b[0m 2ms/step - accuracy: 0.7034 - loss: 0.7861 - val_accuracy: 0.7695 - val_loss: 0.6898\n",
      "Epoch 151/1000\n",
      "\u001b[1m907/937\u001b[0m \u001b[32m━━━━━━━━━━━━━━━━━━━\u001b[0m\u001b[37m━\u001b[0m \u001b[1m0s\u001b[0m 1ms/step - accuracy: 0.7045 - loss: 0.7840\n",
      "Epoch 151: saving model to pose_detector.keras\n",
      "\u001b[1m937/937\u001b[0m \u001b[32m━━━━━━━━━━━━━━━━━━━━\u001b[0m\u001b[37m\u001b[0m \u001b[1m2s\u001b[0m 2ms/step - accuracy: 0.7045 - loss: 0.7839 - val_accuracy: 0.7461 - val_loss: 0.7386\n",
      "Epoch 152/1000\n",
      "\u001b[1m918/937\u001b[0m \u001b[32m━━━━━━━━━━━━━━━━━━━\u001b[0m\u001b[37m━\u001b[0m \u001b[1m0s\u001b[0m 1ms/step - accuracy: 0.7067 - loss: 0.7723\n",
      "Epoch 152: saving model to pose_detector.keras\n",
      "\u001b[1m937/937\u001b[0m \u001b[32m━━━━━━━━━━━━━━━━━━━━\u001b[0m\u001b[37m\u001b[0m \u001b[1m2s\u001b[0m 2ms/step - accuracy: 0.7067 - loss: 0.7724 - val_accuracy: 0.7167 - val_loss: 0.7712\n",
      "Epoch 153/1000\n",
      "\u001b[1m923/937\u001b[0m \u001b[32m━━━━━━━━━━━━━━━━━━━\u001b[0m\u001b[37m━\u001b[0m \u001b[1m0s\u001b[0m 1ms/step - accuracy: 0.7077 - loss: 0.7736\n",
      "Epoch 153: saving model to pose_detector.keras\n",
      "\u001b[1m937/937\u001b[0m \u001b[32m━━━━━━━━━━━━━━━━━━━━\u001b[0m\u001b[37m\u001b[0m \u001b[1m2s\u001b[0m 2ms/step - accuracy: 0.7076 - loss: 0.7737 - val_accuracy: 0.7503 - val_loss: 0.7273\n",
      "Epoch 154/1000\n",
      "\u001b[1m935/937\u001b[0m \u001b[32m━━━━━━━━━━━━━━━━━━━\u001b[0m\u001b[37m━\u001b[0m \u001b[1m0s\u001b[0m 2ms/step - accuracy: 0.7054 - loss: 0.7799\n",
      "Epoch 154: saving model to pose_detector.keras\n",
      "\u001b[1m937/937\u001b[0m \u001b[32m━━━━━━━━━━━━━━━━━━━━\u001b[0m\u001b[37m\u001b[0m \u001b[1m2s\u001b[0m 2ms/step - accuracy: 0.7054 - loss: 0.7799 - val_accuracy: 0.7466 - val_loss: 0.7529\n",
      "Epoch 155/1000\n",
      "\u001b[1m909/937\u001b[0m \u001b[32m━━━━━━━━━━━━━━━━━━━\u001b[0m\u001b[37m━\u001b[0m \u001b[1m0s\u001b[0m 2ms/step - accuracy: 0.7060 - loss: 0.7773\n",
      "Epoch 155: saving model to pose_detector.keras\n",
      "\u001b[1m937/937\u001b[0m \u001b[32m━━━━━━━━━━━━━━━━━━━━\u001b[0m\u001b[37m\u001b[0m \u001b[1m2s\u001b[0m 2ms/step - accuracy: 0.7059 - loss: 0.7773 - val_accuracy: 0.7521 - val_loss: 0.7181\n",
      "Epoch 156/1000\n",
      "\u001b[1m926/937\u001b[0m \u001b[32m━━━━━━━━━━━━━━━━━━━\u001b[0m\u001b[37m━\u001b[0m \u001b[1m0s\u001b[0m 1ms/step - accuracy: 0.7039 - loss: 0.7766\n",
      "Epoch 156: saving model to pose_detector.keras\n",
      "\u001b[1m937/937\u001b[0m \u001b[32m━━━━━━━━━━━━━━━━━━━━\u001b[0m\u001b[37m\u001b[0m \u001b[1m2s\u001b[0m 2ms/step - accuracy: 0.7039 - loss: 0.7766 - val_accuracy: 0.7487 - val_loss: 0.7258\n",
      "Epoch 157/1000\n",
      "\u001b[1m907/937\u001b[0m \u001b[32m━━━━━━━━━━━━━━━━━━━\u001b[0m\u001b[37m━\u001b[0m \u001b[1m0s\u001b[0m 2ms/step - accuracy: 0.7050 - loss: 0.7803\n",
      "Epoch 157: saving model to pose_detector.keras\n",
      "\u001b[1m937/937\u001b[0m \u001b[32m━━━━━━━━━━━━━━━━━━━━\u001b[0m\u001b[37m\u001b[0m \u001b[1m2s\u001b[0m 2ms/step - accuracy: 0.7050 - loss: 0.7803 - val_accuracy: 0.7397 - val_loss: 0.7393\n",
      "Epoch 158/1000\n",
      "\u001b[1m917/937\u001b[0m \u001b[32m━━━━━━━━━━━━━━━━━━━\u001b[0m\u001b[37m━\u001b[0m \u001b[1m0s\u001b[0m 2ms/step - accuracy: 0.7052 - loss: 0.7804\n",
      "Epoch 158: saving model to pose_detector.keras\n",
      "\u001b[1m937/937\u001b[0m \u001b[32m━━━━━━━━━━━━━━━━━━━━\u001b[0m\u001b[37m\u001b[0m \u001b[1m2s\u001b[0m 2ms/step - accuracy: 0.7052 - loss: 0.7804 - val_accuracy: 0.7606 - val_loss: 0.7043\n",
      "Epoch 159/1000\n",
      "\u001b[1m932/937\u001b[0m \u001b[32m━━━━━━━━━━━━━━━━━━━\u001b[0m\u001b[37m━\u001b[0m \u001b[1m0s\u001b[0m 1ms/step - accuracy: 0.7044 - loss: 0.7848\n",
      "Epoch 159: saving model to pose_detector.keras\n",
      "\u001b[1m937/937\u001b[0m \u001b[32m━━━━━━━━━━━━━━━━━━━━\u001b[0m\u001b[37m\u001b[0m \u001b[1m2s\u001b[0m 2ms/step - accuracy: 0.7044 - loss: 0.7848 - val_accuracy: 0.7404 - val_loss: 0.7388\n",
      "Epoch 160/1000\n",
      "\u001b[1m920/937\u001b[0m \u001b[32m━━━━━━━━━━━━━━━━━━━\u001b[0m\u001b[37m━\u001b[0m \u001b[1m0s\u001b[0m 2ms/step - accuracy: 0.7043 - loss: 0.7783\n",
      "Epoch 160: saving model to pose_detector.keras\n",
      "\u001b[1m937/937\u001b[0m \u001b[32m━━━━━━━━━━━━━━━━━━━━\u001b[0m\u001b[37m\u001b[0m \u001b[1m2s\u001b[0m 2ms/step - accuracy: 0.7043 - loss: 0.7783 - val_accuracy: 0.7196 - val_loss: 0.7730\n",
      "Epoch 161/1000\n",
      "\u001b[1m914/937\u001b[0m \u001b[32m━━━━━━━━━━━━━━━━━━━\u001b[0m\u001b[37m━\u001b[0m \u001b[1m0s\u001b[0m 2ms/step - accuracy: 0.7082 - loss: 0.7709\n",
      "Epoch 161: saving model to pose_detector.keras\n",
      "\u001b[1m937/937\u001b[0m \u001b[32m━━━━━━━━━━━━━━━━━━━━\u001b[0m\u001b[37m\u001b[0m \u001b[1m2s\u001b[0m 2ms/step - accuracy: 0.7082 - loss: 0.7710 - val_accuracy: 0.7089 - val_loss: 0.7739\n",
      "Epoch 162/1000\n",
      "\u001b[1m918/937\u001b[0m \u001b[32m━━━━━━━━━━━━━━━━━━━\u001b[0m\u001b[37m━\u001b[0m \u001b[1m0s\u001b[0m 2ms/step - accuracy: 0.7044 - loss: 0.7822\n",
      "Epoch 162: saving model to pose_detector.keras\n",
      "\u001b[1m937/937\u001b[0m \u001b[32m━━━━━━━━━━━━━━━━━━━━\u001b[0m\u001b[37m\u001b[0m \u001b[1m2s\u001b[0m 2ms/step - accuracy: 0.7044 - loss: 0.7822 - val_accuracy: 0.7234 - val_loss: 0.7647\n",
      "Epoch 163/1000\n",
      "\u001b[1m922/937\u001b[0m \u001b[32m━━━━━━━━━━━━━━━━━━━\u001b[0m\u001b[37m━\u001b[0m \u001b[1m0s\u001b[0m 2ms/step - accuracy: 0.7031 - loss: 0.7840\n",
      "Epoch 163: saving model to pose_detector.keras\n",
      "\u001b[1m937/937\u001b[0m \u001b[32m━━━━━━━━━━━━━━━━━━━━\u001b[0m\u001b[37m\u001b[0m \u001b[1m2s\u001b[0m 2ms/step - accuracy: 0.7031 - loss: 0.7840 - val_accuracy: 0.7397 - val_loss: 0.7327\n",
      "Epoch 164/1000\n",
      "\u001b[1m937/937\u001b[0m \u001b[32m━━━━━━━━━━━━━━━━━━━━\u001b[0m\u001b[37m\u001b[0m \u001b[1m0s\u001b[0m 2ms/step - accuracy: 0.7041 - loss: 0.7796\n",
      "Epoch 164: saving model to pose_detector.keras\n",
      "\u001b[1m937/937\u001b[0m \u001b[32m━━━━━━━━━━━━━━━━━━━━\u001b[0m\u001b[37m\u001b[0m \u001b[1m2s\u001b[0m 2ms/step - accuracy: 0.7041 - loss: 0.7796 - val_accuracy: 0.7705 - val_loss: 0.6735\n",
      "Epoch 165/1000\n",
      "\u001b[1m935/937\u001b[0m \u001b[32m━━━━━━━━━━━━━━━━━━━\u001b[0m\u001b[37m━\u001b[0m \u001b[1m0s\u001b[0m 2ms/step - accuracy: 0.7057 - loss: 0.7767\n",
      "Epoch 165: saving model to pose_detector.keras\n",
      "\u001b[1m937/937\u001b[0m \u001b[32m━━━━━━━━━━━━━━━━━━━━\u001b[0m\u001b[37m\u001b[0m \u001b[1m2s\u001b[0m 2ms/step - accuracy: 0.7057 - loss: 0.7767 - val_accuracy: 0.7348 - val_loss: 0.7371\n",
      "Epoch 166/1000\n",
      "\u001b[1m914/937\u001b[0m \u001b[32m━━━━━━━━━━━━━━━━━━━\u001b[0m\u001b[37m━\u001b[0m \u001b[1m0s\u001b[0m 1ms/step - accuracy: 0.7044 - loss: 0.7773\n",
      "Epoch 166: saving model to pose_detector.keras\n",
      "\u001b[1m937/937\u001b[0m \u001b[32m━━━━━━━━━━━━━━━━━━━━\u001b[0m\u001b[37m\u001b[0m \u001b[1m2s\u001b[0m 2ms/step - accuracy: 0.7044 - loss: 0.7773 - val_accuracy: 0.7562 - val_loss: 0.7078\n",
      "Epoch 167/1000\n",
      "\u001b[1m914/937\u001b[0m \u001b[32m━━━━━━━━━━━━━━━━━━━\u001b[0m\u001b[37m━\u001b[0m \u001b[1m0s\u001b[0m 1ms/step - accuracy: 0.7037 - loss: 0.7815\n",
      "Epoch 167: saving model to pose_detector.keras\n",
      "\u001b[1m937/937\u001b[0m \u001b[32m━━━━━━━━━━━━━━━━━━━━\u001b[0m\u001b[37m\u001b[0m \u001b[1m2s\u001b[0m 2ms/step - accuracy: 0.7037 - loss: 0.7815 - val_accuracy: 0.7226 - val_loss: 0.7882\n",
      "Epoch 168/1000\n",
      "\u001b[1m932/937\u001b[0m \u001b[32m━━━━━━━━━━━━━━━━━━━\u001b[0m\u001b[37m━\u001b[0m \u001b[1m0s\u001b[0m 1ms/step - accuracy: 0.7087 - loss: 0.7738\n",
      "Epoch 168: saving model to pose_detector.keras\n",
      "\u001b[1m937/937\u001b[0m \u001b[32m━━━━━━━━━━━━━━━━━━━━\u001b[0m\u001b[37m\u001b[0m \u001b[1m2s\u001b[0m 2ms/step - accuracy: 0.7087 - loss: 0.7738 - val_accuracy: 0.7640 - val_loss: 0.7056\n",
      "Epoch 169/1000\n",
      "\u001b[1m931/937\u001b[0m \u001b[32m━━━━━━━━━━━━━━━━━━━\u001b[0m\u001b[37m━\u001b[0m \u001b[1m0s\u001b[0m 2ms/step - accuracy: 0.7071 - loss: 0.7737\n",
      "Epoch 169: saving model to pose_detector.keras\n",
      "\u001b[1m937/937\u001b[0m \u001b[32m━━━━━━━━━━━━━━━━━━━━\u001b[0m\u001b[37m\u001b[0m \u001b[1m2s\u001b[0m 2ms/step - accuracy: 0.7071 - loss: 0.7737 - val_accuracy: 0.7067 - val_loss: 0.7873\n",
      "Epoch 170/1000\n",
      "\u001b[1m916/937\u001b[0m \u001b[32m━━━━━━━━━━━━━━━━━━━\u001b[0m\u001b[37m━\u001b[0m \u001b[1m0s\u001b[0m 2ms/step - accuracy: 0.7063 - loss: 0.7765\n",
      "Epoch 170: saving model to pose_detector.keras\n",
      "\u001b[1m937/937\u001b[0m \u001b[32m━━━━━━━━━━━━━━━━━━━━\u001b[0m\u001b[37m\u001b[0m \u001b[1m2s\u001b[0m 2ms/step - accuracy: 0.7062 - loss: 0.7765 - val_accuracy: 0.7337 - val_loss: 0.7528\n",
      "Epoch 171/1000\n",
      "\u001b[1m930/937\u001b[0m \u001b[32m━━━━━━━━━━━━━━━━━━━\u001b[0m\u001b[37m━\u001b[0m \u001b[1m0s\u001b[0m 1ms/step - accuracy: 0.7044 - loss: 0.7798\n",
      "Epoch 171: saving model to pose_detector.keras\n",
      "\u001b[1m937/937\u001b[0m \u001b[32m━━━━━━━━━━━━━━━━━━━━\u001b[0m\u001b[37m\u001b[0m \u001b[1m2s\u001b[0m 2ms/step - accuracy: 0.7044 - loss: 0.7798 - val_accuracy: 0.7275 - val_loss: 0.7651\n",
      "Epoch 171: early stopping\n"
     ]
    },
    {
     "data": {
      "text/plain": [
       "<keras.src.callbacks.history.History at 0x7fa2d45bf4f0>"
      ]
     },
     "execution_count": 49,
     "metadata": {},
     "output_type": "execute_result"
    }
   ],
   "source": [
    "model.fit(\n",
    "    X_train,\n",
    "    y_train,\n",
    "    epochs=1000,\n",
    "    batch_size=128,\n",
    "    validation_data=(X_test, y_test),\n",
    "    callbacks=[cp_callback, es_callback]\n",
    ")"
   ]
  },
  {
   "cell_type": "code",
   "execution_count": 50,
   "id": "bee66f9c54fd061a",
   "metadata": {
    "ExecuteTime": {
     "end_time": "2025-01-12T08:35:58.997940Z",
     "start_time": "2025-01-12T08:35:58.638453Z"
    }
   },
   "outputs": [
    {
     "name": "stdout",
     "output_type": "stream",
     "text": [
      "\u001b[1m235/235\u001b[0m \u001b[32m━━━━━━━━━━━━━━━━━━━━\u001b[0m\u001b[37m\u001b[0m \u001b[1m0s\u001b[0m 1ms/step - accuracy: 0.7233 - loss: 0.7676\n"
     ]
    }
   ],
   "source": [
    "# Model evaluation\n",
    "val_loss, val_acc = model.evaluate(X_test, y_test, batch_size=128)"
   ]
  },
  {
   "cell_type": "code",
   "execution_count": 51,
   "id": "c65e310e018d0999",
   "metadata": {
    "ExecuteTime": {
     "end_time": "2025-01-12T08:35:59.081354Z",
     "start_time": "2025-01-12T08:35:59.009408Z"
    }
   },
   "outputs": [],
   "source": [
    "# Loading the saved model\n",
    "model = tf.keras.models.load_model(model_save_path)"
   ]
  },
  {
   "cell_type": "code",
   "execution_count": 52,
   "id": "68cb8d57dd3b99da",
   "metadata": {
    "ExecuteTime": {
     "end_time": "2025-01-12T08:35:59.174474Z",
     "start_time": "2025-01-12T08:35:59.090979Z"
    }
   },
   "outputs": [
    {
     "name": "stdout",
     "output_type": "stream",
     "text": [
      "\u001b[1m1/1\u001b[0m \u001b[32m━━━━━━━━━━━━━━━━━━━━\u001b[0m\u001b[37m\u001b[0m \u001b[1m0s\u001b[0m 43ms/step\n",
      "[2.1556512e-01 7.1157759e-01 7.1356699e-02 2.2337877e-17 9.2062663e-07\n",
      " 1.4997247e-03]\n",
      "1\n"
     ]
    }
   ],
   "source": [
    "# Inference test\n",
    "predict_result = model.predict(np.array([X_test[0]]))\n",
    "print(np.squeeze(predict_result))\n",
    "print(np.argmax(np.squeeze(predict_result)))"
   ]
  },
  {
   "cell_type": "markdown",
   "id": "4cc6a7d86e0bda9a",
   "metadata": {},
   "source": [
    "# Save Model to TFfile"
   ]
  },
  {
   "cell_type": "code",
   "execution_count": 53,
   "id": "dc4c80922090aa2e",
   "metadata": {
    "ExecuteTime": {
     "end_time": "2025-01-12T08:35:59.337284Z",
     "start_time": "2025-01-12T08:35:59.192797Z"
    }
   },
   "outputs": [
    {
     "name": "stdout",
     "output_type": "stream",
     "text": [
      "INFO:tensorflow:Assets written to: pose_detector/assets\n"
     ]
    },
    {
     "name": "stderr",
     "output_type": "stream",
     "text": [
      "INFO:tensorflow:Assets written to: pose_detector/assets\n"
     ]
    },
    {
     "name": "stdout",
     "output_type": "stream",
     "text": [
      "Saved artifact at 'pose_detector'. The following endpoints are available:\n",
      "\n",
      "* Endpoint 'serve'\n",
      "  args_0 (POSITIONAL_ONLY): TensorSpec(shape=(None, 9), dtype=tf.float32, name='input_layer_2')\n",
      "Output Type:\n",
      "  TensorSpec(shape=(None, 6), dtype=tf.float32, name=None)\n",
      "Captures:\n",
      "  140336112585360: TensorSpec(shape=(), dtype=tf.resource, name=None)\n",
      "  140337324007920: TensorSpec(shape=(), dtype=tf.resource, name=None)\n",
      "  140336112030240: TensorSpec(shape=(), dtype=tf.resource, name=None)\n",
      "  140336112030064: TensorSpec(shape=(), dtype=tf.resource, name=None)\n",
      "  140336112033584: TensorSpec(shape=(), dtype=tf.resource, name=None)\n",
      "  140336112033232: TensorSpec(shape=(), dtype=tf.resource, name=None)\n"
     ]
    }
   ],
   "source": [
    "model.export(model_save_name)"
   ]
  },
  {
   "cell_type": "code",
   "execution_count": 54,
   "id": "e80270ee32ef7ecf",
   "metadata": {
    "ExecuteTime": {
     "end_time": "2025-01-12T08:35:59.691298Z",
     "start_time": "2025-01-12T08:35:59.381195Z"
    }
   },
   "outputs": [
    {
     "name": "stderr",
     "output_type": "stream",
     "text": [
      "W0000 00:00:1739095077.493443   52366 tf_tfl_flatbuffer_helpers.cc:365] Ignored output_format.\n",
      "W0000 00:00:1739095077.493467   52366 tf_tfl_flatbuffer_helpers.cc:368] Ignored drop_control_dependency.\n",
      "2025-02-09 17:57:57.493667: I tensorflow/cc/saved_model/reader.cc:83] Reading SavedModel from: pose_detector\n",
      "2025-02-09 17:57:57.494322: I tensorflow/cc/saved_model/reader.cc:52] Reading meta graph with tags { serve }\n",
      "2025-02-09 17:57:57.494335: I tensorflow/cc/saved_model/reader.cc:147] Reading SavedModel debug info (if present) from: pose_detector\n",
      "2025-02-09 17:57:57.498577: I tensorflow/cc/saved_model/loader.cc:236] Restoring SavedModel bundle.\n",
      "2025-02-09 17:57:57.519286: I tensorflow/cc/saved_model/loader.cc:220] Running initialization op on SavedModel bundle at path: pose_detector\n",
      "2025-02-09 17:57:57.526382: I tensorflow/cc/saved_model/loader.cc:466] SavedModel load for tags { serve }; Status: success: OK. Took 32720 microseconds.\n"
     ]
    }
   ],
   "source": [
    "converter = tf.lite.TFLiteConverter.from_saved_model(model_save_name)\n",
    "tflite_model = converter.convert()"
   ]
  },
  {
   "cell_type": "code",
   "execution_count": 55,
   "id": "9c02c461eae437d0",
   "metadata": {
    "ExecuteTime": {
     "end_time": "2025-01-12T08:35:59.703539Z",
     "start_time": "2025-01-12T08:35:59.700968Z"
    }
   },
   "outputs": [],
   "source": [
    "with open(model_tflite_name, 'wb') as f:\n",
    "    f.write(tflite_model)"
   ]
  },
  {
   "cell_type": "markdown",
   "id": "c246179bb37dcf1f",
   "metadata": {},
   "source": [
    "# Confussion Matrix"
   ]
  },
  {
   "cell_type": "code",
   "execution_count": 56,
   "id": "8d4700bbdcfe605e",
   "metadata": {
    "ExecuteTime": {
     "end_time": "2025-01-12T08:36:00.892260Z",
     "start_time": "2025-01-12T08:35:59.747853Z"
    }
   },
   "outputs": [
    {
     "name": "stdout",
     "output_type": "stream",
     "text": [
      "\u001b[1m937/937\u001b[0m \u001b[32m━━━━━━━━━━━━━━━━━━━━\u001b[0m\u001b[37m\u001b[0m \u001b[1m1s\u001b[0m 666us/step\n"
     ]
    },
    {
     "data": {
      "image/png": "[encoded data removed]",
      "text/plain": [
       "<Figure size 700x600 with 2 Axes>"
      ]
     },
     "metadata": {},
     "output_type": "display_data"
    },
    {
     "name": "stdout",
     "output_type": "stream",
     "text": [
      "Classification Report\n",
      "              precision    recall  f1-score   support\n",
      "\n",
      "           0       0.66      0.86      0.75      4824\n",
      "           1       0.84      0.73      0.78      5035\n",
      "           2       0.71      0.52      0.60      5009\n",
      "           3       0.94      0.64      0.76      5039\n",
      "           4       0.70      0.96      0.81      5045\n",
      "           5       0.62      0.66      0.64      5019\n",
      "\n",
      "    accuracy                           0.73     29971\n",
      "   macro avg       0.75      0.73      0.72     29971\n",
      "weighted avg       0.75      0.73      0.72     29971\n",
      "\n"
     ]
    }
   ],
   "source": [
    "import pandas as pd\n",
    "import seaborn as sns\n",
    "import matplotlib.pyplot as plt\n",
    "from sklearn.metrics import confusion_matrix, classification_report\n",
    "\n",
    "def print_confusion_matrix(y_true, y_pred, report=True):\n",
    "    labels = sorted(list(set(y_true)))\n",
    "    label_name = ['fist', 'index', 'middle', 'palm', 'two_fingger_close', 'v_gest']\n",
    "    cmx_data = confusion_matrix(y_true, y_pred, labels=labels)\n",
    "\n",
    "    df_cmx = pd.DataFrame(cmx_data, index=label_name, columns=label_name)\n",
    "\n",
    "    fig, ax = plt.subplots(figsize=(7, 6))\n",
    "    sns.heatmap(df_cmx, annot=True, fmt='g' ,square=False)\n",
    "    ax.set_ylim(len(set(y_true)), 0)\n",
    "    plt.show()\n",
    "\n",
    "    if report:\n",
    "        print('Classification Report')\n",
    "        print(classification_report(y_test, y_pred))\n",
    "\n",
    "Y_pred = model.predict(X_test)\n",
    "y_pred = np.argmax(Y_pred, axis=1)\n",
    "\n",
    "print_confusion_matrix(y_test, y_pred)"
   ]
  },
  {
   "cell_type": "code",
   "execution_count": null,
   "id": "52243f31",
   "metadata": {},
   "outputs": [],
   "source": []
  }
 ],
 "metadata": {
  "kernelspec": {
   "display_name": "hand-mouse",
   "language": "python",
   "name": "python3"
  },
  "language_info": {
   "codemirror_mode": {
    "name": "ipython",
    "version": 3
   },
   "file_extension": ".py",
   "mimetype": "text/x-python",
   "name": "python",
   "nbconvert_exporter": "python",
   "pygments_lexer": "ipython3",
   "version": "3.10.11"
  }
 },
 "nbformat": 4,
 "nbformat_minor": 5
}
